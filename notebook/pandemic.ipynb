{
 "cells": [
  {
   "cell_type": "code",
   "execution_count": 138,
   "metadata": {},
   "outputs": [],
   "source": [
    "# import dependencies\n",
    "import pandas as pd\n",
    "import numpy as np\n",
    "import random\n"
   ]
  },
  {
   "cell_type": "code",
   "execution_count": 158,
   "metadata": {},
   "outputs": [],
   "source": [
    "# function to determine new threshold case count\n",
    "def nthThresh(n,t):\n",
    "    return 100 * n + t\n"
   ]
  },
  {
   "cell_type": "code",
   "execution_count": 159,
   "metadata": {},
   "outputs": [],
   "source": [
    "# function to adjust spreadProbs weights and calculate r0 for corresponding threshold\n",
    "def thisThresh():\n",
    "    if n == 1:\n",
    "        spreadProbs[3] -= 1\n",
    "        spreadProbs[2] += 1\n",
    "    elif n == 2:\n",
    "        spreadProbs[3] -= 1\n",
    "        spreadProbs[1] += 1\n",
    "    elif n == 13:\n",
    "        spreadProbs[2] -= 1\n",
    "        spreadProbs[0] += 1\n",
    "    elif n == 14:\n",
    "        spreadProbs[1] -= 1\n",
    "        spreadProbs[0] += 1\n",
    "    elif n != 0 and n < 13:\n",
    "        spreadProbs[3] -= 1\n",
    "        spreadProbs[0] += 1\n",
    "    r0 = (spreadProbs[1] + 2*spreadProbs[2] + 3*spreadProbs[3]) / sum(spreadProbs)\n",
    "    "
   ]
  },
  {
   "cell_type": "code",
   "execution_count": 176,
   "metadata": {},
   "outputs": [],
   "source": [
    "# function to generate a value based on a probability distribution array\n",
    "def decide(probsArray):\n",
    "    return random.choices(list(range(0,len(probsArray))),weights=probsArray)[0]\n"
   ]
  },
  {
   "cell_type": "code",
   "execution_count": 177,
   "metadata": {},
   "outputs": [
    {
     "data": {
      "text/plain": [
       "3"
      ]
     },
     "execution_count": 177,
     "metadata": {},
     "output_type": "execute_result"
    }
   ],
   "source": [
    "decide(spreadProbs)\n"
   ]
  },
  {
   "cell_type": "code",
   "execution_count": 178,
   "metadata": {},
   "outputs": [],
   "source": [
    "# probabilities for which demographic a new case will belong to\n",
    "infectProbs = [1,1,2,2,3,1]\n",
    "# probability that an infection will result in death for each demographic\n",
    "deathProbs = [1,2,3,4,5,6]\n",
    "# weighted probabilities for #people the current case can spread infection to\n",
    "# (from left to right, values refer to weights for 0, 1, 2, and 3 new infections)\n",
    "spreadProbs = [0,0,0,12]\n",
    "# cases remaining (one case to start it off)\n",
    "more = 1\n",
    "# cases that have occured\n",
    "caseCount = 0\n",
    "# deaths that have occured\n",
    "deathCount = 0\n",
    "# case count threshold for when new r0 shoud be calculated\n",
    "thresh = 0\n",
    "# nth threshold\n",
    "n = 1\n",
    "# infection rate\n",
    "r0 = 3\n",
    "# dictionary with all data\n",
    "weathering = {\n",
    "    0: 0,\n",
    "    1: 0,\n",
    "    2: 0,\n",
    "    3: 0,\n",
    "    4: 0,\n",
    "    5: 0\n",
    "}\n"
   ]
  },
  {
   "cell_type": "code",
   "execution_count": 179,
   "metadata": {},
   "outputs": [],
   "source": [
    "while more > 0:\n",
    "    \n",
    "    # remove current case from how many more cases left\n",
    "    more -= 1\n",
    "    # add current case to total # of cases\n",
    "    caseCount += 1\n",
    "    \n",
    "    # if case count is at or over threshold number\n",
    "    if caseCount >= nthThresh(n, thresh):\n",
    "        # calculate new threshold\n",
    "        thresh = nthThresh(n, thresh)\n",
    "        # adjust spreadProbs weights and calculate r0 for corresponding threshold\n",
    "        thisThresh()\n",
    "        # add one to threshold n value\n",
    "        n += 1\n",
    "        \n",
    "    # decide how many people the current case infects and add them to more\n",
    "    more += decide(spreadProbs)\n",
    "    \n",
    "    weathering[decide(infectProbs)] += 1\n"
   ]
  },
  {
   "cell_type": "code",
   "execution_count": 180,
   "metadata": {},
   "outputs": [
    {
     "name": "stdout",
     "output_type": "stream",
     "text": [
      "10.02550347374901\n",
      "9.902383255650339\n",
      "19.444200158297424\n",
      "20.70178524316243\n",
      "30.47225397942134\n",
      "10.043092076334535\n"
     ]
    }
   ],
   "source": [
    "for i in range(0, len(weathering)):\n",
    "    print(100*(weathering[i]/casecount))\n",
    "    "
   ]
  },
  {
   "cell_type": "code",
   "execution_count": 134,
   "metadata": {},
   "outputs": [],
   "source": [
    "for i in range(0,11000):\n",
    "    caseCount += 1\n",
    "    weathering[random.choices([0,1,2,3,4,5],weights=infectProbs)[0]] += 1\n",
    "    "
   ]
  },
  {
   "cell_type": "code",
   "execution_count": 135,
   "metadata": {},
   "outputs": [
    {
     "data": {
      "text/plain": [
       "{0: 0, 1: 5411, 2: 3753, 3: 1836, 4: 0, 5: 0}"
      ]
     },
     "execution_count": 135,
     "metadata": {},
     "output_type": "execute_result"
    }
   ],
   "source": [
    "weathering"
   ]
  },
  {
   "cell_type": "code",
   "execution_count": null,
   "metadata": {},
   "outputs": [],
   "source": []
  }
 ],
 "metadata": {
  "anaconda-cloud": {},
  "celltoolbar": "Slideshow",
  "kernelspec": {
   "display_name": "Python 3",
   "language": "python",
   "name": "python3"
  },
  "language_info": {
   "codemirror_mode": {
    "name": "ipython",
    "version": 3
   },
   "file_extension": ".py",
   "mimetype": "text/x-python",
   "name": "python",
   "nbconvert_exporter": "python",
   "pygments_lexer": "ipython3",
   "version": "3.8.5"
  },
  "varInspector": {
   "cols": {
    "lenName": 16,
    "lenType": 16,
    "lenVar": 40
   },
   "kernels_config": {
    "python": {
     "delete_cmd_postfix": "",
     "delete_cmd_prefix": "del ",
     "library": "var_list.py",
     "varRefreshCmd": "print(var_dic_list())"
    },
    "r": {
     "delete_cmd_postfix": ") ",
     "delete_cmd_prefix": "rm(",
     "library": "var_list.r",
     "varRefreshCmd": "cat(var_dic_list()) "
    }
   },
   "types_to_exclude": [
    "module",
    "function",
    "builtin_function_or_method",
    "instance",
    "_Feature"
   ],
   "window_display": false
  }
 },
 "nbformat": 4,
 "nbformat_minor": 2
}
