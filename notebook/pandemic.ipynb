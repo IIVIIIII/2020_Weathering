{
 "cells": [
  {
   "cell_type": "code",
   "execution_count": 1,
   "metadata": {},
   "outputs": [],
   "source": [
    "# import dependencies\n",
    "import pandas as pd\n",
    "import numpy as np\n",
    "import random\n"
   ]
  },
  {
   "cell_type": "code",
   "execution_count": 2,
   "metadata": {},
   "outputs": [],
   "source": [
    "# function to determine new threshold case count\n",
    "def nthThresh(n,t):\n",
    "    return 100 * n + t\n"
   ]
  },
  {
   "cell_type": "code",
   "execution_count": 3,
   "metadata": {},
   "outputs": [],
   "source": [
    "# function to adjust infectProbs weights and calculate r0 for corresponding threshold\n",
    "def thisThresh():\n",
    "    if n == 1:\n",
    "        infectProbs[3] -= 1\n",
    "        infectProbs[2] += 1\n",
    "    elif n == 2:\n",
    "        infectProbs[3] -= 1\n",
    "        infectProbs[1] += 1\n",
    "    elif n == 13:\n",
    "        infectProbs[2] -= 1\n",
    "        infectProbs[0] += 1\n",
    "    elif n == 14:\n",
    "        infectProbs[1] -= 1\n",
    "        infectProbs[0] += 1\n",
    "    elif n != 0:\n",
    "        infectProbs[3] -= 1\n",
    "        infectProbs[0] += 1\n",
    "    r0 = (infectProbs[1] + 2*infectProbs[2] + 3*infectProbs[3]) / sum(infectProbs)"
   ]
  },
  {
   "cell_type": "code",
   "execution_count": 4,
   "metadata": {},
   "outputs": [],
   "source": [
    "# function to calculate ranges for probability distribution if statements\n",
    "def ranges(probsArray):\n",
    "    rangesArray = []\n",
    "    for i in range(0, len(probsArray)):\n",
    "        rangesArray.append(sum(probsArray[0:i+1]))\n",
    "    return rangesArray\n"
   ]
  },
  {
   "cell_type": "code",
   "execution_count": 5,
   "metadata": {},
   "outputs": [],
   "source": [
    "# function to generate a value based on a probability distribution array\n",
    "def decide(probsArray):\n",
    "    rangesArray = ranges(probsArray)\n",
    "    ran = random.randint(0,sum (probsArray)-1)\n",
    "    for i in range(0, len(rangesArray)):\n",
    "        if ran < rangesArray[i]:\n",
    "            return i\n"
   ]
  },
  {
   "cell_type": "code",
   "execution_count": 6,
   "metadata": {},
   "outputs": [],
   "source": [
    "# probabilities of each demographic being selected\n",
    "demoProbs = [1,1,2,2,3,1]\n",
    "# weighted probabilities for #people the current case can infect\n",
    "# (from left to right, values refer to weights for 0, 1, 2, and 3 new infections)\n",
    "infectProbs = [0,0,0,12]\n",
    "# cases remaining (one case to start it off)\n",
    "more = 1\n",
    "# cases that have occured\n",
    "casecount = 0\n",
    "# deaths that have occured\n",
    "deathcount = 0\n",
    "# case count threshold for when new r0 shoud be calculated\n",
    "thresh = 0\n",
    "# nth threshold\n",
    "n = 1\n",
    "# infection rate\n",
    "r0 = 3\n",
    "# dictionary with all data\n",
    "weathering = {\n",
    "    0: 0,\n",
    "    1: 0,\n",
    "    2: 0,\n",
    "    3: 0,\n",
    "    4: 0,\n",
    "    5: 0\n",
    "}\n"
   ]
  },
  {
   "cell_type": "code",
   "execution_count": 7,
   "metadata": {},
   "outputs": [
    {
     "data": {
      "text/plain": [
       "{0: 1118, 1: 1173, 2: 2286, 3: 2320, 4: 3505, 5: 1138}"
      ]
     },
     "execution_count": 7,
     "metadata": {},
     "output_type": "execute_result"
    }
   ],
   "source": [
    "while more > 0:\n",
    "    # remove current case from how many more cases left\n",
    "    more -= 1\n",
    "    # add current case to total # of cases\n",
    "    casecount += 1\n",
    "\n",
    "    # if case count is at or over threshold number\n",
    "    if casecount >= nthThresh(n, thresh):\n",
    "        # add one to threshold n value\n",
    "        n += 1\n",
    "        # calculate new threshold\n",
    "        thresh = nthThresh(n, thresh)\n",
    "        # adjust infectProbs weights and calculate r0 for corresponding threshold\n",
    "        thisThresh()\n",
    "\n",
    "    # decide how many people the current case infects and add them to more\n",
    "    more += decide(infectProbs)\n",
    "    \n",
    "    weathering[decide(demoProbs)] += 1\n",
    "\n",
    "weathering\n",
    "    \n",
    "    "
   ]
  },
  {
   "cell_type": "code",
   "execution_count": 8,
   "metadata": {},
   "outputs": [
    {
     "name": "stdout",
     "output_type": "stream",
     "text": [
      "9.688041594454074\n",
      "10.164644714038127\n",
      "19.80935875216638\n",
      "20.103986135181977\n",
      "30.37261698440208\n",
      "9.861351819757367\n"
     ]
    }
   ],
   "source": [
    "for i in range(0, len(weathering)):\n",
    "    print(100*(weathering[i]/casecount))\n",
    "    "
   ]
  },
  {
   "cell_type": "code",
   "execution_count": null,
   "metadata": {},
   "outputs": [],
   "source": []
  }
 ],
 "metadata": {
  "anaconda-cloud": {},
  "celltoolbar": "Slideshow",
  "kernelspec": {
   "display_name": "Python 3",
   "language": "python",
   "name": "python3"
  },
  "language_info": {
   "codemirror_mode": {
    "name": "ipython",
    "version": 3
   },
   "file_extension": ".py",
   "mimetype": "text/x-python",
   "name": "python",
   "nbconvert_exporter": "python",
   "pygments_lexer": "ipython3",
   "version": "3.8.5"
  },
  "varInspector": {
   "cols": {
    "lenName": 16,
    "lenType": 16,
    "lenVar": 40
   },
   "kernels_config": {
    "python": {
     "delete_cmd_postfix": "",
     "delete_cmd_prefix": "del ",
     "library": "var_list.py",
     "varRefreshCmd": "print(var_dic_list())"
    },
    "r": {
     "delete_cmd_postfix": ") ",
     "delete_cmd_prefix": "rm(",
     "library": "var_list.r",
     "varRefreshCmd": "cat(var_dic_list()) "
    }
   },
   "types_to_exclude": [
    "module",
    "function",
    "builtin_function_or_method",
    "instance",
    "_Feature"
   ],
   "window_display": false
  }
 },
 "nbformat": 4,
 "nbformat_minor": 2
}
