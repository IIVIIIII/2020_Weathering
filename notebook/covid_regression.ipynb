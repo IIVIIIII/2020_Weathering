{
 "cells": [
  {
   "cell_type": "code",
   "execution_count": 1,
   "metadata": {},
   "outputs": [],
   "source": [
    "# Dependencies\n",
    "import pandas as pd\n",
    "import matplotlib.pyplot as plt\n",
    "import requests\n",
    "import json"
   ]
  },
  {
   "cell_type": "code",
   "execution_count": 2,
   "metadata": {},
   "outputs": [
    {
     "data": {
      "text/html": [
       "<div>\n",
       "<style scoped>\n",
       "    .dataframe tbody tr th:only-of-type {\n",
       "        vertical-align: middle;\n",
       "    }\n",
       "\n",
       "    .dataframe tbody tr th {\n",
       "        vertical-align: top;\n",
       "    }\n",
       "\n",
       "    .dataframe thead th {\n",
       "        text-align: right;\n",
       "    }\n",
       "</style>\n",
       "<table border=\"1\" class=\"dataframe\">\n",
       "  <thead>\n",
       "    <tr style=\"text-align: right;\">\n",
       "      <th></th>\n",
       "      <th>FIPS</th>\n",
       "      <th>stateName</th>\n",
       "      <th>countyName</th>\n",
       "      <th>ccvi</th>\n",
       "      <th>theme1</th>\n",
       "      <th>theme2</th>\n",
       "      <th>theme3</th>\n",
       "      <th>theme4</th>\n",
       "      <th>theme5</th>\n",
       "      <th>theme6</th>\n",
       "      <th>theme7</th>\n",
       "    </tr>\n",
       "  </thead>\n",
       "  <tbody>\n",
       "    <tr>\n",
       "      <th>0</th>\n",
       "      <td>1001020100</td>\n",
       "      <td>ALABAMA</td>\n",
       "      <td>Autauga</td>\n",
       "      <td>0.441972</td>\n",
       "      <td>0.458336</td>\n",
       "      <td>0.377478</td>\n",
       "      <td>0.170811</td>\n",
       "      <td>0.841617</td>\n",
       "      <td>0.966294</td>\n",
       "      <td>0.209805</td>\n",
       "      <td>0.287591</td>\n",
       "    </tr>\n",
       "    <tr>\n",
       "      <th>1</th>\n",
       "      <td>1001020200</td>\n",
       "      <td>ALABAMA</td>\n",
       "      <td>Autauga</td>\n",
       "      <td>0.742619</td>\n",
       "      <td>0.562935</td>\n",
       "      <td>0.584587</td>\n",
       "      <td>0.683826</td>\n",
       "      <td>0.768947</td>\n",
       "      <td>0.982399</td>\n",
       "      <td>0.209805</td>\n",
       "      <td>0.427810</td>\n",
       "    </tr>\n",
       "    <tr>\n",
       "      <th>2</th>\n",
       "      <td>1001020300</td>\n",
       "      <td>ALABAMA</td>\n",
       "      <td>Autauga</td>\n",
       "      <td>0.778072</td>\n",
       "      <td>0.245094</td>\n",
       "      <td>0.645024</td>\n",
       "      <td>0.472226</td>\n",
       "      <td>0.863762</td>\n",
       "      <td>0.953086</td>\n",
       "      <td>0.724817</td>\n",
       "      <td>0.439041</td>\n",
       "    </tr>\n",
       "    <tr>\n",
       "      <th>3</th>\n",
       "      <td>1001020400</td>\n",
       "      <td>ALABAMA</td>\n",
       "      <td>Autauga</td>\n",
       "      <td>0.362727</td>\n",
       "      <td>0.023280</td>\n",
       "      <td>0.370119</td>\n",
       "      <td>0.192050</td>\n",
       "      <td>0.977978</td>\n",
       "      <td>0.894654</td>\n",
       "      <td>0.209805</td>\n",
       "      <td>0.425573</td>\n",
       "    </tr>\n",
       "    <tr>\n",
       "      <th>4</th>\n",
       "      <td>1001020500</td>\n",
       "      <td>ALABAMA</td>\n",
       "      <td>Autauga</td>\n",
       "      <td>0.816600</td>\n",
       "      <td>0.319725</td>\n",
       "      <td>0.421440</td>\n",
       "      <td>0.764060</td>\n",
       "      <td>0.753240</td>\n",
       "      <td>0.978307</td>\n",
       "      <td>0.749454</td>\n",
       "      <td>0.497597</td>\n",
       "    </tr>\n",
       "    <tr>\n",
       "      <th>...</th>\n",
       "      <td>...</td>\n",
       "      <td>...</td>\n",
       "      <td>...</td>\n",
       "      <td>...</td>\n",
       "      <td>...</td>\n",
       "      <td>...</td>\n",
       "      <td>...</td>\n",
       "      <td>...</td>\n",
       "      <td>...</td>\n",
       "      <td>...</td>\n",
       "      <td>...</td>\n",
       "    </tr>\n",
       "    <tr>\n",
       "      <th>72177</th>\n",
       "      <td>56043000200</td>\n",
       "      <td>WYOMING</td>\n",
       "      <td>Washakie</td>\n",
       "      <td>0.193098</td>\n",
       "      <td>0.632400</td>\n",
       "      <td>0.106362</td>\n",
       "      <td>0.792014</td>\n",
       "      <td>0.669875</td>\n",
       "      <td>0.126091</td>\n",
       "      <td>0.259923</td>\n",
       "      <td>0.008196</td>\n",
       "    </tr>\n",
       "    <tr>\n",
       "      <th>72178</th>\n",
       "      <td>56043000301</td>\n",
       "      <td>WYOMING</td>\n",
       "      <td>Washakie</td>\n",
       "      <td>0.288511</td>\n",
       "      <td>0.536803</td>\n",
       "      <td>0.358751</td>\n",
       "      <td>0.539916</td>\n",
       "      <td>0.400654</td>\n",
       "      <td>0.199599</td>\n",
       "      <td>0.259923</td>\n",
       "      <td>0.589599</td>\n",
       "    </tr>\n",
       "    <tr>\n",
       "      <th>72179</th>\n",
       "      <td>56043000302</td>\n",
       "      <td>WYOMING</td>\n",
       "      <td>Washakie</td>\n",
       "      <td>0.574666</td>\n",
       "      <td>0.804595</td>\n",
       "      <td>0.349800</td>\n",
       "      <td>0.613380</td>\n",
       "      <td>0.701398</td>\n",
       "      <td>0.137185</td>\n",
       "      <td>0.815509</td>\n",
       "      <td>0.273972</td>\n",
       "    </tr>\n",
       "    <tr>\n",
       "      <th>72180</th>\n",
       "      <td>56045951100</td>\n",
       "      <td>WYOMING</td>\n",
       "      <td>Weston</td>\n",
       "      <td>0.112481</td>\n",
       "      <td>0.476381</td>\n",
       "      <td>0.238316</td>\n",
       "      <td>0.834326</td>\n",
       "      <td>0.559188</td>\n",
       "      <td>0.149020</td>\n",
       "      <td>0.037122</td>\n",
       "      <td>0.008224</td>\n",
       "    </tr>\n",
       "    <tr>\n",
       "      <th>72181</th>\n",
       "      <td>56045951300</td>\n",
       "      <td>WYOMING</td>\n",
       "      <td>Weston</td>\n",
       "      <td>0.317812</td>\n",
       "      <td>0.621751</td>\n",
       "      <td>0.291037</td>\n",
       "      <td>0.740620</td>\n",
       "      <td>0.483470</td>\n",
       "      <td>0.234197</td>\n",
       "      <td>0.442149</td>\n",
       "      <td>0.152109</td>\n",
       "    </tr>\n",
       "  </tbody>\n",
       "</table>\n",
       "<p>72182 rows × 11 columns</p>\n",
       "</div>"
      ],
      "text/plain": [
       "              FIPS stateName countyName      ccvi    theme1    theme2  \\\n",
       "0       1001020100   ALABAMA    Autauga  0.441972  0.458336  0.377478   \n",
       "1       1001020200   ALABAMA    Autauga  0.742619  0.562935  0.584587   \n",
       "2       1001020300   ALABAMA    Autauga  0.778072  0.245094  0.645024   \n",
       "3       1001020400   ALABAMA    Autauga  0.362727  0.023280  0.370119   \n",
       "4       1001020500   ALABAMA    Autauga  0.816600  0.319725  0.421440   \n",
       "...            ...       ...        ...       ...       ...       ...   \n",
       "72177  56043000200   WYOMING   Washakie  0.193098  0.632400  0.106362   \n",
       "72178  56043000301   WYOMING   Washakie  0.288511  0.536803  0.358751   \n",
       "72179  56043000302   WYOMING   Washakie  0.574666  0.804595  0.349800   \n",
       "72180  56045951100   WYOMING     Weston  0.112481  0.476381  0.238316   \n",
       "72181  56045951300   WYOMING     Weston  0.317812  0.621751  0.291037   \n",
       "\n",
       "         theme3    theme4    theme5    theme6    theme7  \n",
       "0      0.170811  0.841617  0.966294  0.209805  0.287591  \n",
       "1      0.683826  0.768947  0.982399  0.209805  0.427810  \n",
       "2      0.472226  0.863762  0.953086  0.724817  0.439041  \n",
       "3      0.192050  0.977978  0.894654  0.209805  0.425573  \n",
       "4      0.764060  0.753240  0.978307  0.749454  0.497597  \n",
       "...         ...       ...       ...       ...       ...  \n",
       "72177  0.792014  0.669875  0.126091  0.259923  0.008196  \n",
       "72178  0.539916  0.400654  0.199599  0.259923  0.589599  \n",
       "72179  0.613380  0.701398  0.137185  0.815509  0.273972  \n",
       "72180  0.834326  0.559188  0.149020  0.037122  0.008224  \n",
       "72181  0.740620  0.483470  0.234197  0.442149  0.152109  \n",
       "\n",
       "[72182 rows x 11 columns]"
      ]
     },
     "execution_count": 2,
     "metadata": {},
     "output_type": "execute_result"
    }
   ],
   "source": [
    "ccvi = pd.read_csv('../resources/ccvi_nonulls.csv')\n",
    "ccvi\n"
   ]
  },
  {
   "cell_type": "code",
   "execution_count": 3,
   "metadata": {},
   "outputs": [],
   "source": [
    "# city = 'Los Angeles'\n",
    "state = 'California'\n",
    "\n",
    "states ={ \n",
    "    \"Alabama\": {'num': \"01\", 'abbr': 'AL'},\n",
    "    \"Alaska\": {'num': \"02\", 'abbr': 'AK'},\n",
    "    \"Arizona\": {'num': \"04\", 'abbr': 'AZ'},\n",
    "    \"Arkansas\": {'num': \"05\", 'abbr': 'AR'},\n",
    "    \"California\": {'num': \"06\", 'abbr': 'CA'},\n",
    "    \"Colorado\": {'num': \"08\", 'abbr': 'CO'},\n",
    "    \"Delaware\": {'num': \"10\", 'abbr': 'CT'},\n",
    "    \"District of Columbia\": {'num': \"11\", 'abbr': 'DE'},\n",
    "    \"Connecticut\": {'num': \"09\", 'abbr': 'DC'},\n",
    "    \"Florida\": {'num': \"12\", 'abbr': 'FL'},\n",
    "    \"Georgia\": {'num': \"13\", 'abbr': 'GA'},\n",
    "    \"Idaho\": {'num': \"16\", 'abbr': 'ID'},\n",
    "    \"Hawaii\": {'num': \"15\", 'abbr': 'HI'},\n",
    "    \"Illinois\": {'num': \"17\", 'abbr': 'IL'},\n",
    "    \"Indiana\": {'num': \"18\", 'abbr': 'IN'},\n",
    "    \"Iowa\": {'num': \"19\", 'abbr': 'IA'},\n",
    "    \"Kansas\": {'num': \"20\", 'abbr': 'KS'},\n",
    "    \"Kentucky\": {'num': \"21\", 'abbr': 'KS'},\n",
    "    \"Louisiana\": {'num': \"22\", 'abbr': 'LA'},\n",
    "    \"Maine\": {'num': \"23\", 'abbr': 'ME'},\n",
    "    \"Maryland\": {'num': \"24\", 'abbr': 'MD'},\n",
    "    \"Massachusetts\": {'num': \"25\", 'abbr': 'MA'},\n",
    "    \"Michigan\": {'num': \"26\", 'abbr': 'MI'},\n",
    "    \"Minnesota\": {'num': \"27\", 'abbr': 'MN'},\n",
    "    \"Mississippi\": {'num': \"28\", 'abbr': 'MS'},\n",
    "    \"Missouri\": {'num': \"29\", 'abbr': 'MO'},\n",
    "    \"Montana\": {'num': \"30\", 'abbr': 'MT'},\n",
    "    \"Nebraska\": {'num': \"31\", 'abbr': 'NE'},\n",
    "    \"Nevada\": {'num': \"32\", 'abbr': 'NV'},\n",
    "    \"New Hampshire\": {'num': \"33\", 'abbr': 'NH'},\n",
    "    \"New Jersey\": {'num': \"34\", 'abbr': 'NJ'},\n",
    "    \"New Mexico\": {'num': \"35\", 'abbr': 'NM'},\n",
    "    \"New York\": {'num': \"36\", 'abbr': 'NY'},\n",
    "    \"North Carolina\": {'num': \"37\", 'abbr': 'NC'},\n",
    "    \"North Dakota\": {'num': \"38\", 'abbr': 'ND'},\n",
    "    \"Oklahoma\": {'num': \"40\", 'abbr': 'OK'},\n",
    "    \"Oregon\": {'num': \"41\", 'abbr': 'OR'},\n",
    "    \"Pennsylvania\": {'num': \"42\", 'abbr': 'PA'},\n",
    "    \"Rhode Island\": {'num': \"44\", 'abbr': 'RI'},\n",
    "    \"South Carolina\": {'num': \"45\", 'abbr': 'SC'},\n",
    "    \"South Dakota\": {'num': \"46\", 'abbr': 'SD'},\n",
    "    \"Tennessee\": {'num': \"47\", 'abbr': 'TN'},\n",
    "    \"Texas\": {'num': \"48\", 'abbr': 'TX'},\n",
    "    \"Vermont\": {'num': \"50\", 'abbr': 'VT'},\n",
    "    \"Utah\": {'num': \"49\", 'abbr': 'UT'},\n",
    "    \"Virginia\": {'num': \"51\", 'abbr': 'VA'},\n",
    "    \"Washington\": {'num': \"53\", 'abbr': 'WA'},\n",
    "    \"West Virginia\": {'num': \"54\", 'abbr': 'WV'},\n",
    "    \"Wisconsin\": {'num': \"55\", 'abbr': 'WI'},\n",
    "    \"Wyoming\": {'num': \"56\", 'abbr': 'WY'},\n",
    "    \"Puerto Rico\": {'num': \"72\", 'abbr': 'PR'}\n",
    "}"
   ]
  },
  {
   "cell_type": "code",
   "execution_count": 5,
   "metadata": {},
   "outputs": [],
   "source": [
    "# city = f'{city} city'\n",
    "state_num = states[state]['num']\n",
    "# full_city = f'{city}, {state}'\n",
    "# county_nums = []\n",
    "# county_query = ''\n",
    "tracts = []\n",
    "pops = 'B01003_001E,B02001_002E,B02001_003E,B02001_004E,B02001_005E,B02001_006E,B03001_003E'\n",
    "demogs = {\n",
    "    'total': {},\n",
    "    'white': {},\n",
    "    'black': {},\n",
    "    'native': {},\n",
    "    'asian': {},\n",
    "    'pacific': {},\n",
    "    'hispanic': {}\n",
    "}\n",
    "\n",
    "\n"
   ]
  },
  {
   "cell_type": "code",
   "execution_count": 6,
   "metadata": {},
   "outputs": [],
   "source": [
    "\n",
    "url = f'https://api.census.gov/data/2019/acs/acs5?get=NAME,{pops}&for=tract:*&in=state:{state_num}'\n",
    "\n",
    "response = requests.get(url).json()\n",
    "\n",
    "pd.DataFrame(response)\n",
    "\n",
    "for r in response:\n",
    "    if r[0] != 'NAME':\n",
    "        tracts.append({\n",
    "            'FIPS': int(f'{r[8]}{r[9]}{r[10]}'),\n",
    "            'total': int(r[1]),\n",
    "            'white': int(r[2]),\n",
    "            'black': int(r[3]),\n",
    "            'native': int(r[4]),\n",
    "            'asian': int(r[5]),\n",
    "            'pacific': int(r[6]),\n",
    "            'hispanic': int(r[7])\n",
    "        })\n",
    "\n"
   ]
  },
  {
   "cell_type": "code",
   "execution_count": 7,
   "metadata": {},
   "outputs": [
    {
     "data": {
      "text/plain": [
       "{'total': {'population': 39184759,\n",
       "  'ccvi': 0.6107227243815876,\n",
       "  'percent_of_pop': 100.0},\n",
       " 'white': {'population': 23405251,\n",
       "  'ccvi': 0.5748261136565029,\n",
       "  'percent_of_pop': 59.73049623707013},\n",
       " 'black': {'population': 2253401,\n",
       "  'ccvi': 0.7053331771802169,\n",
       "  'percent_of_pop': 5.750707819843934},\n",
       " 'native': {'population': 302002,\n",
       "  'ccvi': 0.6672118803011934,\n",
       "  'percent_of_pop': 0.7707129192755785},\n",
       " 'asian': {'population': 5684633,\n",
       "  'ccvi': 0.5768182276242306,\n",
       "  'percent_of_pop': 14.50725523155572},\n",
       " 'pacific': {'population': 154637,\n",
       "  'ccvi': 0.6362910543608903,\n",
       "  'percent_of_pop': 0.39463557757239237},\n",
       " 'hispanic': {'population': 15288340,\n",
       "  'ccvi': 0.7351319132562741,\n",
       "  'percent_of_pop': 39.0160368218674}}"
      ]
     },
     "execution_count": 7,
     "metadata": {},
     "output_type": "execute_result"
    }
   ],
   "source": [
    "populations = pd.DataFrame(tracts)\n",
    "populations\n",
    "\n",
    "ccvi_and_pop = pd.merge(populations, ccvi, on='FIPS')\n",
    "\n",
    "races = ['total','white','black','native','asian', 'pacific', 'hispanic']\n",
    "\n",
    "for race in races:\n",
    "    demogs[race]['population'] = ccvi_and_pop[race].sum()\n",
    "    demogs[race]['ccvi'] = (ccvi_and_pop[race]*ccvi_and_pop['ccvi']).sum()/demogs[race]['population']\n",
    "    demogs[race]['percent_of_pop'] = (demogs[race]['population']/demogs['total']['population'])*100\n",
    "    \n",
    "demogs\n",
    "\n"
   ]
  },
  {
   "cell_type": "code",
   "execution_count": 8,
   "metadata": {},
   "outputs": [
    {
     "name": "stderr",
     "output_type": "stream",
     "text": [
      "<ipython-input-8-4246f244154a>:7: FutureWarning: Indexing with multiple keys (implicitly converted to a tuple of keys) will be deprecated, use a list instead.\n",
      "  cases = covid.groupby('State')['Cases_Total','Cases_White','Cases_Black','Cases_Latinx','Cases_Asian', 'Cases_AIAN','Cases_NHPI','Cases_Multiracial','Cases_Other','Cases_Unknown','Cases_Ethnicity_Hispanic','Cases_Ethnicity_NonHispanic','Cases_Ethnicity_Unknown'].sum()\n"
     ]
    },
    {
     "data": {
      "text/html": [
       "<div>\n",
       "<style scoped>\n",
       "    .dataframe tbody tr th:only-of-type {\n",
       "        vertical-align: middle;\n",
       "    }\n",
       "\n",
       "    .dataframe tbody tr th {\n",
       "        vertical-align: top;\n",
       "    }\n",
       "\n",
       "    .dataframe thead th {\n",
       "        text-align: right;\n",
       "    }\n",
       "</style>\n",
       "<table border=\"1\" class=\"dataframe\">\n",
       "  <thead>\n",
       "    <tr style=\"text-align: right;\">\n",
       "      <th></th>\n",
       "      <th>State</th>\n",
       "      <th>Cases_Total</th>\n",
       "      <th>Cases_White</th>\n",
       "      <th>Cases_Black</th>\n",
       "      <th>Cases_Latinx</th>\n",
       "      <th>Cases_Asian</th>\n",
       "      <th>Cases_AIAN</th>\n",
       "      <th>Cases_NHPI</th>\n",
       "      <th>Cases_Multiracial</th>\n",
       "      <th>Cases_Other</th>\n",
       "      <th>Cases_Unknown</th>\n",
       "      <th>Cases_Ethnicity_Hispanic</th>\n",
       "      <th>Cases_Ethnicity_NonHispanic</th>\n",
       "      <th>Cases_Ethnicity_Unknown</th>\n",
       "    </tr>\n",
       "  </thead>\n",
       "  <tbody>\n",
       "    <tr>\n",
       "      <th>5</th>\n",
       "      <td>CA</td>\n",
       "      <td>109298533.0</td>\n",
       "      <td>15360536.0</td>\n",
       "      <td>3408823.0</td>\n",
       "      <td>45115829.0</td>\n",
       "      <td>5045971.0</td>\n",
       "      <td>241503.0</td>\n",
       "      <td>448957.0</td>\n",
       "      <td>1022184.0</td>\n",
       "      <td>9186953.0</td>\n",
       "      <td>29593580.0</td>\n",
       "      <td>45105227.0</td>\n",
       "      <td>34570019.0</td>\n",
       "      <td>29576531.0</td>\n",
       "    </tr>\n",
       "  </tbody>\n",
       "</table>\n",
       "</div>"
      ],
      "text/plain": [
       "  State  Cases_Total  Cases_White  Cases_Black  Cases_Latinx  Cases_Asian  \\\n",
       "5    CA  109298533.0   15360536.0    3408823.0    45115829.0    5045971.0   \n",
       "\n",
       "   Cases_AIAN  Cases_NHPI  Cases_Multiracial  Cases_Other  Cases_Unknown  \\\n",
       "5    241503.0    448957.0          1022184.0    9186953.0     29593580.0   \n",
       "\n",
       "   Cases_Ethnicity_Hispanic  Cases_Ethnicity_NonHispanic  \\\n",
       "5                45105227.0                   34570019.0   \n",
       "\n",
       "   Cases_Ethnicity_Unknown  \n",
       "5               29576531.0  "
      ]
     },
     "execution_count": 8,
     "metadata": {},
     "output_type": "execute_result"
    }
   ],
   "source": [
    "covid = pd.read_csv('../resources/CRDT_Data.csv')\n",
    "covid\n",
    "\n",
    "# for c in covid.columns:\n",
    "#     print(c)\n",
    "\n",
    "cases = covid.groupby('State')['Cases_Total','Cases_White','Cases_Black','Cases_Latinx','Cases_Asian', 'Cases_AIAN','Cases_NHPI','Cases_Multiracial','Cases_Other','Cases_Unknown','Cases_Ethnicity_Hispanic','Cases_Ethnicity_NonHispanic','Cases_Ethnicity_Unknown'].sum()\n",
    "\n",
    "cases = cases.reset_index()\n",
    "\n",
    "cases = cases.loc[cases['State'] == states[state]['abbr'],:]\n",
    "\n",
    "cases\n"
   ]
  },
  {
   "cell_type": "code",
   "execution_count": null,
   "metadata": {},
   "outputs": [],
   "source": []
  },
  {
   "cell_type": "code",
   "execution_count": null,
   "metadata": {},
   "outputs": [],
   "source": []
  },
  {
   "cell_type": "code",
   "execution_count": null,
   "metadata": {},
   "outputs": [],
   "source": []
  },
  {
   "cell_type": "code",
   "execution_count": null,
   "metadata": {},
   "outputs": [],
   "source": []
  },
  {
   "cell_type": "code",
   "execution_count": null,
   "metadata": {},
   "outputs": [],
   "source": [
    "# url = f'https://api.census.gov/data/2019/acs/acs5?get=NAME&for=place:*&in=state:{state_num}'\n",
    "\n",
    "# response = requests.get(url).json()\n",
    "# # print(json.dumps(response, indent=4, sort_keys=True))\n",
    "\n",
    "# for r in response:\n",
    "#     if r[0] == full_city:\n",
    "#         url = f'https://api.census.gov/data/2019/acs/acs5?get=NAME&for=county%20(or%20part):*&in=state:{state_num}%20place:{r[2]}'\n",
    "#         break\n",
    "\n",
    "\n",
    "# response = requests.get(url).json()\n",
    "\n",
    "# for r in response:\n",
    "#     if r[0] != 'NAME': \n",
    "#         county_nums.append(r[3])\n",
    "\n",
    "# for n in range(0, len(county_nums)):\n",
    "#     if n == 0:\n",
    "#         county_query = county_nums[n]\n",
    "#     else:\n",
    "#         county_query = county_query + f',{county_nums[n]}'\n",
    "\n",
    "\n",
    "        \n",
    "# url = f'https://api.census.gov/data/2019/acs/acs5?get=NAME,{pops}&for=tract:*&in=county:{county_query}&in=state:{state_num}'\n",
    "\n",
    "# response = requests.get(url).json()\n",
    "\n",
    "# for r in response:\n",
    "#     if r[0] != 'NAME':\n",
    "#         tracts.append({\n",
    "#               'FIPS': int(f'{r[7]}{r[8]}{r[9]}'),\n",
    "#               'white': int(r[1]),\n",
    "#               'black': int(r[2]),\n",
    "#               'native': int(r[3]),\n",
    "#               'asian': int(r[4]),\n",
    "#               'pacific': int(r[5]),\n",
    "#               'hispanic': int(r[6])\n",
    "#         })\n",
    "\n",
    "\n"
   ]
  },
  {
   "cell_type": "code",
   "execution_count": null,
   "metadata": {},
   "outputs": [],
   "source": [
    "populations = pd.DataFrame(tracts)\n",
    "populations\n",
    "\n",
    "ccvi_and_pop = pd.merge(populations, ccvi, on='FIPS')\n",
    "\n",
    "races = ['white','black','native','asian', 'pacific', 'hispanic']\n",
    "\n",
    "for race in races:\n",
    "    demogs[race]['population'] = ccvi_and_pop[race].sum()\n",
    "    demogs[race]['ccvi'] = (ccvi_and_pop[race]*ccvi_and_pop['ccvi']).sum()/demogs[race]['population']\n",
    "\n",
    "demogs\n"
   ]
  },
  {
   "cell_type": "code",
   "execution_count": null,
   "metadata": {},
   "outputs": [],
   "source": []
  },
  {
   "cell_type": "code",
   "execution_count": null,
   "metadata": {},
   "outputs": [],
   "source": []
  },
  {
   "cell_type": "code",
   "execution_count": null,
   "metadata": {},
   "outputs": [],
   "source": []
  },
  {
   "cell_type": "code",
   "execution_count": null,
   "metadata": {},
   "outputs": [],
   "source": []
  },
  {
   "cell_type": "code",
   "execution_count": null,
   "metadata": {},
   "outputs": [],
   "source": [
    "# for n in range(0, len(county_nums)):\n",
    "#     if n == 0:\n",
    "#         county_query = state_num + county_nums[n]\n",
    "#     else:\n",
    "#         county_query = county_query + f',{state_num}{county_nums[n]}'\n",
    "\n",
    "# county_query"
   ]
  },
  {
   "cell_type": "code",
   "execution_count": null,
   "metadata": {
    "scrolled": true
   },
   "outputs": [],
   "source": [
    "# ccvi['FIPS'] = ccvi['FIPS'].apply(lambda x: str(x)[:5])\n",
    "\n",
    "# #!\n",
    "# ccvi = pd.DataFrame(ccvi.groupby('FIPS')['ccvi'].mean())\n",
    "# #!\n",
    "\n",
    "# ccvi = ccvi.reset_index()\n",
    "# ccvi = ccvi.rename(columns={'FIPS': 'county_fips'})\n",
    "\n",
    "# ccvi"
   ]
  },
  {
   "cell_type": "code",
   "execution_count": null,
   "metadata": {},
   "outputs": [],
   "source": [
    "# # drop the null rows\n",
    "# ccvi = ccvi.dropna()\n",
    "# ccvi.set_index('FIPS', inplace=True)\n",
    "# ccvi\n",
    "\n",
    "# ccvi.to_csv(r'../resources/ccvi_nonulls.csv')"
   ]
  },
  {
   "cell_type": "code",
   "execution_count": null,
   "metadata": {},
   "outputs": [],
   "source": [
    "for n in range(0, len(county_nums)):\n",
    "    county_nums[n] = state_num + county_nums[n]\n",
    "\n",
    "county_nums"
   ]
  },
  {
   "cell_type": "code",
   "execution_count": null,
   "metadata": {},
   "outputs": [],
   "source": []
  },
  {
   "cell_type": "code",
   "execution_count": null,
   "metadata": {
    "scrolled": true
   },
   "outputs": [],
   "source": [
    "cases = []\n",
    "\n",
    "\n",
    "for n in range(0, len(county_nums)):\n",
    "\n",
    "    url = f'https://data.cdc.gov/resource/n8mc-b4w4.json?$limit=300000&$offset={offset}&county_fips_code={county_nums[n]}'\n",
    "    response = requests.get(url).json()\n",
    "\n",
    "\n",
    "    cases.append(pd.DataFrame(response))\n",
    "\n",
    "    limit = len(response)\n",
    "    offset = offset + 1\n",
    "    print(limit)\n",
    "    print(url)\n",
    "        \n",
    "    \n",
    "\n",
    "cases = pd.concat(cases).reset_index(drop=True)\n",
    "\n",
    "\n",
    "# # Pretty print JSON for all launchpads\n",
    "# response = requests.get(url).json()\n",
    "# print(json.dumps(response, indent=4, sort_keys=True))\n",
    "\n",
    "# cases = pd.DataFrame(response)\n",
    "cases\n",
    "\n",
    "#*\n",
    "# cases = cases.loc[cases['county_fips_code'] != 'NA', :]\n",
    "#*\n"
   ]
  },
  {
   "cell_type": "code",
   "execution_count": null,
   "metadata": {},
   "outputs": [],
   "source": [
    "cases = []\n",
    "\n",
    "\n",
    "for n in range(0, len(county_nums)):\n",
    "    \n",
    "    for race in races:\n",
    "\n",
    "        url = f'https://data.cdc.gov/resource/n8mc-b4w4.json?$limit=300000&$offset={offset}&county_fips_code={county_nums[n]}'\n",
    "        response = requests.get(url).json()\n",
    "\n",
    "\n",
    "        cases.append(pd.DataFrame(response))\n",
    "\n",
    "        limit = len(response)\n",
    "        offset = offset + 1\n",
    "        print(limit)\n",
    "        print(url)\n",
    "        \n",
    "    \n",
    "\n",
    "cases = pd.concat(cases).reset_index(drop=True)\n",
    "\n",
    "\n",
    "# # Pretty print JSON for all launchpads\n",
    "# response = requests.get(url).json()\n",
    "# print(json.dumps(response, indent=4, sort_keys=True))\n",
    "\n",
    "# cases = pd.DataFrame(response)\n",
    "cases\n",
    "\n",
    "#*\n",
    "# cases = cases.loc[cases['county_fips_code'] != 'NA', :]\n",
    "#*\n"
   ]
  },
  {
   "cell_type": "code",
   "execution_count": null,
   "metadata": {},
   "outputs": [],
   "source": [
    "url = f'https://data.cdc.gov/resource/n8mc-b4w4.json?$limit=300000&$offset=0&race=White&county_fips_code={county_nums[0]}'\n",
    "response = requests.get(url).json()\n",
    "# print(json.dumps(response, indent=4, sort_keys=True))\n",
    "pd.DataFrame(response)"
   ]
  },
  {
   "cell_type": "code",
   "execution_count": null,
   "metadata": {},
   "outputs": [],
   "source": [
    "len(cases.loc[cases['res_county'] == 'JACKSON',:])"
   ]
  },
  {
   "cell_type": "code",
   "execution_count": null,
   "metadata": {},
   "outputs": [],
   "source": [
    "cases['race'].unique()\n"
   ]
  },
  {
   "cell_type": "code",
   "execution_count": null,
   "metadata": {},
   "outputs": [],
   "source": [
    "cases['ethnicity'].unique()"
   ]
  },
  {
   "cell_type": "code",
   "execution_count": null,
   "metadata": {
    "scrolled": true
   },
   "outputs": [],
   "source": [
    "case_counts = pd.DataFrame(cases['county_fips_code'].value_counts())\n",
    "\n",
    "case_counts = case_counts.reset_index()\n",
    "case_counts = case_counts.rename(columns={'index': 'county_fips', 'county_fips_code': 'case_count'})\n",
    "case_counts = pd.merge(case_counts, ccvi, on='county_fips')\n",
    "\n",
    "case_counts\n",
    "\n"
   ]
  },
  {
   "cell_type": "code",
   "execution_count": null,
   "metadata": {},
   "outputs": [],
   "source": [
    "from sklearn.linear_model import LinearRegression\n",
    "model = LinearRegression()\n",
    "model"
   ]
  },
  {
   "cell_type": "code",
   "execution_count": null,
   "metadata": {},
   "outputs": [],
   "source": [
    "X = case_counts['ccvi'].values.reshape(-1, 1)\n",
    "y = case_counts['case_count'].values.reshape(-1, 1)\n",
    "\n",
    "# import necessary dependencies\n",
    "from sklearn.model_selection import train_test_split\n",
    "\n",
    "# create split\n",
    "X_train, X_test, y_train, y_test = train_test_split(X, y, random_state=42)\n"
   ]
  },
  {
   "cell_type": "code",
   "execution_count": null,
   "metadata": {},
   "outputs": [],
   "source": [
    "plt.scatter(X, y)"
   ]
  },
  {
   "cell_type": "code",
   "execution_count": null,
   "metadata": {},
   "outputs": [],
   "source": [
    "model.fit(X_train, y_train)\n",
    "\n",
    "model.score(X_test, y_test)\n"
   ]
  },
  {
   "cell_type": "code",
   "execution_count": null,
   "metadata": {},
   "outputs": [],
   "source": [
    "model.predict()"
   ]
  },
  {
   "cell_type": "code",
   "execution_count": null,
   "metadata": {},
   "outputs": [],
   "source": []
  },
  {
   "cell_type": "markdown",
   "metadata": {
    "slideshow": {
     "slide_type": "slide"
    }
   },
   "source": [
    "# Quantifying Linear Regression"
   ]
  },
  {
   "cell_type": "markdown",
   "metadata": {
    "slideshow": {
     "slide_type": "subslide"
    }
   },
   "source": [
    "Create a model to quantify"
   ]
  },
  {
   "cell_type": "code",
   "execution_count": null,
   "metadata": {
    "slideshow": {
     "slide_type": "fragment"
    }
   },
   "outputs": [],
   "source": [
    "# Import dependencies\n",
    "from sklearn.datasets import make_regression\n",
    "from sklearn.linear_model import LinearRegression\n",
    "\n",
    "# Generate some data\n",
    "X, y = make_regression(n_samples=20, n_features=1, random_state=0, noise=4, bias=100.0)\n",
    "\n",
    "# Create a linear model\n",
    "model = LinearRegression()\n",
    "\n",
    "# Fit (Train) our model to the data\n",
    "model.fit(X, y)"
   ]
  },
  {
   "cell_type": "markdown",
   "metadata": {
    "slideshow": {
     "slide_type": "slide"
    }
   },
   "source": [
    "## Quantifying our Model\n",
    "\n",
    "* Mean Squared Error (MSE)\n",
    "\n",
    "* R2 Score"
   ]
  },
  {
   "cell_type": "markdown",
   "metadata": {
    "slideshow": {
     "slide_type": "subslide"
    }
   },
   "source": [
    "There are a variety of ways to quantify the model, but MSE and R2 are very common"
   ]
  },
  {
   "cell_type": "code",
   "execution_count": null,
   "metadata": {
    "slideshow": {
     "slide_type": "fragment"
    }
   },
   "outputs": [],
   "source": [
    "from sklearn.metrics import mean_squared_error, r2_score\n",
    "\n",
    "# Use our model to predict a value\n",
    "predicted = model.predict(X)\n",
    "\n",
    "# Score the prediction with mse and r2\n",
    "mse = mean_squared_error(y, predicted)\n",
    "r2 = r2_score(y, predicted)\n",
    "\n",
    "print(f\"Mean Squared Error (MSE): {mse}\")\n",
    "print(f\"R-squared (R2 ): {r2}\")"
   ]
  },
  {
   "cell_type": "markdown",
   "metadata": {
    "slideshow": {
     "slide_type": "fragment"
    }
   },
   "source": [
    "A \"good\" MSE score will be close to zero while a \"good\" [R2 Score](https://en.wikipedia.org/wiki/Coefficient_of_determination) will be close to 1."
   ]
  },
  {
   "cell_type": "markdown",
   "metadata": {
    "slideshow": {
     "slide_type": "subslide"
    }
   },
   "source": [
    "R2 Score is the default scoring for many of the Sklearn models"
   ]
  },
  {
   "cell_type": "code",
   "execution_count": null,
   "metadata": {
    "slideshow": {
     "slide_type": "fragment"
    }
   },
   "outputs": [],
   "source": [
    "# Overall Score for the model\n",
    "model.score(X, y)"
   ]
  },
  {
   "cell_type": "markdown",
   "metadata": {
    "slideshow": {
     "slide_type": "notes"
    }
   },
   "source": [
    "## Validation\n",
    "\n",
    "We also want to understand how well our model performs on new data. \n",
    "\n",
    "One approach for this is to split your data into a training and testing dataset.\n",
    "\n",
    "You fit (train) the model using training data, and score and validate your model using the testing data.\n",
    "\n",
    "This train/test splitting is so common that Sklearn provides a mechanism for doing this. "
   ]
  },
  {
   "cell_type": "markdown",
   "metadata": {
    "slideshow": {
     "slide_type": "slide"
    }
   },
   "source": [
    "## Testing and Training Data\n",
    "\n",
    "In order to quantify our model against new input values, we often split the data into training and testing data. The model is then fit to the training data and scored by the test data. Sklean pre-processing provides a library for automatically splitting up the data into training and testing"
   ]
  },
  {
   "cell_type": "code",
   "execution_count": null,
   "metadata": {
    "slideshow": {
     "slide_type": "fragment"
    }
   },
   "outputs": [],
   "source": [
    "from sklearn.model_selection import train_test_split\n",
    "\n",
    "X_train, X_test, y_train, y_test = train_test_split(X, y, random_state=42)"
   ]
  },
  {
   "cell_type": "markdown",
   "metadata": {
    "slideshow": {
     "slide_type": "subslide"
    }
   },
   "source": [
    "Train the model using the training data"
   ]
  },
  {
   "cell_type": "code",
   "execution_count": null,
   "metadata": {
    "slideshow": {
     "slide_type": "fragment"
    }
   },
   "outputs": [],
   "source": [
    "model.fit(X_train, y_train)"
   ]
  },
  {
   "cell_type": "markdown",
   "metadata": {
    "slideshow": {
     "slide_type": "subslide"
    }
   },
   "source": [
    "And score the model using the unseen testing data"
   ]
  },
  {
   "cell_type": "code",
   "execution_count": null,
   "metadata": {
    "slideshow": {
     "slide_type": "fragment"
    }
   },
   "outputs": [],
   "source": [
    "model.score(X_test, y_test)"
   ]
  },
  {
   "cell_type": "markdown",
   "metadata": {
    "slideshow": {
     "slide_type": "slide"
    }
   },
   "source": [
    "## Your Turn!"
   ]
  }
 ],
 "metadata": {
  "anaconda-cloud": {},
  "celltoolbar": "Slideshow",
  "kernelspec": {
   "display_name": "Python 3",
   "language": "python",
   "name": "python3"
  },
  "language_info": {
   "codemirror_mode": {
    "name": "ipython",
    "version": 3
   },
   "file_extension": ".py",
   "mimetype": "text/x-python",
   "name": "python",
   "nbconvert_exporter": "python",
   "pygments_lexer": "ipython3",
   "version": "3.8.5"
  },
  "varInspector": {
   "cols": {
    "lenName": 16,
    "lenType": 16,
    "lenVar": 40
   },
   "kernels_config": {
    "python": {
     "delete_cmd_postfix": "",
     "delete_cmd_prefix": "del ",
     "library": "var_list.py",
     "varRefreshCmd": "print(var_dic_list())"
    },
    "r": {
     "delete_cmd_postfix": ") ",
     "delete_cmd_prefix": "rm(",
     "library": "var_list.r",
     "varRefreshCmd": "cat(var_dic_list()) "
    }
   },
   "types_to_exclude": [
    "module",
    "function",
    "builtin_function_or_method",
    "instance",
    "_Feature"
   ],
   "window_display": false
  }
 },
 "nbformat": 4,
 "nbformat_minor": 2
}
