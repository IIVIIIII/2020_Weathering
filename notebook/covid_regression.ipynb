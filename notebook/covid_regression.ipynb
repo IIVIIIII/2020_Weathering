{
 "cells": [
  {
   "cell_type": "code",
   "execution_count": 1,
   "metadata": {},
   "outputs": [],
   "source": [
    "# Dependencies\n",
    "import pandas as pd\n",
    "import matplotlib.pyplot as plt\n",
    "import requests\n",
    "import json"
   ]
  },
  {
   "cell_type": "code",
   "execution_count": 2,
   "metadata": {},
   "outputs": [
    {
     "data": {
      "text/html": [
       "<div>\n",
       "<style scoped>\n",
       "    .dataframe tbody tr th:only-of-type {\n",
       "        vertical-align: middle;\n",
       "    }\n",
       "\n",
       "    .dataframe tbody tr th {\n",
       "        vertical-align: top;\n",
       "    }\n",
       "\n",
       "    .dataframe thead th {\n",
       "        text-align: right;\n",
       "    }\n",
       "</style>\n",
       "<table border=\"1\" class=\"dataframe\">\n",
       "  <thead>\n",
       "    <tr style=\"text-align: right;\">\n",
       "      <th></th>\n",
       "      <th>FIPS</th>\n",
       "      <th>stateName</th>\n",
       "      <th>countyName</th>\n",
       "      <th>ccvi</th>\n",
       "      <th>theme1</th>\n",
       "      <th>theme2</th>\n",
       "      <th>theme3</th>\n",
       "      <th>theme4</th>\n",
       "      <th>theme5</th>\n",
       "      <th>theme6</th>\n",
       "      <th>theme7</th>\n",
       "    </tr>\n",
       "  </thead>\n",
       "  <tbody>\n",
       "    <tr>\n",
       "      <th>0</th>\n",
       "      <td>1001020100</td>\n",
       "      <td>ALABAMA</td>\n",
       "      <td>Autauga</td>\n",
       "      <td>0.441972</td>\n",
       "      <td>0.458336</td>\n",
       "      <td>0.377478</td>\n",
       "      <td>0.170811</td>\n",
       "      <td>0.841617</td>\n",
       "      <td>0.966294</td>\n",
       "      <td>0.209805</td>\n",
       "      <td>0.287591</td>\n",
       "    </tr>\n",
       "    <tr>\n",
       "      <th>1</th>\n",
       "      <td>1001020200</td>\n",
       "      <td>ALABAMA</td>\n",
       "      <td>Autauga</td>\n",
       "      <td>0.742619</td>\n",
       "      <td>0.562935</td>\n",
       "      <td>0.584587</td>\n",
       "      <td>0.683826</td>\n",
       "      <td>0.768947</td>\n",
       "      <td>0.982399</td>\n",
       "      <td>0.209805</td>\n",
       "      <td>0.427810</td>\n",
       "    </tr>\n",
       "    <tr>\n",
       "      <th>2</th>\n",
       "      <td>1001020300</td>\n",
       "      <td>ALABAMA</td>\n",
       "      <td>Autauga</td>\n",
       "      <td>0.778072</td>\n",
       "      <td>0.245094</td>\n",
       "      <td>0.645024</td>\n",
       "      <td>0.472226</td>\n",
       "      <td>0.863762</td>\n",
       "      <td>0.953086</td>\n",
       "      <td>0.724817</td>\n",
       "      <td>0.439041</td>\n",
       "    </tr>\n",
       "    <tr>\n",
       "      <th>3</th>\n",
       "      <td>1001020400</td>\n",
       "      <td>ALABAMA</td>\n",
       "      <td>Autauga</td>\n",
       "      <td>0.362727</td>\n",
       "      <td>0.023280</td>\n",
       "      <td>0.370119</td>\n",
       "      <td>0.192050</td>\n",
       "      <td>0.977978</td>\n",
       "      <td>0.894654</td>\n",
       "      <td>0.209805</td>\n",
       "      <td>0.425573</td>\n",
       "    </tr>\n",
       "    <tr>\n",
       "      <th>4</th>\n",
       "      <td>1001020500</td>\n",
       "      <td>ALABAMA</td>\n",
       "      <td>Autauga</td>\n",
       "      <td>0.816600</td>\n",
       "      <td>0.319725</td>\n",
       "      <td>0.421440</td>\n",
       "      <td>0.764060</td>\n",
       "      <td>0.753240</td>\n",
       "      <td>0.978307</td>\n",
       "      <td>0.749454</td>\n",
       "      <td>0.497597</td>\n",
       "    </tr>\n",
       "    <tr>\n",
       "      <th>...</th>\n",
       "      <td>...</td>\n",
       "      <td>...</td>\n",
       "      <td>...</td>\n",
       "      <td>...</td>\n",
       "      <td>...</td>\n",
       "      <td>...</td>\n",
       "      <td>...</td>\n",
       "      <td>...</td>\n",
       "      <td>...</td>\n",
       "      <td>...</td>\n",
       "      <td>...</td>\n",
       "    </tr>\n",
       "    <tr>\n",
       "      <th>72177</th>\n",
       "      <td>56043000200</td>\n",
       "      <td>WYOMING</td>\n",
       "      <td>Washakie</td>\n",
       "      <td>0.193098</td>\n",
       "      <td>0.632400</td>\n",
       "      <td>0.106362</td>\n",
       "      <td>0.792014</td>\n",
       "      <td>0.669875</td>\n",
       "      <td>0.126091</td>\n",
       "      <td>0.259923</td>\n",
       "      <td>0.008196</td>\n",
       "    </tr>\n",
       "    <tr>\n",
       "      <th>72178</th>\n",
       "      <td>56043000301</td>\n",
       "      <td>WYOMING</td>\n",
       "      <td>Washakie</td>\n",
       "      <td>0.288511</td>\n",
       "      <td>0.536803</td>\n",
       "      <td>0.358751</td>\n",
       "      <td>0.539916</td>\n",
       "      <td>0.400654</td>\n",
       "      <td>0.199599</td>\n",
       "      <td>0.259923</td>\n",
       "      <td>0.589599</td>\n",
       "    </tr>\n",
       "    <tr>\n",
       "      <th>72179</th>\n",
       "      <td>56043000302</td>\n",
       "      <td>WYOMING</td>\n",
       "      <td>Washakie</td>\n",
       "      <td>0.574666</td>\n",
       "      <td>0.804595</td>\n",
       "      <td>0.349800</td>\n",
       "      <td>0.613380</td>\n",
       "      <td>0.701398</td>\n",
       "      <td>0.137185</td>\n",
       "      <td>0.815509</td>\n",
       "      <td>0.273972</td>\n",
       "    </tr>\n",
       "    <tr>\n",
       "      <th>72180</th>\n",
       "      <td>56045951100</td>\n",
       "      <td>WYOMING</td>\n",
       "      <td>Weston</td>\n",
       "      <td>0.112481</td>\n",
       "      <td>0.476381</td>\n",
       "      <td>0.238316</td>\n",
       "      <td>0.834326</td>\n",
       "      <td>0.559188</td>\n",
       "      <td>0.149020</td>\n",
       "      <td>0.037122</td>\n",
       "      <td>0.008224</td>\n",
       "    </tr>\n",
       "    <tr>\n",
       "      <th>72181</th>\n",
       "      <td>56045951300</td>\n",
       "      <td>WYOMING</td>\n",
       "      <td>Weston</td>\n",
       "      <td>0.317812</td>\n",
       "      <td>0.621751</td>\n",
       "      <td>0.291037</td>\n",
       "      <td>0.740620</td>\n",
       "      <td>0.483470</td>\n",
       "      <td>0.234197</td>\n",
       "      <td>0.442149</td>\n",
       "      <td>0.152109</td>\n",
       "    </tr>\n",
       "  </tbody>\n",
       "</table>\n",
       "<p>72182 rows × 11 columns</p>\n",
       "</div>"
      ],
      "text/plain": [
       "              FIPS stateName countyName      ccvi    theme1    theme2  \\\n",
       "0       1001020100   ALABAMA    Autauga  0.441972  0.458336  0.377478   \n",
       "1       1001020200   ALABAMA    Autauga  0.742619  0.562935  0.584587   \n",
       "2       1001020300   ALABAMA    Autauga  0.778072  0.245094  0.645024   \n",
       "3       1001020400   ALABAMA    Autauga  0.362727  0.023280  0.370119   \n",
       "4       1001020500   ALABAMA    Autauga  0.816600  0.319725  0.421440   \n",
       "...            ...       ...        ...       ...       ...       ...   \n",
       "72177  56043000200   WYOMING   Washakie  0.193098  0.632400  0.106362   \n",
       "72178  56043000301   WYOMING   Washakie  0.288511  0.536803  0.358751   \n",
       "72179  56043000302   WYOMING   Washakie  0.574666  0.804595  0.349800   \n",
       "72180  56045951100   WYOMING     Weston  0.112481  0.476381  0.238316   \n",
       "72181  56045951300   WYOMING     Weston  0.317812  0.621751  0.291037   \n",
       "\n",
       "         theme3    theme4    theme5    theme6    theme7  \n",
       "0      0.170811  0.841617  0.966294  0.209805  0.287591  \n",
       "1      0.683826  0.768947  0.982399  0.209805  0.427810  \n",
       "2      0.472226  0.863762  0.953086  0.724817  0.439041  \n",
       "3      0.192050  0.977978  0.894654  0.209805  0.425573  \n",
       "4      0.764060  0.753240  0.978307  0.749454  0.497597  \n",
       "...         ...       ...       ...       ...       ...  \n",
       "72177  0.792014  0.669875  0.126091  0.259923  0.008196  \n",
       "72178  0.539916  0.400654  0.199599  0.259923  0.589599  \n",
       "72179  0.613380  0.701398  0.137185  0.815509  0.273972  \n",
       "72180  0.834326  0.559188  0.149020  0.037122  0.008224  \n",
       "72181  0.740620  0.483470  0.234197  0.442149  0.152109  \n",
       "\n",
       "[72182 rows x 11 columns]"
      ]
     },
     "execution_count": 2,
     "metadata": {},
     "output_type": "execute_result"
    }
   ],
   "source": [
    "ccvi = pd.read_csv('../resources/ccvi_nonulls.csv')\n",
    "ccvi\n"
   ]
  },
  {
   "cell_type": "code",
   "execution_count": 3,
   "metadata": {},
   "outputs": [],
   "source": [
    "city = 'Los Angeles'\n",
    "state = 'California'\n",
    "\n",
    "states ={ \n",
    "  \"Alabama\": \"01\", \"Alaska\": \"02\",\n",
    "  \"Arizona\": \"04\",\n",
    "  \"Arkansas\": \"05\",\n",
    "  \"California\": \"06\",\n",
    "  \"Colorado\": \"08\",\n",
    "  \"Delaware\": \"10\",\n",
    "  \"District of Columbia\": \"11\",\n",
    "  \"Connecticut\": \"09\",\n",
    "  \"Florida\": \"12\",\n",
    "  \"Georgia\": \"13\",\n",
    "  \"Idaho\": \"16\",\n",
    "  \"Hawaii\": \"15\",\n",
    "  \"Illinois\": \"17\",\n",
    "  \"Indiana\": \"18\",\n",
    "  \"Iowa\": \"19\",\n",
    "  \"Kansas\": \"20\",\n",
    "  \"Kentucky\": \"21\",\n",
    "  \"Louisiana\": \"22\",\n",
    "  \"Maine\": \"23\",\n",
    "  \"Maryland\": \"24\",\n",
    "  \"Massachusetts\": \"25\",\n",
    "  \"Michigan\": \"26\",\n",
    "  \"Minnesota\": \"27\",\n",
    "  \"Mississippi\": \"28\",\n",
    "  \"Missouri\": \"29\",\n",
    "  \"Montana\": \"30\",\n",
    "  \"Nebraska\": \"31\",\n",
    "  \"Nevada\": \"32\",\n",
    "  \"New Hampshire\": \"33\",\n",
    "  \"New Jersey\": \"34\",\n",
    "  \"New Mexico\": \"35\",\n",
    "  \"New York\": \"36\",\n",
    "  \"North Carolina\": \"37\",\n",
    "  \"North Dakota\": \"38\",\n",
    "  \"Ohio\": \"39\",\n",
    "  \"Oklahoma\": \"40\",\n",
    "  \"Oregon\": \"41\",\n",
    "  \"Pennsylvania\": \"42\",\n",
    "  \"Rhode Island\": \"44\",\n",
    "  \"South Carolina\": \"45\",\n",
    "  \"South Dakota\": \"46\",\n",
    "  \"Tennessee\": \"47\",\n",
    "  \"Texas\": \"48\",\n",
    "  \"Vermont\": \"50\",\n",
    "  \"Utah\": \"49\",\n",
    "  \"Virginia\": \"51\",\n",
    "  \"Washington\": \"53\",\n",
    "  \"West Virginia\": \"54\",\n",
    "  \"Wisconsin\": \"55\",\n",
    "  \"Wyoming\": \"56\",\n",
    "  \"Puerto Rico\": \"72\"\n",
    "}"
   ]
  },
  {
   "cell_type": "code",
   "execution_count": 4,
   "metadata": {},
   "outputs": [],
   "source": [
    "city = f'{city} city'\n",
    "state_num = states[state]\n",
    "full_city = f'{city}, {state}'\n",
    "county_nums = []\n",
    "county_query = ''\n",
    "tracts = []\n",
    "pops = 'B02001_002E,B02001_003E,B02001_004E,B02001_005E,B02001_006E,B03001_003E'\n",
    "demogs = {\n",
    "  'white': {},\n",
    "  'black': {},\n",
    "  'native': {},\n",
    "  'asian': {},\n",
    "  'pacific': {},\n",
    "  'hispanic': {}\n",
    "}\n",
    "\n",
    "\n"
   ]
  },
  {
   "cell_type": "code",
   "execution_count": 5,
   "metadata": {},
   "outputs": [],
   "source": [
    "url = f'https://api.census.gov/data/2019/acs/acs5?get=NAME&for=place:*&in=state:{state_num}'\n",
    "\n",
    "response = requests.get(url).json()\n",
    "# print(json.dumps(response, indent=4, sort_keys=True))\n",
    "\n",
    "for r in response:\n",
    "    if r[0] == full_city:\n",
    "        url = f'https://api.census.gov/data/2019/acs/acs5?get=NAME&for=county%20(or%20part):*&in=state:{state_num}%20place:{r[2]}'\n",
    "        break\n",
    "        \n",
    "response = requests.get(url).json()\n",
    "\n",
    "for r in response:\n",
    "    if r[0] != 'NAME': \n",
    "        county_nums.append(r[3])\n",
    "\n",
    "for n in range(0, len(county_nums)):\n",
    "    if n == 0:\n",
    "        county_query = county_nums[n]\n",
    "    else:\n",
    "        county_query = county_query + f',{county_nums[n]}'\n",
    "\n",
    "\n",
    "        \n",
    "url = f'https://api.census.gov/data/2019/acs/acs5?get=NAME,{pops}&for=tract:*&in=county:{county_query}&in=state:{state_num}'\n",
    "\n",
    "response = requests.get(url).json()\n",
    "\n",
    "for r in response:\n",
    "    if r[0] != 'NAME':\n",
    "        tracts.append({\n",
    "              'FIPS': int(f'{r[7]}{r[8]}{r[9]}'),\n",
    "              'white': int(r[1]),\n",
    "              'black': int(r[2]),\n",
    "              'native': int(r[3]),\n",
    "              'asian': int(r[4]),\n",
    "              'pacific': int(r[5]),\n",
    "              'hispanic': int(r[6])\n",
    "        })\n",
    "\n",
    "\n"
   ]
  },
  {
   "cell_type": "code",
   "execution_count": 6,
   "metadata": {},
   "outputs": [
    {
     "data": {
      "text/plain": [
       "{'white': {'population': 5156557, 'ccvi': 0.6810336427552947},\n",
       " 'black': {'population': 817330, 'ccvi': 0.79544326742164},\n",
       " 'native': {'population': 72840, 'ccvi': 0.7858800386781027},\n",
       " 'asian': {'population': 1467799, 'ccvi': 0.6743921988070805},\n",
       " 'pacific': {'population': 27621, 'ccvi': 0.757907937034032},\n",
       " 'hispanic': {'population': 4879919, 'ccvi': 0.8189258549507044}}"
      ]
     },
     "execution_count": 6,
     "metadata": {},
     "output_type": "execute_result"
    }
   ],
   "source": [
    "populations = pd.DataFrame(tracts)\n",
    "populations\n",
    "\n",
    "ccvi_and_pop = pd.merge(populations, ccvi, on='FIPS')\n",
    "\n",
    "races = ['white','black','native','asian', 'pacific', 'hispanic']\n",
    "\n",
    "for race in races:\n",
    "    demogs[race]['population'] = ccvi_and_pop[race].sum()\n",
    "    demogs[race]['ccvi'] = (ccvi_and_pop[race]*ccvi_and_pop['ccvi']).sum()/demogs[race]['population']\n",
    "\n",
    "demogs\n"
   ]
  },
  {
   "cell_type": "code",
   "execution_count": null,
   "metadata": {},
   "outputs": [],
   "source": []
  },
  {
   "cell_type": "code",
   "execution_count": null,
   "metadata": {},
   "outputs": [],
   "source": []
  },
  {
   "cell_type": "code",
   "execution_count": null,
   "metadata": {},
   "outputs": [],
   "source": []
  },
  {
   "cell_type": "code",
   "execution_count": null,
   "metadata": {},
   "outputs": [],
   "source": []
  },
  {
   "cell_type": "code",
   "execution_count": 7,
   "metadata": {},
   "outputs": [],
   "source": [
    "# for n in range(0, len(county_nums)):\n",
    "#     if n == 0:\n",
    "#         county_query = state_num + county_nums[n]\n",
    "#     else:\n",
    "#         county_query = county_query + f',{state_num}{county_nums[n]}'\n",
    "\n",
    "# county_query"
   ]
  },
  {
   "cell_type": "code",
   "execution_count": 114,
   "metadata": {
    "scrolled": true
   },
   "outputs": [
    {
     "data": {
      "text/html": [
       "<div>\n",
       "<style scoped>\n",
       "    .dataframe tbody tr th:only-of-type {\n",
       "        vertical-align: middle;\n",
       "    }\n",
       "\n",
       "    .dataframe tbody tr th {\n",
       "        vertical-align: top;\n",
       "    }\n",
       "\n",
       "    .dataframe thead th {\n",
       "        text-align: right;\n",
       "    }\n",
       "</style>\n",
       "<table border=\"1\" class=\"dataframe\">\n",
       "  <thead>\n",
       "    <tr style=\"text-align: right;\">\n",
       "      <th></th>\n",
       "      <th>county_fips</th>\n",
       "      <th>ccvi</th>\n",
       "    </tr>\n",
       "  </thead>\n",
       "  <tbody>\n",
       "    <tr>\n",
       "      <th>0</th>\n",
       "      <td>10001</td>\n",
       "      <td>0.373740</td>\n",
       "    </tr>\n",
       "    <tr>\n",
       "      <th>1</th>\n",
       "      <td>10003</td>\n",
       "      <td>0.290547</td>\n",
       "    </tr>\n",
       "    <tr>\n",
       "      <th>2</th>\n",
       "      <td>10005</td>\n",
       "      <td>0.286698</td>\n",
       "    </tr>\n",
       "    <tr>\n",
       "      <th>3</th>\n",
       "      <td>10010</td>\n",
       "      <td>0.618398</td>\n",
       "    </tr>\n",
       "    <tr>\n",
       "      <th>4</th>\n",
       "      <td>10030</td>\n",
       "      <td>0.482349</td>\n",
       "    </tr>\n",
       "    <tr>\n",
       "      <th>...</th>\n",
       "      <td>...</td>\n",
       "      <td>...</td>\n",
       "    </tr>\n",
       "    <tr>\n",
       "      <th>3168</th>\n",
       "      <td>90119</td>\n",
       "      <td>0.007052</td>\n",
       "    </tr>\n",
       "    <tr>\n",
       "      <th>3169</th>\n",
       "      <td>90135</td>\n",
       "      <td>0.066665</td>\n",
       "    </tr>\n",
       "    <tr>\n",
       "      <th>3170</th>\n",
       "      <td>90138</td>\n",
       "      <td>0.055681</td>\n",
       "    </tr>\n",
       "    <tr>\n",
       "      <th>3171</th>\n",
       "      <td>90158</td>\n",
       "      <td>0.338784</td>\n",
       "    </tr>\n",
       "    <tr>\n",
       "      <th>3172</th>\n",
       "      <td>90159</td>\n",
       "      <td>0.131038</td>\n",
       "    </tr>\n",
       "  </tbody>\n",
       "</table>\n",
       "<p>3173 rows × 2 columns</p>\n",
       "</div>"
      ],
      "text/plain": [
       "     county_fips      ccvi\n",
       "0          10001  0.373740\n",
       "1          10003  0.290547\n",
       "2          10005  0.286698\n",
       "3          10010  0.618398\n",
       "4          10030  0.482349\n",
       "...          ...       ...\n",
       "3168       90119  0.007052\n",
       "3169       90135  0.066665\n",
       "3170       90138  0.055681\n",
       "3171       90158  0.338784\n",
       "3172       90159  0.131038\n",
       "\n",
       "[3173 rows x 2 columns]"
      ]
     },
     "execution_count": 114,
     "metadata": {},
     "output_type": "execute_result"
    }
   ],
   "source": [
    "# ccvi['FIPS'] = ccvi['FIPS'].apply(lambda x: str(x)[:5])\n",
    "\n",
    "# #!\n",
    "# ccvi = pd.DataFrame(ccvi.groupby('FIPS')['ccvi'].mean())\n",
    "# #!\n",
    "\n",
    "# ccvi = ccvi.reset_index()\n",
    "# ccvi = ccvi.rename(columns={'FIPS': 'county_fips'})\n",
    "\n",
    "# ccvi"
   ]
  },
  {
   "cell_type": "code",
   "execution_count": 115,
   "metadata": {},
   "outputs": [],
   "source": [
    "# # drop the null rows\n",
    "# ccvi = ccvi.dropna()\n",
    "# ccvi.set_index('FIPS', inplace=True)\n",
    "# ccvi\n",
    "\n",
    "# ccvi.to_csv(r'../resources/ccvi_nonulls.csv')"
   ]
  },
  {
   "cell_type": "code",
   "execution_count": 116,
   "metadata": {},
   "outputs": [
    {
     "data": {
      "text/plain": [
       "['06037']"
      ]
     },
     "execution_count": 116,
     "metadata": {},
     "output_type": "execute_result"
    }
   ],
   "source": [
    "for n in range(0, len(county_nums)):\n",
    "    county_nums[n] = state_num + county_nums[n]\n",
    "\n",
    "county_nums"
   ]
  },
  {
   "cell_type": "code",
   "execution_count": null,
   "metadata": {},
   "outputs": [],
   "source": []
  },
  {
   "cell_type": "code",
   "execution_count": 103,
   "metadata": {
    "scrolled": true
   },
   "outputs": [],
   "source": [
    "cases = []\n",
    "\n",
    "\n",
    "for n in range(0, len(county_nums)):\n",
    "\n",
    "    url = f'https://data.cdc.gov/resource/n8mc-b4w4.json?$limit=300000&$offset={offset}&county_fips_code={county_nums[n]}'\n",
    "    response = requests.get(url).json()\n",
    "\n",
    "\n",
    "    cases.append(pd.DataFrame(response))\n",
    "\n",
    "    limit = len(response)\n",
    "    offset = offset + 1\n",
    "    print(limit)\n",
    "    print(url)\n",
    "        \n",
    "    \n",
    "\n",
    "cases = pd.concat(cases).reset_index(drop=True)\n",
    "\n",
    "\n",
    "# # Pretty print JSON for all launchpads\n",
    "# response = requests.get(url).json()\n",
    "# print(json.dumps(response, indent=4, sort_keys=True))\n",
    "\n",
    "# cases = pd.DataFrame(response)\n",
    "cases\n",
    "\n",
    "#*\n",
    "# cases = cases.loc[cases['county_fips_code'] != 'NA', :]\n",
    "#*\n"
   ]
  },
  {
   "cell_type": "code",
   "execution_count": null,
   "metadata": {},
   "outputs": [],
   "source": [
    "cases = []\n",
    "\n",
    "\n",
    "for n in range(0, len(county_nums)):\n",
    "    \n",
    "    for race in races:\n",
    "\n",
    "        url = f'https://data.cdc.gov/resource/n8mc-b4w4.json?$limit=300000&$offset={offset}&county_fips_code={county_nums[n]}'\n",
    "        response = requests.get(url).json()\n",
    "\n",
    "\n",
    "        cases.append(pd.DataFrame(response))\n",
    "\n",
    "        limit = len(response)\n",
    "        offset = offset + 1\n",
    "        print(limit)\n",
    "        print(url)\n",
    "        \n",
    "    \n",
    "\n",
    "cases = pd.concat(cases).reset_index(drop=True)\n",
    "\n",
    "\n",
    "# # Pretty print JSON for all launchpads\n",
    "# response = requests.get(url).json()\n",
    "# print(json.dumps(response, indent=4, sort_keys=True))\n",
    "\n",
    "# cases = pd.DataFrame(response)\n",
    "cases\n",
    "\n",
    "#*\n",
    "# cases = cases.loc[cases['county_fips_code'] != 'NA', :]\n",
    "#*\n"
   ]
  },
  {
   "cell_type": "code",
   "execution_count": 93,
   "metadata": {},
   "outputs": [
    {
     "data": {
      "text/html": [
       "<div>\n",
       "<style scoped>\n",
       "    .dataframe tbody tr th:only-of-type {\n",
       "        vertical-align: middle;\n",
       "    }\n",
       "\n",
       "    .dataframe tbody tr th {\n",
       "        vertical-align: top;\n",
       "    }\n",
       "\n",
       "    .dataframe thead th {\n",
       "        text-align: right;\n",
       "    }\n",
       "</style>\n",
       "<table border=\"1\" class=\"dataframe\">\n",
       "  <thead>\n",
       "    <tr style=\"text-align: right;\">\n",
       "      <th></th>\n",
       "      <th>case_month</th>\n",
       "      <th>res_state</th>\n",
       "      <th>state_fips_code</th>\n",
       "      <th>res_county</th>\n",
       "      <th>county_fips_code</th>\n",
       "      <th>age_group</th>\n",
       "      <th>sex</th>\n",
       "      <th>race</th>\n",
       "      <th>ethnicity</th>\n",
       "      <th>process</th>\n",
       "      <th>exposure_yn</th>\n",
       "      <th>current_status</th>\n",
       "      <th>symptom_status</th>\n",
       "      <th>hosp_yn</th>\n",
       "      <th>icu_yn</th>\n",
       "      <th>death_yn</th>\n",
       "      <th>case_onset_interval</th>\n",
       "      <th>underlying_conditions_yn</th>\n",
       "      <th>case_positive_specimen</th>\n",
       "    </tr>\n",
       "  </thead>\n",
       "  <tbody>\n",
       "    <tr>\n",
       "      <th>0</th>\n",
       "      <td>2020-06</td>\n",
       "      <td>CA</td>\n",
       "      <td>06</td>\n",
       "      <td>LOS ANGELES</td>\n",
       "      <td>06037</td>\n",
       "      <td>0 - 17 years</td>\n",
       "      <td>Female</td>\n",
       "      <td>White</td>\n",
       "      <td>Hispanic/Latino</td>\n",
       "      <td>Missing</td>\n",
       "      <td>Missing</td>\n",
       "      <td>Laboratory-confirmed case</td>\n",
       "      <td>Asymptomatic</td>\n",
       "      <td>No</td>\n",
       "      <td>Missing</td>\n",
       "      <td>No</td>\n",
       "      <td>NaN</td>\n",
       "      <td>NaN</td>\n",
       "      <td>NaN</td>\n",
       "    </tr>\n",
       "    <tr>\n",
       "      <th>1</th>\n",
       "      <td>2020-06</td>\n",
       "      <td>CA</td>\n",
       "      <td>06</td>\n",
       "      <td>LOS ANGELES</td>\n",
       "      <td>06037</td>\n",
       "      <td>0 - 17 years</td>\n",
       "      <td>Female</td>\n",
       "      <td>White</td>\n",
       "      <td>Hispanic/Latino</td>\n",
       "      <td>Missing</td>\n",
       "      <td>Missing</td>\n",
       "      <td>Laboratory-confirmed case</td>\n",
       "      <td>Symptomatic</td>\n",
       "      <td>Unknown</td>\n",
       "      <td>Missing</td>\n",
       "      <td>No</td>\n",
       "      <td>0.0</td>\n",
       "      <td>NaN</td>\n",
       "      <td>NaN</td>\n",
       "    </tr>\n",
       "    <tr>\n",
       "      <th>2</th>\n",
       "      <td>2020-06</td>\n",
       "      <td>CA</td>\n",
       "      <td>06</td>\n",
       "      <td>LOS ANGELES</td>\n",
       "      <td>06037</td>\n",
       "      <td>0 - 17 years</td>\n",
       "      <td>Female</td>\n",
       "      <td>White</td>\n",
       "      <td>Hispanic/Latino</td>\n",
       "      <td>Missing</td>\n",
       "      <td>Missing</td>\n",
       "      <td>Laboratory-confirmed case</td>\n",
       "      <td>Unknown</td>\n",
       "      <td>Unknown</td>\n",
       "      <td>Missing</td>\n",
       "      <td>No</td>\n",
       "      <td>NaN</td>\n",
       "      <td>NaN</td>\n",
       "      <td>NaN</td>\n",
       "    </tr>\n",
       "    <tr>\n",
       "      <th>3</th>\n",
       "      <td>2020-06</td>\n",
       "      <td>CA</td>\n",
       "      <td>06</td>\n",
       "      <td>LOS ANGELES</td>\n",
       "      <td>06037</td>\n",
       "      <td>0 - 17 years</td>\n",
       "      <td>Female</td>\n",
       "      <td>White</td>\n",
       "      <td>Hispanic/Latino</td>\n",
       "      <td>Missing</td>\n",
       "      <td>Missing</td>\n",
       "      <td>Laboratory-confirmed case</td>\n",
       "      <td>Symptomatic</td>\n",
       "      <td>Yes</td>\n",
       "      <td>Unknown</td>\n",
       "      <td>No</td>\n",
       "      <td>0.0</td>\n",
       "      <td>Yes</td>\n",
       "      <td>NaN</td>\n",
       "    </tr>\n",
       "    <tr>\n",
       "      <th>4</th>\n",
       "      <td>2020-06</td>\n",
       "      <td>CA</td>\n",
       "      <td>06</td>\n",
       "      <td>LOS ANGELES</td>\n",
       "      <td>06037</td>\n",
       "      <td>0 - 17 years</td>\n",
       "      <td>Female</td>\n",
       "      <td>White</td>\n",
       "      <td>Hispanic/Latino</td>\n",
       "      <td>Missing</td>\n",
       "      <td>Missing</td>\n",
       "      <td>Laboratory-confirmed case</td>\n",
       "      <td>Asymptomatic</td>\n",
       "      <td>No</td>\n",
       "      <td>Missing</td>\n",
       "      <td>No</td>\n",
       "      <td>NaN</td>\n",
       "      <td>NaN</td>\n",
       "      <td>NaN</td>\n",
       "    </tr>\n",
       "    <tr>\n",
       "      <th>...</th>\n",
       "      <td>...</td>\n",
       "      <td>...</td>\n",
       "      <td>...</td>\n",
       "      <td>...</td>\n",
       "      <td>...</td>\n",
       "      <td>...</td>\n",
       "      <td>...</td>\n",
       "      <td>...</td>\n",
       "      <td>...</td>\n",
       "      <td>...</td>\n",
       "      <td>...</td>\n",
       "      <td>...</td>\n",
       "      <td>...</td>\n",
       "      <td>...</td>\n",
       "      <td>...</td>\n",
       "      <td>...</td>\n",
       "      <td>...</td>\n",
       "      <td>...</td>\n",
       "      <td>...</td>\n",
       "    </tr>\n",
       "    <tr>\n",
       "      <th>256975</th>\n",
       "      <td>2020-05</td>\n",
       "      <td>CA</td>\n",
       "      <td>06</td>\n",
       "      <td>LOS ANGELES</td>\n",
       "      <td>06037</td>\n",
       "      <td>65+ years</td>\n",
       "      <td>Male</td>\n",
       "      <td>White</td>\n",
       "      <td>Unknown</td>\n",
       "      <td>Missing</td>\n",
       "      <td>Missing</td>\n",
       "      <td>Laboratory-confirmed case</td>\n",
       "      <td>Symptomatic</td>\n",
       "      <td>Unknown</td>\n",
       "      <td>Missing</td>\n",
       "      <td>No</td>\n",
       "      <td>0.0</td>\n",
       "      <td>NaN</td>\n",
       "      <td>NaN</td>\n",
       "    </tr>\n",
       "    <tr>\n",
       "      <th>256976</th>\n",
       "      <td>2020-05</td>\n",
       "      <td>CA</td>\n",
       "      <td>06</td>\n",
       "      <td>LOS ANGELES</td>\n",
       "      <td>06037</td>\n",
       "      <td>65+ years</td>\n",
       "      <td>Male</td>\n",
       "      <td>White</td>\n",
       "      <td>Unknown</td>\n",
       "      <td>Missing</td>\n",
       "      <td>Missing</td>\n",
       "      <td>Laboratory-confirmed case</td>\n",
       "      <td>Unknown</td>\n",
       "      <td>Unknown</td>\n",
       "      <td>Missing</td>\n",
       "      <td>No</td>\n",
       "      <td>NaN</td>\n",
       "      <td>NaN</td>\n",
       "      <td>NaN</td>\n",
       "    </tr>\n",
       "    <tr>\n",
       "      <th>256977</th>\n",
       "      <td>2020-05</td>\n",
       "      <td>CA</td>\n",
       "      <td>06</td>\n",
       "      <td>LOS ANGELES</td>\n",
       "      <td>06037</td>\n",
       "      <td>65+ years</td>\n",
       "      <td>Male</td>\n",
       "      <td>White</td>\n",
       "      <td>Unknown</td>\n",
       "      <td>Missing</td>\n",
       "      <td>Missing</td>\n",
       "      <td>Laboratory-confirmed case</td>\n",
       "      <td>Unknown</td>\n",
       "      <td>Unknown</td>\n",
       "      <td>Missing</td>\n",
       "      <td>No</td>\n",
       "      <td>NaN</td>\n",
       "      <td>NaN</td>\n",
       "      <td>NaN</td>\n",
       "    </tr>\n",
       "    <tr>\n",
       "      <th>256978</th>\n",
       "      <td>2020-05</td>\n",
       "      <td>CA</td>\n",
       "      <td>06</td>\n",
       "      <td>LOS ANGELES</td>\n",
       "      <td>06037</td>\n",
       "      <td>65+ years</td>\n",
       "      <td>Male</td>\n",
       "      <td>White</td>\n",
       "      <td>Unknown</td>\n",
       "      <td>Missing</td>\n",
       "      <td>Missing</td>\n",
       "      <td>Laboratory-confirmed case</td>\n",
       "      <td>Unknown</td>\n",
       "      <td>Unknown</td>\n",
       "      <td>Missing</td>\n",
       "      <td>No</td>\n",
       "      <td>NaN</td>\n",
       "      <td>NaN</td>\n",
       "      <td>NaN</td>\n",
       "    </tr>\n",
       "    <tr>\n",
       "      <th>256979</th>\n",
       "      <td>2020-05</td>\n",
       "      <td>CA</td>\n",
       "      <td>06</td>\n",
       "      <td>LOS ANGELES</td>\n",
       "      <td>06037</td>\n",
       "      <td>65+ years</td>\n",
       "      <td>Male</td>\n",
       "      <td>White</td>\n",
       "      <td>Unknown</td>\n",
       "      <td>Missing</td>\n",
       "      <td>Missing</td>\n",
       "      <td>Laboratory-confirmed case</td>\n",
       "      <td>Symptomatic</td>\n",
       "      <td>Unknown</td>\n",
       "      <td>Missing</td>\n",
       "      <td>No</td>\n",
       "      <td>NaN</td>\n",
       "      <td>NaN</td>\n",
       "      <td>NaN</td>\n",
       "    </tr>\n",
       "  </tbody>\n",
       "</table>\n",
       "<p>256980 rows × 19 columns</p>\n",
       "</div>"
      ],
      "text/plain": [
       "       case_month res_state state_fips_code   res_county county_fips_code  \\\n",
       "0         2020-06        CA              06  LOS ANGELES            06037   \n",
       "1         2020-06        CA              06  LOS ANGELES            06037   \n",
       "2         2020-06        CA              06  LOS ANGELES            06037   \n",
       "3         2020-06        CA              06  LOS ANGELES            06037   \n",
       "4         2020-06        CA              06  LOS ANGELES            06037   \n",
       "...           ...       ...             ...          ...              ...   \n",
       "256975    2020-05        CA              06  LOS ANGELES            06037   \n",
       "256976    2020-05        CA              06  LOS ANGELES            06037   \n",
       "256977    2020-05        CA              06  LOS ANGELES            06037   \n",
       "256978    2020-05        CA              06  LOS ANGELES            06037   \n",
       "256979    2020-05        CA              06  LOS ANGELES            06037   \n",
       "\n",
       "           age_group     sex   race        ethnicity  process exposure_yn  \\\n",
       "0       0 - 17 years  Female  White  Hispanic/Latino  Missing     Missing   \n",
       "1       0 - 17 years  Female  White  Hispanic/Latino  Missing     Missing   \n",
       "2       0 - 17 years  Female  White  Hispanic/Latino  Missing     Missing   \n",
       "3       0 - 17 years  Female  White  Hispanic/Latino  Missing     Missing   \n",
       "4       0 - 17 years  Female  White  Hispanic/Latino  Missing     Missing   \n",
       "...              ...     ...    ...              ...      ...         ...   \n",
       "256975     65+ years    Male  White          Unknown  Missing     Missing   \n",
       "256976     65+ years    Male  White          Unknown  Missing     Missing   \n",
       "256977     65+ years    Male  White          Unknown  Missing     Missing   \n",
       "256978     65+ years    Male  White          Unknown  Missing     Missing   \n",
       "256979     65+ years    Male  White          Unknown  Missing     Missing   \n",
       "\n",
       "                   current_status symptom_status  hosp_yn   icu_yn death_yn  \\\n",
       "0       Laboratory-confirmed case   Asymptomatic       No  Missing       No   \n",
       "1       Laboratory-confirmed case    Symptomatic  Unknown  Missing       No   \n",
       "2       Laboratory-confirmed case        Unknown  Unknown  Missing       No   \n",
       "3       Laboratory-confirmed case    Symptomatic      Yes  Unknown       No   \n",
       "4       Laboratory-confirmed case   Asymptomatic       No  Missing       No   \n",
       "...                           ...            ...      ...      ...      ...   \n",
       "256975  Laboratory-confirmed case    Symptomatic  Unknown  Missing       No   \n",
       "256976  Laboratory-confirmed case        Unknown  Unknown  Missing       No   \n",
       "256977  Laboratory-confirmed case        Unknown  Unknown  Missing       No   \n",
       "256978  Laboratory-confirmed case        Unknown  Unknown  Missing       No   \n",
       "256979  Laboratory-confirmed case    Symptomatic  Unknown  Missing       No   \n",
       "\n",
       "       case_onset_interval underlying_conditions_yn case_positive_specimen  \n",
       "0                      NaN                      NaN                    NaN  \n",
       "1                      0.0                      NaN                    NaN  \n",
       "2                      NaN                      NaN                    NaN  \n",
       "3                      0.0                      Yes                    NaN  \n",
       "4                      NaN                      NaN                    NaN  \n",
       "...                    ...                      ...                    ...  \n",
       "256975                 0.0                      NaN                    NaN  \n",
       "256976                 NaN                      NaN                    NaN  \n",
       "256977                 NaN                      NaN                    NaN  \n",
       "256978                 NaN                      NaN                    NaN  \n",
       "256979                 NaN                      NaN                    NaN  \n",
       "\n",
       "[256980 rows x 19 columns]"
      ]
     },
     "execution_count": 93,
     "metadata": {},
     "output_type": "execute_result"
    }
   ],
   "source": [
    "url = f'https://data.cdc.gov/resource/n8mc-b4w4.json?$limit=300000&$offset=0&race=White&county_fips_code={county_nums[0]}'\n",
    "response = requests.get(url).json()\n",
    "# print(json.dumps(response, indent=4, sort_keys=True))\n",
    "pd.DataFrame(response)"
   ]
  },
  {
   "cell_type": "code",
   "execution_count": 70,
   "metadata": {},
   "outputs": [
    {
     "data": {
      "text/plain": [
       "10581"
      ]
     },
     "execution_count": 70,
     "metadata": {},
     "output_type": "execute_result"
    }
   ],
   "source": [
    "len(cases.loc[cases['res_county'] == 'JACKSON',:])"
   ]
  },
  {
   "cell_type": "code",
   "execution_count": 104,
   "metadata": {},
   "outputs": [
    {
     "data": {
      "text/plain": [
       "array(['NA', 'White', 'Black', 'Multiple/Other', 'Unknown', 'Asian'],\n",
       "      dtype=object)"
      ]
     },
     "execution_count": 104,
     "metadata": {},
     "output_type": "execute_result"
    }
   ],
   "source": [
    "cases['race'].unique()\n"
   ]
  },
  {
   "cell_type": "code",
   "execution_count": 107,
   "metadata": {},
   "outputs": [
    {
     "data": {
      "text/plain": [
       "array(['NA', 'Non-Hispanic/Latino', 'Unknown', 'Hispanic/Latino'],\n",
       "      dtype=object)"
      ]
     },
     "execution_count": 107,
     "metadata": {},
     "output_type": "execute_result"
    }
   ],
   "source": [
    "cases['ethnicity'].unique()"
   ]
  },
  {
   "cell_type": "code",
   "execution_count": 29,
   "metadata": {
    "scrolled": true
   },
   "outputs": [
    {
     "data": {
      "text/html": [
       "<div>\n",
       "<style scoped>\n",
       "    .dataframe tbody tr th:only-of-type {\n",
       "        vertical-align: middle;\n",
       "    }\n",
       "\n",
       "    .dataframe tbody tr th {\n",
       "        vertical-align: top;\n",
       "    }\n",
       "\n",
       "    .dataframe thead th {\n",
       "        text-align: right;\n",
       "    }\n",
       "</style>\n",
       "<table border=\"1\" class=\"dataframe\">\n",
       "  <thead>\n",
       "    <tr style=\"text-align: right;\">\n",
       "      <th></th>\n",
       "      <th>county_fips</th>\n",
       "      <th>case_count</th>\n",
       "      <th>ccvi</th>\n",
       "    </tr>\n",
       "  </thead>\n",
       "  <tbody>\n",
       "    <tr>\n",
       "      <th>0</th>\n",
       "      <td>55045</td>\n",
       "      <td>9</td>\n",
       "      <td>0.198222</td>\n",
       "    </tr>\n",
       "    <tr>\n",
       "      <th>1</th>\n",
       "      <td>18149</td>\n",
       "      <td>9</td>\n",
       "      <td>0.484989</td>\n",
       "    </tr>\n",
       "    <tr>\n",
       "      <th>2</th>\n",
       "      <td>21043</td>\n",
       "      <td>9</td>\n",
       "      <td>0.610594</td>\n",
       "    </tr>\n",
       "    <tr>\n",
       "      <th>3</th>\n",
       "      <td>34041</td>\n",
       "      <td>9</td>\n",
       "      <td>0.284570</td>\n",
       "    </tr>\n",
       "    <tr>\n",
       "      <th>4</th>\n",
       "      <td>23007</td>\n",
       "      <td>9</td>\n",
       "      <td>0.108437</td>\n",
       "    </tr>\n",
       "    <tr>\n",
       "      <th>...</th>\n",
       "      <td>...</td>\n",
       "      <td>...</td>\n",
       "      <td>...</td>\n",
       "    </tr>\n",
       "    <tr>\n",
       "      <th>591</th>\n",
       "      <td>12003</td>\n",
       "      <td>1</td>\n",
       "      <td>0.723397</td>\n",
       "    </tr>\n",
       "    <tr>\n",
       "      <th>592</th>\n",
       "      <td>47157</td>\n",
       "      <td>1</td>\n",
       "      <td>0.698308</td>\n",
       "    </tr>\n",
       "    <tr>\n",
       "      <th>593</th>\n",
       "      <td>39061</td>\n",
       "      <td>1</td>\n",
       "      <td>0.539681</td>\n",
       "    </tr>\n",
       "    <tr>\n",
       "      <th>594</th>\n",
       "      <td>55109</td>\n",
       "      <td>1</td>\n",
       "      <td>0.135755</td>\n",
       "    </tr>\n",
       "    <tr>\n",
       "      <th>595</th>\n",
       "      <td>48419</td>\n",
       "      <td>1</td>\n",
       "      <td>0.807519</td>\n",
       "    </tr>\n",
       "  </tbody>\n",
       "</table>\n",
       "<p>596 rows × 3 columns</p>\n",
       "</div>"
      ],
      "text/plain": [
       "    county_fips  case_count      ccvi\n",
       "0         55045           9  0.198222\n",
       "1         18149           9  0.484989\n",
       "2         21043           9  0.610594\n",
       "3         34041           9  0.284570\n",
       "4         23007           9  0.108437\n",
       "..          ...         ...       ...\n",
       "591       12003           1  0.723397\n",
       "592       47157           1  0.698308\n",
       "593       39061           1  0.539681\n",
       "594       55109           1  0.135755\n",
       "595       48419           1  0.807519\n",
       "\n",
       "[596 rows x 3 columns]"
      ]
     },
     "execution_count": 29,
     "metadata": {},
     "output_type": "execute_result"
    }
   ],
   "source": [
    "case_counts = pd.DataFrame(cases['county_fips_code'].value_counts())\n",
    "\n",
    "case_counts = case_counts.reset_index()\n",
    "case_counts = case_counts.rename(columns={'index': 'county_fips', 'county_fips_code': 'case_count'})\n",
    "case_counts = pd.merge(case_counts, ccvi, on='county_fips')\n",
    "\n",
    "case_counts\n",
    "\n"
   ]
  },
  {
   "cell_type": "code",
   "execution_count": 30,
   "metadata": {},
   "outputs": [
    {
     "data": {
      "text/plain": [
       "LinearRegression()"
      ]
     },
     "execution_count": 30,
     "metadata": {},
     "output_type": "execute_result"
    }
   ],
   "source": [
    "from sklearn.linear_model import LinearRegression\n",
    "model = LinearRegression()\n",
    "model"
   ]
  },
  {
   "cell_type": "code",
   "execution_count": 31,
   "metadata": {},
   "outputs": [],
   "source": [
    "X = case_counts['ccvi'].values.reshape(-1, 1)\n",
    "y = case_counts['case_count'].values.reshape(-1, 1)\n",
    "\n",
    "# import necessary dependencies\n",
    "from sklearn.model_selection import train_test_split\n",
    "\n",
    "# create split\n",
    "X_train, X_test, y_train, y_test = train_test_split(X, y, random_state=42)\n"
   ]
  },
  {
   "cell_type": "code",
   "execution_count": 77,
   "metadata": {},
   "outputs": [
    {
     "data": {
      "text/plain": [
       "<matplotlib.collections.PathCollection at 0x7fe8d80d0f70>"
      ]
     },
     "execution_count": 77,
     "metadata": {},
     "output_type": "execute_result"
    },
    {
     "data": {
      "image/png": "[encoded data removed]",
      "text/plain": [
       "<Figure size 432x288 with 1 Axes>"
      ]
     },
     "metadata": {
      "needs_background": "light"
     },
     "output_type": "display_data"
    }
   ],
   "source": [
    "plt.scatter(X, y)"
   ]
  },
  {
   "cell_type": "code",
   "execution_count": 79,
   "metadata": {},
   "outputs": [
    {
     "data": {
      "text/plain": [
       "-0.004580151294978574"
      ]
     },
     "execution_count": 79,
     "metadata": {},
     "output_type": "execute_result"
    }
   ],
   "source": [
    "model.fit(X_train, y_train)\n",
    "\n",
    "model.score(X_test, y_test)\n"
   ]
  },
  {
   "cell_type": "code",
   "execution_count": null,
   "metadata": {},
   "outputs": [],
   "source": [
    "model.predict()"
   ]
  },
  {
   "cell_type": "code",
   "execution_count": null,
   "metadata": {},
   "outputs": [],
   "source": []
  },
  {
   "cell_type": "markdown",
   "metadata": {
    "slideshow": {
     "slide_type": "slide"
    }
   },
   "source": [
    "# Quantifying Linear Regression"
   ]
  },
  {
   "cell_type": "markdown",
   "metadata": {
    "slideshow": {
     "slide_type": "subslide"
    }
   },
   "source": [
    "Create a model to quantify"
   ]
  },
  {
   "cell_type": "code",
   "execution_count": 1,
   "metadata": {
    "slideshow": {
     "slide_type": "fragment"
    }
   },
   "outputs": [
    {
     "data": {
      "text/plain": [
       "LinearRegression(copy_X=True, fit_intercept=True, n_jobs=1, normalize=False)"
      ]
     },
     "execution_count": 1,
     "metadata": {},
     "output_type": "execute_result"
    }
   ],
   "source": [
    "# Import dependencies\n",
    "from sklearn.datasets import make_regression\n",
    "from sklearn.linear_model import LinearRegression\n",
    "\n",
    "# Generate some data\n",
    "X, y = make_regression(n_samples=20, n_features=1, random_state=0, noise=4, bias=100.0)\n",
    "\n",
    "# Create a linear model\n",
    "model = LinearRegression()\n",
    "\n",
    "# Fit (Train) our model to the data\n",
    "model.fit(X, y)"
   ]
  },
  {
   "cell_type": "markdown",
   "metadata": {
    "slideshow": {
     "slide_type": "slide"
    }
   },
   "source": [
    "## Quantifying our Model\n",
    "\n",
    "* Mean Squared Error (MSE)\n",
    "\n",
    "* R2 Score"
   ]
  },
  {
   "cell_type": "markdown",
   "metadata": {
    "slideshow": {
     "slide_type": "subslide"
    }
   },
   "source": [
    "There are a variety of ways to quantify the model, but MSE and R2 are very common"
   ]
  },
  {
   "cell_type": "code",
   "execution_count": 2,
   "metadata": {
    "slideshow": {
     "slide_type": "fragment"
    }
   },
   "outputs": [
    {
     "name": "stdout",
     "output_type": "stream",
     "text": [
      "Mean Squared Error (MSE): 11.933040779746149\n",
      "R-squared (R2 ): 0.903603363418708\n"
     ]
    }
   ],
   "source": [
    "from sklearn.metrics import mean_squared_error, r2_score\n",
    "\n",
    "# Use our model to predict a value\n",
    "predicted = model.predict(X)\n",
    "\n",
    "# Score the prediction with mse and r2\n",
    "mse = mean_squared_error(y, predicted)\n",
    "r2 = r2_score(y, predicted)\n",
    "\n",
    "print(f\"Mean Squared Error (MSE): {mse}\")\n",
    "print(f\"R-squared (R2 ): {r2}\")"
   ]
  },
  {
   "cell_type": "markdown",
   "metadata": {
    "slideshow": {
     "slide_type": "fragment"
    }
   },
   "source": [
    "A \"good\" MSE score will be close to zero while a \"good\" [R2 Score](https://en.wikipedia.org/wiki/Coefficient_of_determination) will be close to 1."
   ]
  },
  {
   "cell_type": "markdown",
   "metadata": {
    "slideshow": {
     "slide_type": "subslide"
    }
   },
   "source": [
    "R2 Score is the default scoring for many of the Sklearn models"
   ]
  },
  {
   "cell_type": "code",
   "execution_count": 4,
   "metadata": {
    "slideshow": {
     "slide_type": "fragment"
    }
   },
   "outputs": [
    {
     "data": {
      "text/plain": [
       "0.90360336341870795"
      ]
     },
     "execution_count": 4,
     "metadata": {},
     "output_type": "execute_result"
    }
   ],
   "source": [
    "# Overall Score for the model\n",
    "model.score(X, y)"
   ]
  },
  {
   "cell_type": "markdown",
   "metadata": {
    "slideshow": {
     "slide_type": "notes"
    }
   },
   "source": [
    "## Validation\n",
    "\n",
    "We also want to understand how well our model performs on new data. \n",
    "\n",
    "One approach for this is to split your data into a training and testing dataset.\n",
    "\n",
    "You fit (train) the model using training data, and score and validate your model using the testing data.\n",
    "\n",
    "This train/test splitting is so common that Sklearn provides a mechanism for doing this. "
   ]
  },
  {
   "cell_type": "markdown",
   "metadata": {
    "slideshow": {
     "slide_type": "slide"
    }
   },
   "source": [
    "## Testing and Training Data\n",
    "\n",
    "In order to quantify our model against new input values, we often split the data into training and testing data. The model is then fit to the training data and scored by the test data. Sklean pre-processing provides a library for automatically splitting up the data into training and testing"
   ]
  },
  {
   "cell_type": "code",
   "execution_count": 5,
   "metadata": {
    "collapsed": true,
    "slideshow": {
     "slide_type": "fragment"
    }
   },
   "outputs": [],
   "source": [
    "from sklearn.model_selection import train_test_split\n",
    "\n",
    "X_train, X_test, y_train, y_test = train_test_split(X, y, random_state=42)"
   ]
  },
  {
   "cell_type": "markdown",
   "metadata": {
    "slideshow": {
     "slide_type": "subslide"
    }
   },
   "source": [
    "Train the model using the training data"
   ]
  },
  {
   "cell_type": "code",
   "execution_count": 6,
   "metadata": {
    "slideshow": {
     "slide_type": "fragment"
    }
   },
   "outputs": [
    {
     "data": {
      "text/plain": [
       "LinearRegression(copy_X=True, fit_intercept=True, n_jobs=1, normalize=False)"
      ]
     },
     "execution_count": 6,
     "metadata": {},
     "output_type": "execute_result"
    }
   ],
   "source": [
    "model.fit(X_train, y_train)"
   ]
  },
  {
   "cell_type": "markdown",
   "metadata": {
    "slideshow": {
     "slide_type": "subslide"
    }
   },
   "source": [
    "And score the model using the unseen testing data"
   ]
  },
  {
   "cell_type": "code",
   "execution_count": 7,
   "metadata": {
    "slideshow": {
     "slide_type": "fragment"
    }
   },
   "outputs": [
    {
     "data": {
      "text/plain": [
       "0.92525224350441038"
      ]
     },
     "execution_count": 7,
     "metadata": {},
     "output_type": "execute_result"
    }
   ],
   "source": [
    "model.score(X_test, y_test)"
   ]
  },
  {
   "cell_type": "markdown",
   "metadata": {
    "slideshow": {
     "slide_type": "slide"
    }
   },
   "source": [
    "## Your Turn!"
   ]
  }
 ],
 "metadata": {
  "anaconda-cloud": {},
  "celltoolbar": "Slideshow",
  "kernelspec": {
   "display_name": "Python 3",
   "language": "python",
   "name": "python3"
  },
  "language_info": {
   "codemirror_mode": {
    "name": "ipython",
    "version": 3
   },
   "file_extension": ".py",
   "mimetype": "text/x-python",
   "name": "python",
   "nbconvert_exporter": "python",
   "pygments_lexer": "ipython3",
   "version": "3.8.5"
  },
  "varInspector": {
   "cols": {
    "lenName": 16,
    "lenType": 16,
    "lenVar": 40
   },
   "kernels_config": {
    "python": {
     "delete_cmd_postfix": "",
     "delete_cmd_prefix": "del ",
     "library": "var_list.py",
     "varRefreshCmd": "print(var_dic_list())"
    },
    "r": {
     "delete_cmd_postfix": ") ",
     "delete_cmd_prefix": "rm(",
     "library": "var_list.r",
     "varRefreshCmd": "cat(var_dic_list()) "
    }
   },
   "types_to_exclude": [
    "module",
    "function",
    "builtin_function_or_method",
    "instance",
    "_Feature"
   ],
   "window_display": false
  }
 },
 "nbformat": 4,
 "nbformat_minor": 2
}
