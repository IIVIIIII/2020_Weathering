{
  "nbformat": 4,
  "nbformat_minor": 0,
  "metadata": {
    "anaconda-cloud": {},
    "colab": {
      "name": "ccvi_spark.ipynb",
      "provenance": [],
      "collapsed_sections": [],
      "include_colab_link": true
    },
    "kernelspec": {
      "display_name": "Python 3",
      "language": "python",
      "name": "python3"
    },
    "language_info": {
      "codemirror_mode": {
        "name": "ipython",
        "version": 3
      },
      "file_extension": ".py",
      "mimetype": "text/x-python",
      "name": "python",
      "nbconvert_exporter": "python",
      "pygments_lexer": "ipython3",
      "version": "3.8.3"
    },
    "varInspector": {
      "cols": {
        "lenName": 16,
        "lenType": 16,
        "lenVar": 40
      },
      "kernels_config": {
        "python": {
          "delete_cmd_postfix": "",
          "delete_cmd_prefix": "del ",
          "library": "var_list.py",
          "varRefreshCmd": "print(var_dic_list())"
        },
        "r": {
          "delete_cmd_postfix": ") ",
          "delete_cmd_prefix": "rm(",
          "library": "var_list.r",
          "varRefreshCmd": "cat(var_dic_list()) "
        }
      },
      "types_to_exclude": [
        "module",
        "function",
        "builtin_function_or_method",
        "instance",
        "_Feature"
      ],
      "window_display": false
    }
  },
  "cells": [
    {
      "cell_type": "markdown",
      "metadata": {
        "id": "view-in-github",
        "colab_type": "text"
      },
      "source": [
        "<a href=\"https://colab.research.google.com/github/IIVIIIII/2020_Weathering/blob/main/notebook/ccvi_spark.ipynb\" target=\"_parent\"><img src=\"https://colab.research.google.com/assets/colab-badge.svg\" alt=\"Open In Colab\"/></a>"
      ]
    },
    {
      "cell_type": "markdown",
      "metadata": {
        "id": "gwcSTHMra-P-"
      },
      "source": [
        "## Filtering Data"
      ]
    },
    {
      "cell_type": "code",
      "metadata": {
        "colab": {
          "base_uri": "https://localhost:8080/"
        },
        "id": "nx-RvtVhbIdh",
        "outputId": "322aa214-a944-4814-b0c5-acac0cd82706"
      },
      "source": [
        "import os\n",
        "# Find the latest version of spark 3.0  from http://www-us.apache.org/dist/spark/ and enter as the spark version\n",
        "# For example:\n",
        "# spark_version = 'spark-3.1.2'\n",
        "spark_version = 'spark-3.1.2'\n",
        "os.environ['SPARK_VERSION']=spark_version\n",
        "\n",
        "# Install Spark and Java\n",
        "!apt-get update\n",
        "!apt-get install openjdk-11-jdk-headless -qq > /dev/null\n",
        "!wget -q https://downloads.apache.org/spark/$SPARK_VERSION/$SPARK_VERSION-bin-hadoop2.7.tgz\n",
        "!tar xf $SPARK_VERSION-bin-hadoop2.7.tgz\n",
        "!pip install -q findspark\n",
        "\n",
        "# Set Environment Variables\n",
        "os.environ[\"JAVA_HOME\"] = \"/usr/lib/jvm/java-11-openjdk-amd64\"\n",
        "os.environ[\"SPARK_HOME\"] = f\"/content/{spark_version}-bin-hadoop2.7\"\n",
        "\n",
        "# Start a SparkSession\n",
        "import findspark\n",
        "findspark.init()"
      ],
      "execution_count": 1,
      "outputs": [
        {
          "output_type": "stream",
          "text": [
            "\r0% [Working]\r            \rHit:1 http://ppa.launchpad.net/c2d4u.team/c2d4u4.0+/ubuntu bionic InRelease\n",
            "\r0% [Connecting to archive.ubuntu.com (91.189.88.152)] [Connecting to security.u\r                                                                               \rHit:2 http://archive.ubuntu.com/ubuntu bionic InRelease\n",
            "\r0% [Waiting for headers] [Connecting to security.ubuntu.com (91.189.91.39)] [Co\r0% [1 InRelease gpgv 15.9 kB] [Waiting for headers] [Connecting to security.ubu\r                                                                               \rHit:3 http://ppa.launchpad.net/cran/libgit2/ubuntu bionic InRelease\n",
            "\r0% [1 InRelease gpgv 15.9 kB] [Waiting for headers] [Connecting to security.ubu\r                                                                               \rHit:4 https://cloud.r-project.org/bin/linux/ubuntu bionic-cran40/ InRelease\n",
            "\r0% [1 InRelease gpgv 15.9 kB] [Waiting for headers] [Connecting to security.ubu\r                                                                               \rHit:5 http://archive.ubuntu.com/ubuntu bionic-updates InRelease\n",
            "\r0% [1 InRelease gpgv 15.9 kB] [Waiting for headers] [Connecting to security.ubu\r                                                                               \rHit:6 http://archive.ubuntu.com/ubuntu bionic-backports InRelease\n",
            "\r0% [1 InRelease gpgv 15.9 kB] [Connecting to security.ubuntu.com (91.189.91.39)\r                                                                               \rHit:7 http://ppa.launchpad.net/deadsnakes/ppa/ubuntu bionic InRelease\n",
            "\r0% [1 InRelease gpgv 15.9 kB] [Connecting to security.ubuntu.com (91.189.91.39)\r                                                                               \rHit:8 http://ppa.launchpad.net/graphics-drivers/ppa/ubuntu bionic InRelease\n",
            "Hit:9 http://security.ubuntu.com/ubuntu bionic-security InRelease\n",
            "Ign:10 https://developer.download.nvidia.com/compute/cuda/repos/ubuntu1804/x86_64  InRelease\n",
            "Ign:11 https://developer.download.nvidia.com/compute/machine-learning/repos/ubuntu1804/x86_64  InRelease\n",
            "Hit:12 https://developer.download.nvidia.com/compute/cuda/repos/ubuntu1804/x86_64  Release\n",
            "Hit:13 https://developer.download.nvidia.com/compute/machine-learning/repos/ubuntu1804/x86_64  Release\n",
            "Reading package lists... Done\n"
          ],
          "name": "stdout"
        }
      ]
    },
    {
      "cell_type": "markdown",
      "metadata": {
        "id": "H5hCipVUlZwC"
      },
      "source": [
        "# New Section"
      ]
    },
    {
      "cell_type": "code",
      "metadata": {
        "id": "7RLRYd3QP2KF"
      },
      "source": [
        "# Start Spark session\n",
        "from pyspark.sql import SparkSession\n",
        "spark = SparkSession.builder.appName(\"covid_regression\").getOrCreate()"
      ],
      "execution_count": 2,
      "outputs": []
    },
    {
      "cell_type": "code",
      "metadata": {
        "id": "4TnwKt4M2y_d",
        "colab": {
          "base_uri": "https://localhost:8080/"
        },
        "outputId": "95107cec-5e8f-4d9b-bae4-15fe737070cb"
      },
      "source": [
        "from pyspark import SparkFiles\n",
        "url =\"https://raw.githubusercontent.com/IIVIIIII/2020_Weathering/main/resources/ccvi_nonulls.csv\"\n",
        "spark.sparkContext.addFile(url)\n",
        "ccvi = spark.read.csv(SparkFiles.get(\"ccvi_nonulls.csv\"), sep=\",\", header=True)\n",
        "\n",
        "# Show DataFrame\n",
        "ccvi.show()\n"
      ],
      "execution_count": 3,
      "outputs": [
        {
          "output_type": "stream",
          "text": [
            "+----------+---------+----------+-------------------+-------------------+-------------------+-------------------+------------------+------------------+------------------+-------------------+\n",
            "|      FIPS|stateName|countyName|               ccvi|             theme1|             theme2|             theme3|            theme4|            theme5|            theme6|             theme7|\n",
            "+----------+---------+----------+-------------------+-------------------+-------------------+-------------------+------------------+------------------+------------------+-------------------+\n",
            "|1001020100|  ALABAMA|   Autauga|        0.441972264|0.45833621799999996|         0.37747817|        0.170811065|       0.841616783|        0.96629414|       0.209805276|        0.287591301|\n",
            "|1001020200|  ALABAMA|   Autauga| 0.7426192490000001|        0.562935368|        0.584587292|        0.683825769|       0.768946675|0.9823988140000001|       0.209805276|        0.427810423|\n",
            "|1001020300|  ALABAMA|   Autauga|        0.778071792|0.24509410199999998|        0.645024438|0.47222606799999994|       0.863762425|       0.953086386|0.7248170140000001|        0.439041134|\n",
            "|1001020400|  ALABAMA|   Autauga|        0.362727033|        0.023279647|0.37011917200000005|        0.192049954|       0.977977923|       0.894653743|       0.209805276|        0.425572519|\n",
            "|1001020500|  ALABAMA|   Autauga| 0.8165999359999999|0.31972468800000003|0.42143994700000004| 0.7640600340000001|0.7532401559999999|        0.97830743|       0.749454495|0.49759734200000005|\n",
            "|1001020600|  ALABAMA|   Autauga|        0.738005846| 0.9186389509999999|0.21331484399999998|        0.656273364|0.8431819429999999|0.9765912459999999|       0.209805276|0.38461749700000003|\n",
            "|1001020700|  ALABAMA|   Autauga|        0.777392943|        0.960392749|0.24092481699999999| 0.8917425859999999|       0.766695041|       0.990677687|       0.209805276|        0.279930254|\n",
            "|1001020801|  ALABAMA|   Autauga|         0.32720522|0.28940990699999997|        0.120805646|        0.408357101|0.8932121479999999|       0.950711187|       0.209805276|0.12087429300000001|\n",
            "|1001020802|  ALABAMA|   Autauga|        0.712805309|        0.241645778|        0.387322203| 0.8062055220000001|       0.808597397|0.9756851009999999|        0.70947383|0.19368169600000001|\n",
            "|1001020900|  ALABAMA|   Autauga|        0.429475901|0.34708969799999995|0.35157065200000004|        0.440035444|       0.825182602|       0.984801472|       0.209805276|        0.117922456|\n",
            "|1001021000|  ALABAMA|   Autauga|        0.603607598|        0.648423327|0.20797407899999998| 0.8052086509999999|0.9141084079999999|       0.948459553|       0.209805276|        0.047503982|\n",
            "|1001021100|  ALABAMA|   Autauga|        0.690292459|        0.710188481|0.34285243600000004|        0.837025448|0.9568482620000001|       0.948624307|       0.209805276|        0.045087594|\n",
            "|1003010100|  ALABAMA|   Baldwin|0.33472797600000004|        0.429392458|        0.198830249| 0.5131393129999999|         0.9511368|       0.575649404|       0.311379644|        0.033719589|\n",
            "|1003010200|  ALABAMA|   Baldwin|         0.58888073| 0.8290102340000001|        0.118265693|        0.839822225|        0.86103026|       0.691347685|       0.311379644|        0.086358394|\n",
            "|1003010300|  ALABAMA|   Baldwin|0.39719593799999997|        0.213893005|0.20319622199999998|          0.7169025|0.8674007359999999|0.7416250209999999|       0.311379644|0.13423307199999998|\n",
            "|1003010400|  ALABAMA|   Baldwin|        0.214890345|        0.451619604|        0.133244549|0.18152742800000002|       0.850966555|       0.689054863|       0.311379644|0.04607611599999999|\n",
            "|1003010500|  ALABAMA|   Baldwin| 0.7148972720000001|        0.445817003|        0.241158218|        0.610168084|       0.900845736|       0.782456478|       0.810702942|0.33730572799999997|\n",
            "|1003010600|  ALABAMA|   Baldwin|         0.88074424| 0.9635917959999999|        0.636182657| 0.9483842379999999|       0.711475095|0.8779861609999999|       0.311379644|         0.28577901|\n",
            "|1003010701|  ALABAMA|   Baldwin|        0.457447251|        0.148042488|        0.246993245|         0.40315122|0.9508622109999999|       0.589543632|       0.805455048|0.21066505600000002|\n",
            "|1003010703|  ALABAMA|   Baldwin|        0.497817985|0.18983783199999998|        0.282772255|        0.419654972|       0.686597287|       0.834326432|        0.79832896|0.25830633199999997|\n",
            "+----------+---------+----------+-------------------+-------------------+-------------------+-------------------+------------------+------------------+------------------+-------------------+\n",
            "only showing top 20 rows\n",
            "\n"
          ],
          "name": "stdout"
        }
      ]
    },
    {
      "cell_type": "code",
      "metadata": {
        "colab": {
          "base_uri": "https://localhost:8080/"
        },
        "id": "8HZ7JR0Ia-QC",
        "outputId": "71ea4a9a-dbff-4114-c58e-07bcc46b47ca"
      },
      "source": [
        "url =\"https://data.cdc.gov/api/views/n8mc-b4w4/rows.csv\"\n",
        "spark.sparkContext.addFile(url)\n",
        "covid = spark.read.csv(SparkFiles.get(\"rows.csv\"), sep=\",\", header=True)\n",
        "\n",
        "# Show DataFrame\n",
        "covid.show()"
      ],
      "execution_count": 4,
      "outputs": [
        {
          "output_type": "stream",
          "text": [
            "+----------+---------+---------------+--------------+----------------+--------------+------+-------+---------+-------------------------------+-------------------+-------------------+-----------+--------------------+--------------+-------+-------+--------+------------------------+\n",
            "|case_month|res_state|state_fips_code|    res_county|county_fips_code|     age_group|   sex|   race|ethnicity|case_positive_specimen_interval|case_onset_interval|            process|exposure_yn|      current_status|symptom_status|hosp_yn| icu_yn|death_yn|underlying_conditions_yn|\n",
            "+----------+---------+---------------+--------------+----------------+--------------+------+-------+---------+-------------------------------+-------------------+-------------------+-----------+--------------------+--------------+-------+-------+--------+------------------------+\n",
            "|   2020-12|       AL|             01|     ST. CLAIR|           26147|            NA|    NA|     NA|       NA|                           null|               null|            Missing|    Missing|       Probable Case|       Missing|Missing|Missing| Missing|                    null|\n",
            "|   2020-05|       AR|             05|        GREENE|           05055|  0 - 17 years|    NA|     NA|       NA|                              0|                  0|            Missing|    Missing|Laboratory-confir...|   Symptomatic|     No|Missing|      NA|                     Yes|\n",
            "|   2020-11|       OH|             39|         HENRY|           39069|  0 - 17 years|    NA|     NA|       NA|                           null|                  0|Clinical evaluation|    Unknown|Laboratory-confir...|   Symptomatic|     No|Missing|      NA|                     Yes|\n",
            "|   2020-11|       KY|             21|    MUHLENBERG|           21177|18 to 49 years|    NA|     NA|       NA|                           null|               null|            Missing|    Missing|Laboratory-confir...|       Missing|     No|Missing|      No|                    null|\n",
            "|   2020-05|       NY|             36|         YATES|           36123|50 to 64 years|    NA|     NA|       NA|                              0|               null|            Missing|    Missing|       Probable Case|       Missing|Missing|Missing|      NA|                    null|\n",
            "|   2020-12|       AL|             01|      CHEROKEE|           01019|       Missing|Female|Missing|  Missing|                           null|               null|            Missing|    Missing|       Probable Case|       Missing|Missing|Missing| Missing|                    null|\n",
            "|   2020-07|       GA|             13|         BRYAN|           13029|  0 - 17 years|Female|Unknown|  Missing|                           null|               null|            Missing|    Missing|Laboratory-confir...|       Missing|Missing|Missing| Missing|                    null|\n",
            "|   2021-01|       NY|             36|      COLUMBIA|           36021|  0 - 17 years|Female|     NA|       NA|                              0|               null|            Missing|    Missing|Laboratory-confir...|       Missing|Missing|Missing|      No|                    null|\n",
            "|   2021-03|       NC|             37|      COLUMBUS|           37047|  0 - 17 years|Female|     NA|       NA|                              0|               null|            Missing|    Missing|       Probable Case|       Unknown|Unknown|Unknown|      No|                    null|\n",
            "|   2021-02|       NH|             33|          COOS|           33007|  0 - 17 years|Female|     NA|       NA|                           null|               null|            Missing|    Missing|Laboratory-confir...|  Asymptomatic|Unknown|Unknown|      No|                     Yes|\n",
            "|   2021-03|       WI|             55|       DOUGLAS|           55031|  0 - 17 years|Female|     NA|       NA|                           null|                  0|            Missing|    Missing|Laboratory-confir...|   Symptomatic|     No|Missing|      NA|                    null|\n",
            "|   2021-01|       IL|             17|         HENRY|           17073|  0 - 17 years|Female|     NA|       NA|                           null|                  0|            Missing|    Missing|Laboratory-confir...|       Missing|     No|Missing| Missing|                    null|\n",
            "|   2020-12|       PA|             42|NORTHUMBERLAND|           42097|  0 - 17 years|Female|     NA|       NA|                              0|               null|            Missing|    Missing|Laboratory-confir...|       Unknown|Unknown|Unknown| Unknown|                    null|\n",
            "|   2021-01|       OK|             40|      SEMINOLE|           40133|  0 - 17 years|Female|     NA|       NA|                           null|               null|            Missing|    Missing|Laboratory-confir...|       Unknown|Unknown|Missing|      NA|                    null|\n",
            "|   2021-01|       UT|             49|        UINTAH|           49047|  0 - 17 years|Female|     NA|       NA|                              0|                  0|            Missing|        Yes|Laboratory-confir...|   Symptomatic|     No|Missing|      NA|                    null|\n",
            "|   2020-04|       FL|             12|      COLUMBIA|           12023|18 to 49 years|Female|     NA|       NA|                           null|                  0|            Missing|    Missing|Laboratory-confir...|   Symptomatic|     No|Missing|      NA|                    null|\n",
            "|   2020-12|       MN|             27|     CROW WING|           27035|18 to 49 years|Female|Unknown|  Missing|                              0|               null|            Missing|    Missing|Laboratory-confir...|       Missing|Missing|Missing|      No|                    null|\n",
            "|   2020-10|       IN|             18|      FRANKLIN|           18047|18 to 49 years|Female|     NA|       NA|                              0|               null|            Missing|    Missing|Laboratory-confir...|       Missing|Missing|Missing|      No|                    null|\n",
            "|   2021-03|       NY|             36|      FRANKLIN|           36033|18 to 49 years|Female|     NA|       NA|                           null|               null|            Missing|    Missing|Laboratory-confir...|       Missing|Missing|Missing|      No|                    null|\n",
            "|   2021-04|       NH|             33|       GRAFTON|           33009|18 to 49 years|Female|     NA|       NA|                           null|               null|            Missing|    Missing|Laboratory-confir...|  Asymptomatic|     No|Unknown|      No|                     Yes|\n",
            "+----------+---------+---------------+--------------+----------------+--------------+------+-------+---------+-------------------------------+-------------------+-------------------+-----------+--------------------+--------------+-------+-------+--------+------------------------+\n",
            "only showing top 20 rows\n",
            "\n"
          ],
          "name": "stdout"
        }
      ]
    },
    {
      "cell_type": "code",
      "metadata": {
        "id": "PYqyyP4rkZgE"
      },
      "source": [
        "covid_cases = covid.filter(covid[\"county_fips_code\"] != 'NA')\n",
        "covid_deaths = covid_cases.filter(covid_cases[\"death_yn\"] == 'Yes')\n"
      ],
      "execution_count": 118,
      "outputs": []
    },
    {
      "cell_type": "code",
      "metadata": {
        "colab": {
          "base_uri": "https://localhost:8080/"
        },
        "id": "UJ_TOhlCkZxW",
        "outputId": "c0bae81f-24f6-4202-90c4-aa780f3b559d"
      },
      "source": [
        "covid_cases.show()\n"
      ],
      "execution_count": 6,
      "outputs": [
        {
          "output_type": "stream",
          "text": [
            "+----------+---------+---------------+--------------+----------------+--------------+------+-------+---------+-------------------------------+-------------------+-------------------+-----------+--------------------+--------------+-------+-------+--------+------------------------+\n",
            "|case_month|res_state|state_fips_code|    res_county|county_fips_code|     age_group|   sex|   race|ethnicity|case_positive_specimen_interval|case_onset_interval|            process|exposure_yn|      current_status|symptom_status|hosp_yn| icu_yn|death_yn|underlying_conditions_yn|\n",
            "+----------+---------+---------------+--------------+----------------+--------------+------+-------+---------+-------------------------------+-------------------+-------------------+-----------+--------------------+--------------+-------+-------+--------+------------------------+\n",
            "|   2020-12|       AL|             01|     ST. CLAIR|           26147|            NA|    NA|     NA|       NA|                           null|               null|            Missing|    Missing|       Probable Case|       Missing|Missing|Missing| Missing|                    null|\n",
            "|   2020-05|       AR|             05|        GREENE|           05055|  0 - 17 years|    NA|     NA|       NA|                              0|                  0|            Missing|    Missing|Laboratory-confir...|   Symptomatic|     No|Missing|      NA|                     Yes|\n",
            "|   2020-11|       OH|             39|         HENRY|           39069|  0 - 17 years|    NA|     NA|       NA|                           null|                  0|Clinical evaluation|    Unknown|Laboratory-confir...|   Symptomatic|     No|Missing|      NA|                     Yes|\n",
            "|   2020-11|       KY|             21|    MUHLENBERG|           21177|18 to 49 years|    NA|     NA|       NA|                           null|               null|            Missing|    Missing|Laboratory-confir...|       Missing|     No|Missing|      No|                    null|\n",
            "|   2020-05|       NY|             36|         YATES|           36123|50 to 64 years|    NA|     NA|       NA|                              0|               null|            Missing|    Missing|       Probable Case|       Missing|Missing|Missing|      NA|                    null|\n",
            "|   2020-12|       AL|             01|      CHEROKEE|           01019|       Missing|Female|Missing|  Missing|                           null|               null|            Missing|    Missing|       Probable Case|       Missing|Missing|Missing| Missing|                    null|\n",
            "|   2020-07|       GA|             13|         BRYAN|           13029|  0 - 17 years|Female|Unknown|  Missing|                           null|               null|            Missing|    Missing|Laboratory-confir...|       Missing|Missing|Missing| Missing|                    null|\n",
            "|   2021-01|       NY|             36|      COLUMBIA|           36021|  0 - 17 years|Female|     NA|       NA|                              0|               null|            Missing|    Missing|Laboratory-confir...|       Missing|Missing|Missing|      No|                    null|\n",
            "|   2021-03|       NC|             37|      COLUMBUS|           37047|  0 - 17 years|Female|     NA|       NA|                              0|               null|            Missing|    Missing|       Probable Case|       Unknown|Unknown|Unknown|      No|                    null|\n",
            "|   2021-02|       NH|             33|          COOS|           33007|  0 - 17 years|Female|     NA|       NA|                           null|               null|            Missing|    Missing|Laboratory-confir...|  Asymptomatic|Unknown|Unknown|      No|                     Yes|\n",
            "|   2021-03|       WI|             55|       DOUGLAS|           55031|  0 - 17 years|Female|     NA|       NA|                           null|                  0|            Missing|    Missing|Laboratory-confir...|   Symptomatic|     No|Missing|      NA|                    null|\n",
            "|   2021-01|       IL|             17|         HENRY|           17073|  0 - 17 years|Female|     NA|       NA|                           null|                  0|            Missing|    Missing|Laboratory-confir...|       Missing|     No|Missing| Missing|                    null|\n",
            "|   2020-12|       PA|             42|NORTHUMBERLAND|           42097|  0 - 17 years|Female|     NA|       NA|                              0|               null|            Missing|    Missing|Laboratory-confir...|       Unknown|Unknown|Unknown| Unknown|                    null|\n",
            "|   2021-01|       OK|             40|      SEMINOLE|           40133|  0 - 17 years|Female|     NA|       NA|                           null|               null|            Missing|    Missing|Laboratory-confir...|       Unknown|Unknown|Missing|      NA|                    null|\n",
            "|   2021-01|       UT|             49|        UINTAH|           49047|  0 - 17 years|Female|     NA|       NA|                              0|                  0|            Missing|        Yes|Laboratory-confir...|   Symptomatic|     No|Missing|      NA|                    null|\n",
            "|   2020-04|       FL|             12|      COLUMBIA|           12023|18 to 49 years|Female|     NA|       NA|                           null|                  0|            Missing|    Missing|Laboratory-confir...|   Symptomatic|     No|Missing|      NA|                    null|\n",
            "|   2020-12|       MN|             27|     CROW WING|           27035|18 to 49 years|Female|Unknown|  Missing|                              0|               null|            Missing|    Missing|Laboratory-confir...|       Missing|Missing|Missing|      No|                    null|\n",
            "|   2020-10|       IN|             18|      FRANKLIN|           18047|18 to 49 years|Female|     NA|       NA|                              0|               null|            Missing|    Missing|Laboratory-confir...|       Missing|Missing|Missing|      No|                    null|\n",
            "|   2021-03|       NY|             36|      FRANKLIN|           36033|18 to 49 years|Female|     NA|       NA|                           null|               null|            Missing|    Missing|Laboratory-confir...|       Missing|Missing|Missing|      No|                    null|\n",
            "|   2021-04|       NH|             33|       GRAFTON|           33009|18 to 49 years|Female|     NA|       NA|                           null|               null|            Missing|    Missing|Laboratory-confir...|  Asymptomatic|     No|Unknown|      No|                     Yes|\n",
            "+----------+---------+---------------+--------------+----------------+--------------+------+-------+---------+-------------------------------+-------------------+-------------------+-----------+--------------------+--------------+-------+-------+--------+------------------------+\n",
            "only showing top 20 rows\n",
            "\n"
          ],
          "name": "stdout"
        }
      ]
    },
    {
      "cell_type": "code",
      "metadata": {
        "id": "bZ8F4ddJkZ2D",
        "colab": {
          "base_uri": "https://localhost:8080/"
        },
        "outputId": "6b7c32ec-b954-4e5a-ec24-6701d1295403"
      },
      "source": [
        "import pandas as pd\n",
        "from pyspark.sql.functions import pandas_udf\n",
        "\n",
        "@pandas_udf('string')\n",
        "def just_county(series: pd.Series) -> pd.Series:\n",
        "  return series.apply(lambda x: x[:5])\n",
        "\n",
        "counties = ccvi.select(just_county(ccvi.FIPS), ccvi.ccvi).withColumnRenamed('just_county(FIPS)','county_fips_code')\n",
        "counties.show()\n"
      ],
      "execution_count": 36,
      "outputs": [
        {
          "output_type": "stream",
          "text": [
            "+----------------+-------------------+\n",
            "|county_fips_code|               ccvi|\n",
            "+----------------+-------------------+\n",
            "|           10010|        0.441972264|\n",
            "|           10010| 0.7426192490000001|\n",
            "|           10010|        0.778071792|\n",
            "|           10010|        0.362727033|\n",
            "|           10010| 0.8165999359999999|\n",
            "|           10010|        0.738005846|\n",
            "|           10010|        0.777392943|\n",
            "|           10010|         0.32720522|\n",
            "|           10010|        0.712805309|\n",
            "|           10010|        0.429475901|\n",
            "|           10010|        0.603607598|\n",
            "|           10010|        0.690292459|\n",
            "|           10030|0.33472797600000004|\n",
            "|           10030|         0.58888073|\n",
            "|           10030|0.39719593799999997|\n",
            "|           10030|        0.214890345|\n",
            "|           10030| 0.7148972720000001|\n",
            "|           10030|         0.88074424|\n",
            "|           10030|        0.457447251|\n",
            "|           10030|        0.497817985|\n",
            "+----------------+-------------------+\n",
            "only showing top 20 rows\n",
            "\n"
          ],
          "name": "stdout"
        }
      ]
    },
    {
      "cell_type": "code",
      "metadata": {
        "colab": {
          "base_uri": "https://localhost:8080/",
          "height": 419
        },
        "id": "jfWVmpBZxbDu",
        "outputId": "463b6a60-fc81-4d37-debd-5672f9577b6c"
      },
      "source": [
        "# Import struct fields that we can use\n",
        "from pyspark.sql.types import StructField, StringType, IntegerType, DoubleType, StructType\n",
        "\n",
        "county_ccvi = counties.withColumn('ccvi', counties.ccvi.cast(DoubleType()))\n",
        "\n",
        "county_ccvi = county_ccvi.groupby('county_fips_code').avg()\n",
        "\n",
        "county_ccvi = county_ccvi.toPandas()\n",
        "\n",
        "county_ccvi\n"
      ],
      "execution_count": 57,
      "outputs": [
        {
          "output_type": "execute_result",
          "data": {
            "text/html": [
              "<div>\n",
              "<style scoped>\n",
              "    .dataframe tbody tr th:only-of-type {\n",
              "        vertical-align: middle;\n",
              "    }\n",
              "\n",
              "    .dataframe tbody tr th {\n",
              "        vertical-align: top;\n",
              "    }\n",
              "\n",
              "    .dataframe thead th {\n",
              "        text-align: right;\n",
              "    }\n",
              "</style>\n",
              "<table border=\"1\" class=\"dataframe\">\n",
              "  <thead>\n",
              "    <tr style=\"text-align: right;\">\n",
              "      <th></th>\n",
              "      <th>county_fips_code</th>\n",
              "      <th>avg(ccvi)</th>\n",
              "    </tr>\n",
              "  </thead>\n",
              "  <tbody>\n",
              "    <tr>\n",
              "      <th>0</th>\n",
              "      <td>60070</td>\n",
              "      <td>0.536985</td>\n",
              "    </tr>\n",
              "    <tr>\n",
              "      <th>1</th>\n",
              "      <td>19095</td>\n",
              "      <td>0.210540</td>\n",
              "    </tr>\n",
              "    <tr>\n",
              "      <th>2</th>\n",
              "      <td>22121</td>\n",
              "      <td>0.800673</td>\n",
              "    </tr>\n",
              "    <tr>\n",
              "      <th>3</th>\n",
              "      <td>26005</td>\n",
              "      <td>0.380483</td>\n",
              "    </tr>\n",
              "    <tr>\n",
              "      <th>4</th>\n",
              "      <td>28117</td>\n",
              "      <td>0.551965</td>\n",
              "    </tr>\n",
              "    <tr>\n",
              "      <th>...</th>\n",
              "      <td>...</td>\n",
              "      <td>...</td>\n",
              "    </tr>\n",
              "    <tr>\n",
              "      <th>3168</th>\n",
              "      <td>29201</td>\n",
              "      <td>0.639436</td>\n",
              "    </tr>\n",
              "    <tr>\n",
              "      <th>3169</th>\n",
              "      <td>36075</td>\n",
              "      <td>0.488158</td>\n",
              "    </tr>\n",
              "    <tr>\n",
              "      <th>3170</th>\n",
              "      <td>39039</td>\n",
              "      <td>0.372042</td>\n",
              "    </tr>\n",
              "    <tr>\n",
              "      <th>3171</th>\n",
              "      <td>42015</td>\n",
              "      <td>0.332772</td>\n",
              "    </tr>\n",
              "    <tr>\n",
              "      <th>3172</th>\n",
              "      <td>55041</td>\n",
              "      <td>0.478807</td>\n",
              "    </tr>\n",
              "  </tbody>\n",
              "</table>\n",
              "<p>3173 rows × 2 columns</p>\n",
              "</div>"
            ],
            "text/plain": [
              "     county_fips_code  avg(ccvi)\n",
              "0               60070   0.536985\n",
              "1               19095   0.210540\n",
              "2               22121   0.800673\n",
              "3               26005   0.380483\n",
              "4               28117   0.551965\n",
              "...               ...        ...\n",
              "3168            29201   0.639436\n",
              "3169            36075   0.488158\n",
              "3170            39039   0.372042\n",
              "3171            42015   0.332772\n",
              "3172            55041   0.478807\n",
              "\n",
              "[3173 rows x 2 columns]"
            ]
          },
          "metadata": {
            "tags": []
          },
          "execution_count": 57
        }
      ]
    },
    {
      "cell_type": "code",
      "metadata": {
        "id": "AGJayQ6v91Hc"
      },
      "source": [
        "cases = covid_cases.groupBy('county_fips_code').count().toPandas()\n",
        "deaths = covid_deaths.groupBy('county_fips_code').count().toPandas()"
      ],
      "execution_count": 121,
      "outputs": []
    },
    {
      "cell_type": "code",
      "metadata": {
        "id": "uyLnKN9PxbQI"
      },
      "source": [
        "case_count = pd.merge(cases, county_ccvi, on='county_fips_code')\n",
        "death_count = pd.merge(deaths, county_ccvi, on='county_fips_code')\n"
      ],
      "execution_count": 128,
      "outputs": []
    },
    {
      "cell_type": "code",
      "metadata": {
        "colab": {
          "base_uri": "https://localhost:8080/",
          "height": 419
        },
        "id": "kYSL-v4aXEjq",
        "outputId": "43c3e93e-7281-47a2-bd35-5488fe7e7c28"
      },
      "source": [
        "import requests\n",
        "import json\n",
        "\n",
        "url = \"https://api.census.gov/data/2019/acs/acs5?get=B01003_001E&for=county:*&in=state:*\"\n",
        "response = requests.get(url).json()\n",
        "\n",
        "county_pop = pd.DataFrame(response)\n",
        "\n",
        "county_pop\n",
        "\n",
        "\n"
      ],
      "execution_count": 124,
      "outputs": [
        {
          "output_type": "execute_result",
          "data": {
            "text/html": [
              "<div>\n",
              "<style scoped>\n",
              "    .dataframe tbody tr th:only-of-type {\n",
              "        vertical-align: middle;\n",
              "    }\n",
              "\n",
              "    .dataframe tbody tr th {\n",
              "        vertical-align: top;\n",
              "    }\n",
              "\n",
              "    .dataframe thead th {\n",
              "        text-align: right;\n",
              "    }\n",
              "</style>\n",
              "<table border=\"1\" class=\"dataframe\">\n",
              "  <thead>\n",
              "    <tr style=\"text-align: right;\">\n",
              "      <th></th>\n",
              "      <th>0</th>\n",
              "      <th>1</th>\n",
              "      <th>2</th>\n",
              "    </tr>\n",
              "  </thead>\n",
              "  <tbody>\n",
              "    <tr>\n",
              "      <th>0</th>\n",
              "      <td>B01003_001E</td>\n",
              "      <td>state</td>\n",
              "      <td>county</td>\n",
              "    </tr>\n",
              "    <tr>\n",
              "      <th>1</th>\n",
              "      <td>21565</td>\n",
              "      <td>17</td>\n",
              "      <td>051</td>\n",
              "    </tr>\n",
              "    <tr>\n",
              "      <th>2</th>\n",
              "      <td>29003</td>\n",
              "      <td>17</td>\n",
              "      <td>107</td>\n",
              "    </tr>\n",
              "    <tr>\n",
              "      <th>3</th>\n",
              "      <td>23994</td>\n",
              "      <td>17</td>\n",
              "      <td>165</td>\n",
              "    </tr>\n",
              "    <tr>\n",
              "      <th>4</th>\n",
              "      <td>701473</td>\n",
              "      <td>17</td>\n",
              "      <td>097</td>\n",
              "    </tr>\n",
              "    <tr>\n",
              "      <th>...</th>\n",
              "      <td>...</td>\n",
              "      <td>...</td>\n",
              "      <td>...</td>\n",
              "    </tr>\n",
              "    <tr>\n",
              "      <th>3216</th>\n",
              "      <td>14399</td>\n",
              "      <td>47</td>\n",
              "      <td>033</td>\n",
              "    </tr>\n",
              "    <tr>\n",
              "      <th>3217</th>\n",
              "      <td>7401</td>\n",
              "      <td>47</td>\n",
              "      <td>095</td>\n",
              "    </tr>\n",
              "    <tr>\n",
              "      <th>3218</th>\n",
              "      <td>461104</td>\n",
              "      <td>47</td>\n",
              "      <td>093</td>\n",
              "    </tr>\n",
              "    <tr>\n",
              "      <th>3219</th>\n",
              "      <td>197518</td>\n",
              "      <td>53</td>\n",
              "      <td>005</td>\n",
              "    </tr>\n",
              "    <tr>\n",
              "      <th>3220</th>\n",
              "      <td>473252</td>\n",
              "      <td>53</td>\n",
              "      <td>011</td>\n",
              "    </tr>\n",
              "  </tbody>\n",
              "</table>\n",
              "<p>3221 rows × 3 columns</p>\n",
              "</div>"
            ],
            "text/plain": [
              "                0      1       2\n",
              "0     B01003_001E  state  county\n",
              "1           21565     17     051\n",
              "2           29003     17     107\n",
              "3           23994     17     165\n",
              "4          701473     17     097\n",
              "...           ...    ...     ...\n",
              "3216        14399     47     033\n",
              "3217         7401     47     095\n",
              "3218       461104     47     093\n",
              "3219       197518     53     005\n",
              "3220       473252     53     011\n",
              "\n",
              "[3221 rows x 3 columns]"
            ]
          },
          "metadata": {
            "tags": []
          },
          "execution_count": 124
        }
      ]
    },
    {
      "cell_type": "code",
      "metadata": {
        "colab": {
          "base_uri": "https://localhost:8080/",
          "height": 419
        },
        "id": "4E_x6BBwXWiU",
        "outputId": "c701cc1d-942b-4ea9-f5d7-64ebf4544185"
      },
      "source": [
        "county_pop = county_pop.rename(columns={0: 'population', 1: 'state', 2: 'county_fips_code'})\n",
        "\n",
        "county_pop = county_pop.loc[county_pop['state'] != 'state',:]\n",
        "\n",
        "county_pop\n"
      ],
      "execution_count": 125,
      "outputs": [
        {
          "output_type": "execute_result",
          "data": {
            "text/html": [
              "<div>\n",
              "<style scoped>\n",
              "    .dataframe tbody tr th:only-of-type {\n",
              "        vertical-align: middle;\n",
              "    }\n",
              "\n",
              "    .dataframe tbody tr th {\n",
              "        vertical-align: top;\n",
              "    }\n",
              "\n",
              "    .dataframe thead th {\n",
              "        text-align: right;\n",
              "    }\n",
              "</style>\n",
              "<table border=\"1\" class=\"dataframe\">\n",
              "  <thead>\n",
              "    <tr style=\"text-align: right;\">\n",
              "      <th></th>\n",
              "      <th>population</th>\n",
              "      <th>state</th>\n",
              "      <th>county_fips_code</th>\n",
              "    </tr>\n",
              "  </thead>\n",
              "  <tbody>\n",
              "    <tr>\n",
              "      <th>1</th>\n",
              "      <td>21565</td>\n",
              "      <td>17</td>\n",
              "      <td>051</td>\n",
              "    </tr>\n",
              "    <tr>\n",
              "      <th>2</th>\n",
              "      <td>29003</td>\n",
              "      <td>17</td>\n",
              "      <td>107</td>\n",
              "    </tr>\n",
              "    <tr>\n",
              "      <th>3</th>\n",
              "      <td>23994</td>\n",
              "      <td>17</td>\n",
              "      <td>165</td>\n",
              "    </tr>\n",
              "    <tr>\n",
              "      <th>4</th>\n",
              "      <td>701473</td>\n",
              "      <td>17</td>\n",
              "      <td>097</td>\n",
              "    </tr>\n",
              "    <tr>\n",
              "      <th>5</th>\n",
              "      <td>14219</td>\n",
              "      <td>17</td>\n",
              "      <td>127</td>\n",
              "    </tr>\n",
              "    <tr>\n",
              "      <th>...</th>\n",
              "      <td>...</td>\n",
              "      <td>...</td>\n",
              "      <td>...</td>\n",
              "    </tr>\n",
              "    <tr>\n",
              "      <th>3216</th>\n",
              "      <td>14399</td>\n",
              "      <td>47</td>\n",
              "      <td>033</td>\n",
              "    </tr>\n",
              "    <tr>\n",
              "      <th>3217</th>\n",
              "      <td>7401</td>\n",
              "      <td>47</td>\n",
              "      <td>095</td>\n",
              "    </tr>\n",
              "    <tr>\n",
              "      <th>3218</th>\n",
              "      <td>461104</td>\n",
              "      <td>47</td>\n",
              "      <td>093</td>\n",
              "    </tr>\n",
              "    <tr>\n",
              "      <th>3219</th>\n",
              "      <td>197518</td>\n",
              "      <td>53</td>\n",
              "      <td>005</td>\n",
              "    </tr>\n",
              "    <tr>\n",
              "      <th>3220</th>\n",
              "      <td>473252</td>\n",
              "      <td>53</td>\n",
              "      <td>011</td>\n",
              "    </tr>\n",
              "  </tbody>\n",
              "</table>\n",
              "<p>3220 rows × 3 columns</p>\n",
              "</div>"
            ],
            "text/plain": [
              "     population state county_fips_code\n",
              "1         21565    17              051\n",
              "2         29003    17              107\n",
              "3         23994    17              165\n",
              "4        701473    17              097\n",
              "5         14219    17              127\n",
              "...         ...   ...              ...\n",
              "3216      14399    47              033\n",
              "3217       7401    47              095\n",
              "3218     461104    47              093\n",
              "3219     197518    53              005\n",
              "3220     473252    53              011\n",
              "\n",
              "[3220 rows x 3 columns]"
            ]
          },
          "metadata": {
            "tags": []
          },
          "execution_count": 125
        }
      ]
    },
    {
      "cell_type": "code",
      "metadata": {
        "colab": {
          "base_uri": "https://localhost:8080/",
          "height": 419
        },
        "id": "c0aZAZLwl_Ai",
        "outputId": "b8af0989-5360-440d-80df-779938f6a4e2"
      },
      "source": [
        "county_pop['county_fips_code'] = county_pop['state'] + county_pop['county_fips_code']\n",
        "\n",
        "county_pop = county_pop.drop(columns=['state'])\n",
        "\n",
        "county_pop\n"
      ],
      "execution_count": 126,
      "outputs": [
        {
          "output_type": "execute_result",
          "data": {
            "text/html": [
              "<div>\n",
              "<style scoped>\n",
              "    .dataframe tbody tr th:only-of-type {\n",
              "        vertical-align: middle;\n",
              "    }\n",
              "\n",
              "    .dataframe tbody tr th {\n",
              "        vertical-align: top;\n",
              "    }\n",
              "\n",
              "    .dataframe thead th {\n",
              "        text-align: right;\n",
              "    }\n",
              "</style>\n",
              "<table border=\"1\" class=\"dataframe\">\n",
              "  <thead>\n",
              "    <tr style=\"text-align: right;\">\n",
              "      <th></th>\n",
              "      <th>population</th>\n",
              "      <th>county_fips_code</th>\n",
              "    </tr>\n",
              "  </thead>\n",
              "  <tbody>\n",
              "    <tr>\n",
              "      <th>1</th>\n",
              "      <td>21565</td>\n",
              "      <td>17051</td>\n",
              "    </tr>\n",
              "    <tr>\n",
              "      <th>2</th>\n",
              "      <td>29003</td>\n",
              "      <td>17107</td>\n",
              "    </tr>\n",
              "    <tr>\n",
              "      <th>3</th>\n",
              "      <td>23994</td>\n",
              "      <td>17165</td>\n",
              "    </tr>\n",
              "    <tr>\n",
              "      <th>4</th>\n",
              "      <td>701473</td>\n",
              "      <td>17097</td>\n",
              "    </tr>\n",
              "    <tr>\n",
              "      <th>5</th>\n",
              "      <td>14219</td>\n",
              "      <td>17127</td>\n",
              "    </tr>\n",
              "    <tr>\n",
              "      <th>...</th>\n",
              "      <td>...</td>\n",
              "      <td>...</td>\n",
              "    </tr>\n",
              "    <tr>\n",
              "      <th>3216</th>\n",
              "      <td>14399</td>\n",
              "      <td>47033</td>\n",
              "    </tr>\n",
              "    <tr>\n",
              "      <th>3217</th>\n",
              "      <td>7401</td>\n",
              "      <td>47095</td>\n",
              "    </tr>\n",
              "    <tr>\n",
              "      <th>3218</th>\n",
              "      <td>461104</td>\n",
              "      <td>47093</td>\n",
              "    </tr>\n",
              "    <tr>\n",
              "      <th>3219</th>\n",
              "      <td>197518</td>\n",
              "      <td>53005</td>\n",
              "    </tr>\n",
              "    <tr>\n",
              "      <th>3220</th>\n",
              "      <td>473252</td>\n",
              "      <td>53011</td>\n",
              "    </tr>\n",
              "  </tbody>\n",
              "</table>\n",
              "<p>3220 rows × 2 columns</p>\n",
              "</div>"
            ],
            "text/plain": [
              "     population county_fips_code\n",
              "1         21565            17051\n",
              "2         29003            17107\n",
              "3         23994            17165\n",
              "4        701473            17097\n",
              "5         14219            17127\n",
              "...         ...              ...\n",
              "3216      14399            47033\n",
              "3217       7401            47095\n",
              "3218     461104            47093\n",
              "3219     197518            53005\n",
              "3220     473252            53011\n",
              "\n",
              "[3220 rows x 2 columns]"
            ]
          },
          "metadata": {
            "tags": []
          },
          "execution_count": 126
        }
      ]
    },
    {
      "cell_type": "code",
      "metadata": {
        "colab": {
          "base_uri": "https://localhost:8080/",
          "height": 419
        },
        "id": "PzrO3bG1XWoC",
        "outputId": "653fe52f-4736-416c-ac38-73d0a29adcc7"
      },
      "source": [
        "county_covid_cases = pd.merge(case_count, county_pop, on='county_fips_code')\n",
        "county_covid_deaths = pd.merge(death_count, county_pop, on='county_fips_code')\n"
      ],
      "execution_count": 129,
      "outputs": [
        {
          "output_type": "execute_result",
          "data": {
            "text/html": [
              "<div>\n",
              "<style scoped>\n",
              "    .dataframe tbody tr th:only-of-type {\n",
              "        vertical-align: middle;\n",
              "    }\n",
              "\n",
              "    .dataframe tbody tr th {\n",
              "        vertical-align: top;\n",
              "    }\n",
              "\n",
              "    .dataframe thead th {\n",
              "        text-align: right;\n",
              "    }\n",
              "</style>\n",
              "<table border=\"1\" class=\"dataframe\">\n",
              "  <thead>\n",
              "    <tr style=\"text-align: right;\">\n",
              "      <th></th>\n",
              "      <th>county_fips_code</th>\n",
              "      <th>count</th>\n",
              "      <th>avg(ccvi)</th>\n",
              "      <th>population</th>\n",
              "    </tr>\n",
              "  </thead>\n",
              "  <tbody>\n",
              "    <tr>\n",
              "      <th>0</th>\n",
              "      <td>36067</td>\n",
              "      <td>122</td>\n",
              "      <td>0.486908</td>\n",
              "      <td>462872</td>\n",
              "    </tr>\n",
              "    <tr>\n",
              "      <th>1</th>\n",
              "      <td>39103</td>\n",
              "      <td>183</td>\n",
              "      <td>0.258305</td>\n",
              "      <td>177980</td>\n",
              "    </tr>\n",
              "    <tr>\n",
              "      <th>2</th>\n",
              "      <td>26005</td>\n",
              "      <td>36</td>\n",
              "      <td>0.380483</td>\n",
              "      <td>116143</td>\n",
              "    </tr>\n",
              "    <tr>\n",
              "      <th>3</th>\n",
              "      <td>55089</td>\n",
              "      <td>19</td>\n",
              "      <td>0.092371</td>\n",
              "      <td>88597</td>\n",
              "    </tr>\n",
              "    <tr>\n",
              "      <th>4</th>\n",
              "      <td>51550</td>\n",
              "      <td>53</td>\n",
              "      <td>0.408755</td>\n",
              "      <td>239982</td>\n",
              "    </tr>\n",
              "    <tr>\n",
              "      <th>...</th>\n",
              "      <td>...</td>\n",
              "      <td>...</td>\n",
              "      <td>...</td>\n",
              "      <td>...</td>\n",
              "    </tr>\n",
              "    <tr>\n",
              "      <th>670</th>\n",
              "      <td>17195</td>\n",
              "      <td>109</td>\n",
              "      <td>0.446679</td>\n",
              "      <td>56016</td>\n",
              "    </tr>\n",
              "    <tr>\n",
              "      <th>671</th>\n",
              "      <td>26049</td>\n",
              "      <td>430</td>\n",
              "      <td>0.413558</td>\n",
              "      <td>407875</td>\n",
              "    </tr>\n",
              "    <tr>\n",
              "      <th>672</th>\n",
              "      <td>53063</td>\n",
              "      <td>375</td>\n",
              "      <td>0.260410</td>\n",
              "      <td>505505</td>\n",
              "    </tr>\n",
              "    <tr>\n",
              "      <th>673</th>\n",
              "      <td>39039</td>\n",
              "      <td>62</td>\n",
              "      <td>0.372042</td>\n",
              "      <td>38160</td>\n",
              "    </tr>\n",
              "    <tr>\n",
              "      <th>674</th>\n",
              "      <td>17081</td>\n",
              "      <td>39</td>\n",
              "      <td>0.301230</td>\n",
              "      <td>37985</td>\n",
              "    </tr>\n",
              "  </tbody>\n",
              "</table>\n",
              "<p>675 rows × 4 columns</p>\n",
              "</div>"
            ],
            "text/plain": [
              "    county_fips_code  count  avg(ccvi) population\n",
              "0              36067    122   0.486908     462872\n",
              "1              39103    183   0.258305     177980\n",
              "2              26005     36   0.380483     116143\n",
              "3              55089     19   0.092371      88597\n",
              "4              51550     53   0.408755     239982\n",
              "..               ...    ...        ...        ...\n",
              "670            17195    109   0.446679      56016\n",
              "671            26049    430   0.413558     407875\n",
              "672            53063    375   0.260410     505505\n",
              "673            39039     62   0.372042      38160\n",
              "674            17081     39   0.301230      37985\n",
              "\n",
              "[675 rows x 4 columns]"
            ]
          },
          "metadata": {
            "tags": []
          },
          "execution_count": 129
        }
      ]
    },
    {
      "cell_type": "code",
      "metadata": {
        "colab": {
          "base_uri": "https://localhost:8080/",
          "height": 419
        },
        "id": "qBPx5gpDXEpn",
        "outputId": "5a2e0a99-cbdf-421e-a7b1-71b1687122cd"
      },
      "source": [
        "county_covid_cases = county_covid_cases.astype({'population': 'int64'})\n",
        "county_covid_deaths = county_covid_deaths.astype({'population': 'int64'})\n",
        "\n",
        "county_covid_cases['percent_infected'] = (county_covid_cases['count']/county_covid_cases['population'])*100\n",
        "county_covid_deaths['percent_infected'] = (county_covid_deaths['count']/county_covid_deaths['population'])*100\n",
        "\n",
        "county_covid_cases\n",
        "county_covid_deaths\n"
      ],
      "execution_count": 130,
      "outputs": [
        {
          "output_type": "execute_result",
          "data": {
            "text/html": [
              "<div>\n",
              "<style scoped>\n",
              "    .dataframe tbody tr th:only-of-type {\n",
              "        vertical-align: middle;\n",
              "    }\n",
              "\n",
              "    .dataframe tbody tr th {\n",
              "        vertical-align: top;\n",
              "    }\n",
              "\n",
              "    .dataframe thead th {\n",
              "        text-align: right;\n",
              "    }\n",
              "</style>\n",
              "<table border=\"1\" class=\"dataframe\">\n",
              "  <thead>\n",
              "    <tr style=\"text-align: right;\">\n",
              "      <th></th>\n",
              "      <th>county_fips_code</th>\n",
              "      <th>count</th>\n",
              "      <th>avg(ccvi)</th>\n",
              "      <th>population</th>\n",
              "      <th>percent_infected</th>\n",
              "    </tr>\n",
              "  </thead>\n",
              "  <tbody>\n",
              "    <tr>\n",
              "      <th>0</th>\n",
              "      <td>36067</td>\n",
              "      <td>122</td>\n",
              "      <td>0.486908</td>\n",
              "      <td>462872</td>\n",
              "      <td>0.026357</td>\n",
              "    </tr>\n",
              "    <tr>\n",
              "      <th>1</th>\n",
              "      <td>39103</td>\n",
              "      <td>183</td>\n",
              "      <td>0.258305</td>\n",
              "      <td>177980</td>\n",
              "      <td>0.102821</td>\n",
              "    </tr>\n",
              "    <tr>\n",
              "      <th>2</th>\n",
              "      <td>26005</td>\n",
              "      <td>36</td>\n",
              "      <td>0.380483</td>\n",
              "      <td>116143</td>\n",
              "      <td>0.030996</td>\n",
              "    </tr>\n",
              "    <tr>\n",
              "      <th>3</th>\n",
              "      <td>55089</td>\n",
              "      <td>19</td>\n",
              "      <td>0.092371</td>\n",
              "      <td>88597</td>\n",
              "      <td>0.021445</td>\n",
              "    </tr>\n",
              "    <tr>\n",
              "      <th>4</th>\n",
              "      <td>51550</td>\n",
              "      <td>53</td>\n",
              "      <td>0.408755</td>\n",
              "      <td>239982</td>\n",
              "      <td>0.022085</td>\n",
              "    </tr>\n",
              "    <tr>\n",
              "      <th>...</th>\n",
              "      <td>...</td>\n",
              "      <td>...</td>\n",
              "      <td>...</td>\n",
              "      <td>...</td>\n",
              "      <td>...</td>\n",
              "    </tr>\n",
              "    <tr>\n",
              "      <th>670</th>\n",
              "      <td>17195</td>\n",
              "      <td>109</td>\n",
              "      <td>0.446679</td>\n",
              "      <td>56016</td>\n",
              "      <td>0.194587</td>\n",
              "    </tr>\n",
              "    <tr>\n",
              "      <th>671</th>\n",
              "      <td>26049</td>\n",
              "      <td>430</td>\n",
              "      <td>0.413558</td>\n",
              "      <td>407875</td>\n",
              "      <td>0.105424</td>\n",
              "    </tr>\n",
              "    <tr>\n",
              "      <th>672</th>\n",
              "      <td>53063</td>\n",
              "      <td>375</td>\n",
              "      <td>0.260410</td>\n",
              "      <td>505505</td>\n",
              "      <td>0.074183</td>\n",
              "    </tr>\n",
              "    <tr>\n",
              "      <th>673</th>\n",
              "      <td>39039</td>\n",
              "      <td>62</td>\n",
              "      <td>0.372042</td>\n",
              "      <td>38160</td>\n",
              "      <td>0.162474</td>\n",
              "    </tr>\n",
              "    <tr>\n",
              "      <th>674</th>\n",
              "      <td>17081</td>\n",
              "      <td>39</td>\n",
              "      <td>0.301230</td>\n",
              "      <td>37985</td>\n",
              "      <td>0.102672</td>\n",
              "    </tr>\n",
              "  </tbody>\n",
              "</table>\n",
              "<p>675 rows × 5 columns</p>\n",
              "</div>"
            ],
            "text/plain": [
              "    county_fips_code  count  avg(ccvi)  population  percent_infected\n",
              "0              36067    122   0.486908      462872          0.026357\n",
              "1              39103    183   0.258305      177980          0.102821\n",
              "2              26005     36   0.380483      116143          0.030996\n",
              "3              55089     19   0.092371       88597          0.021445\n",
              "4              51550     53   0.408755      239982          0.022085\n",
              "..               ...    ...        ...         ...               ...\n",
              "670            17195    109   0.446679       56016          0.194587\n",
              "671            26049    430   0.413558      407875          0.105424\n",
              "672            53063    375   0.260410      505505          0.074183\n",
              "673            39039     62   0.372042       38160          0.162474\n",
              "674            17081     39   0.301230       37985          0.102672\n",
              "\n",
              "[675 rows x 5 columns]"
            ]
          },
          "metadata": {
            "tags": []
          },
          "execution_count": 130
        }
      ]
    },
    {
      "cell_type": "code",
      "metadata": {
        "id": "xu1pvpMPXEvt"
      },
      "source": [
        ""
      ],
      "execution_count": null,
      "outputs": []
    },
    {
      "cell_type": "code",
      "metadata": {
        "id": "gmv0PmY7XE2O"
      },
      "source": [
        ""
      ],
      "execution_count": null,
      "outputs": []
    },
    {
      "cell_type": "code",
      "metadata": {
        "colab": {
          "base_uri": "https://localhost:8080/"
        },
        "id": "fgR65_GgJwUk",
        "outputId": "74762e00-e4a4-43f3-a62b-1c5198b0c55e"
      },
      "source": [
        "from sklearn.linear_model import LinearRegression\n",
        "model = LinearRegression()\n",
        "model\n"
      ],
      "execution_count": 113,
      "outputs": [
        {
          "output_type": "execute_result",
          "data": {
            "text/plain": [
              "LinearRegression(copy_X=True, fit_intercept=True, n_jobs=None, normalize=False)"
            ]
          },
          "metadata": {
            "tags": []
          },
          "execution_count": 113
        }
      ]
    },
    {
      "cell_type": "code",
      "metadata": {
        "colab": {
          "base_uri": "https://localhost:8080/",
          "height": 265
        },
        "id": "fxoHHCydsgjK",
        "outputId": "dffe6c4c-5ac8-4666-dace-2be97729b89b"
      },
      "source": [
        "X = county_covid_cases['avg(ccvi)'].values.reshape(-1, 1)\n",
        "y = county_covid_cases['percent_infected'].values.reshape(-1, 1)\n",
        "\n",
        "import matplotlib.pyplot as plt\n",
        "plt.scatter(X, y)\n",
        "\n",
        "# import necessary dependencies\n",
        "from sklearn.model_selection import train_test_split\n",
        "\n",
        "# create split\n",
        "X_train, X_test, y_train, y_test = train_test_split(X, y, random_state=42)\n"
      ],
      "execution_count": 135,
      "outputs": [
        {
          "output_type": "display_data",
          "data": {
            "image/png": "[encoded data removed]",
            "text/plain": [
              "<Figure size 432x288 with 1 Axes>"
            ]
          },
          "metadata": {
            "tags": [],
            "needs_background": "light"
          }
        }
      ]
    },
    {
      "cell_type": "code",
      "metadata": {
        "colab": {
          "base_uri": "https://localhost:8080/",
          "height": 350
        },
        "id": "ZimkV6GfLrxV",
        "outputId": "d1b6f917-2c09-4414-cf53-0e23171ef0ac"
      },
      "source": [
        "import numpy as np\n",
        "\n",
        "model.fit(X_train, y_train)\n",
        "\n",
        "print(f'score: {model.score(X_test, y_test)}')\n",
        "\n",
        "x_min = np.array([[X.min()]])\n",
        "x_max = np.array([[X.max()]])\n",
        "print(f\"Min X Value: {x_min}\")\n",
        "print(f\"Max X Value: {x_max}\")\n",
        "### BEGIN SOLUTION\n",
        "y_min = model.predict(x_min)\n",
        "y_max = model.predict(x_max)\n",
        "print(y_min)\n",
        "print(y_max)\n",
        "### END SOLUTION\n",
        "### BEGIN SOLUTION\n",
        "plt.scatter(X, y, c='blue')\n",
        "plt.plot([x_min[0], x_max[0]], [y_min[0], y_max[0]], c='red')\n",
        "### END SOLUTION"
      ],
      "execution_count": 134,
      "outputs": [
        {
          "output_type": "stream",
          "text": [
            "Min X Value: [[0.04515138]]\n",
            "Max X Value: [[0.95856628]]\n",
            "[[8.67431574]]\n",
            "[[9.47874906]]\n"
          ],
          "name": "stdout"
        },
        {
          "output_type": "execute_result",
          "data": {
            "text/plain": [
              "[<matplotlib.lines.Line2D at 0x7f4e56b7b2d0>]"
            ]
          },
          "metadata": {
            "tags": []
          },
          "execution_count": 134
        },
        {
          "output_type": "display_data",
          "data": {
            "image/png": "[encoded data removed]",
            "text/plain": [
              "<Figure size 432x288 with 1 Axes>"
            ]
          },
          "metadata": {
            "tags": [],
            "needs_background": "light"
          }
        }
      ]
    },
    {
      "cell_type": "code",
      "metadata": {
        "colab": {
          "base_uri": "https://localhost:8080/",
          "height": 265
        },
        "id": "2RR3d4q_Kpdo",
        "outputId": "43b6e55d-890a-4957-c4c0-92e7143f1d41"
      },
      "source": [
        "X = county_covid_deaths['avg(ccvi)'].values.reshape(-1, 1)\n",
        "y = county_covid_deaths ['percent_infected'].values.reshape(-1, 1)\n",
        "\n",
        "import matplotlib.pyplot as plt\n",
        "plt.scatter(X, y)\n",
        "\n",
        "# import necessary dependencies\n",
        "from sklearn.model_selection import train_test_split\n",
        "\n",
        "# create split\n",
        "X_train, X_test, y_train, y_test = train_test_split(X, y, random_state=42)\n"
      ],
      "execution_count": 136,
      "outputs": [
        {
          "output_type": "display_data",
          "data": {
            "image/png": "[encoded data removed]",
            "text/plain": [
              "<Figure size 432x288 with 1 Axes>"
            ]
          },
          "metadata": {
            "tags": [],
            "needs_background": "light"
          }
        }
      ]
    },
    {
      "cell_type": "code",
      "metadata": {
        "colab": {
          "base_uri": "https://localhost:8080/",
          "height": 367
        },
        "id": "cNecpRQOGcxq",
        "outputId": "be96682e-e422-4a4b-8a05-458f4e75e2d1"
      },
      "source": [
        "import numpy as np\n",
        "\n",
        "model.fit(X_train, y_train)\n",
        "\n",
        "print(f'score: {model.score(X_test, y_test)}')\n",
        "\n",
        "x_min = np.array([[X.min()]])\n",
        "x_max = np.array([[X.max()]])\n",
        "print(f\"Min X Value: {x_min}\")\n",
        "print(f\"Max X Value: {x_max}\")\n",
        "### BEGIN SOLUTION\n",
        "y_min = model.predict(x_min)\n",
        "y_max = model.predict(x_max)\n",
        "print(y_min)\n",
        "print(y_max)\n",
        "### END SOLUTION\n",
        "### BEGIN SOLUTION\n",
        "plt.scatter(X, y, c='blue')\n",
        "plt.plot([x_min[0], x_max[0]], [y_min[0], y_max[0]], c='red')\n",
        "### END SOLUTION"
      ],
      "execution_count": 137,
      "outputs": [
        {
          "output_type": "stream",
          "text": [
            "score: 0.007178505185345574\n",
            "Min X Value: [[0.04515138]]\n",
            "Max X Value: [[0.91306172]]\n",
            "[[0.06543872]]\n",
            "[[0.08544007]]\n"
          ],
          "name": "stdout"
        },
        {
          "output_type": "execute_result",
          "data": {
            "text/plain": [
              "[<matplotlib.lines.Line2D at 0x7f4e56a4a710>]"
            ]
          },
          "metadata": {
            "tags": []
          },
          "execution_count": 137
        },
        {
          "output_type": "display_data",
          "data": {
            "image/png": "[encoded data removed]",
            "text/plain": [
              "<Figure size 432x288 with 1 Axes>"
            ]
          },
          "metadata": {
            "tags": [],
            "needs_background": "light"
          }
        }
      ]
    },
    {
      "cell_type": "code",
      "metadata": {
        "colab": {
          "base_uri": "https://localhost:8080/"
        },
        "id": "aZpX4u4rxbXY",
        "outputId": "d312efeb-e65f-4d8b-afd4-1db32939d2af"
      },
      "source": [
        "### BEGIN SOLUTION\n",
        "print('Weight coefficients: ', model.coef_)\n",
        "print('y-axis intercept: ', model.intercept_)\n",
        "### END SOLUTION"
      ],
      "execution_count": 138,
      "outputs": [
        {
          "output_type": "stream",
          "text": [
            "Weight coefficients:  [[0.02304541]]\n",
            "y-axis intercept:  [0.06439818]\n"
          ],
          "name": "stdout"
        }
      ]
    },
    {
      "cell_type": "code",
      "metadata": {
        "id": "NyIPVKkTUUKY"
      },
      "source": [
        ""
      ],
      "execution_count": null,
      "outputs": []
    },
    {
      "cell_type": "code",
      "metadata": {
        "colab": {
          "base_uri": "https://localhost:8080/",
          "height": 232
        },
        "id": "ipHImaznM5EG",
        "outputId": "6c1a6eaa-4449-403d-80ed-3a00343c78ef"
      },
      "source": [
        "# county_ccvi = ccvi.join(counties, ['FIPS'])\n",
        "# county_ccvi = county_ccvi.withColumnRenamed('just_county(FIPS)','county_fips_code')\n",
        "# county_ccvi = meow\n",
        "\n",
        "# county_ccvi.show()\n"
      ],
      "execution_count": null,
      "outputs": [
        {
          "output_type": "error",
          "ename": "NameError",
          "evalue": "ignored",
          "traceback": [
            "\u001b[0;31m---------------------------------------------------------------------------\u001b[0m",
            "\u001b[0;31mNameError\u001b[0m                                 Traceback (most recent call last)",
            "\u001b[0;32m<ipython-input-8-af6a5efc0d49>\u001b[0m in \u001b[0;36m<module>\u001b[0;34m()\u001b[0m\n\u001b[1;32m      1\u001b[0m \u001b[0mcounty_ccvi\u001b[0m \u001b[0;34m=\u001b[0m \u001b[0mccvi\u001b[0m\u001b[0;34m.\u001b[0m\u001b[0mjoin\u001b[0m\u001b[0;34m(\u001b[0m\u001b[0mcounties\u001b[0m\u001b[0;34m,\u001b[0m \u001b[0;34m[\u001b[0m\u001b[0;34m'FIPS'\u001b[0m\u001b[0;34m]\u001b[0m\u001b[0;34m)\u001b[0m\u001b[0;34m\u001b[0m\u001b[0;34m\u001b[0m\u001b[0m\n\u001b[1;32m      2\u001b[0m \u001b[0mcounty_ccvi\u001b[0m \u001b[0;34m=\u001b[0m \u001b[0mcounty_ccvi\u001b[0m\u001b[0;34m.\u001b[0m\u001b[0mwithColumnRenamed\u001b[0m\u001b[0;34m(\u001b[0m\u001b[0;34m'just_county(FIPS)'\u001b[0m\u001b[0;34m,\u001b[0m\u001b[0;34m'county_fips_code'\u001b[0m\u001b[0;34m)\u001b[0m\u001b[0;34m\u001b[0m\u001b[0;34m\u001b[0m\u001b[0m\n\u001b[0;32m----> 3\u001b[0;31m \u001b[0mcounty_ccvi\u001b[0m \u001b[0;34m=\u001b[0m \u001b[0mmeow\u001b[0m\u001b[0;34m\u001b[0m\u001b[0;34m\u001b[0m\u001b[0m\n\u001b[0m\u001b[1;32m      4\u001b[0m \u001b[0;34m\u001b[0m\u001b[0m\n\u001b[1;32m      5\u001b[0m \u001b[0mcounty_ccvi\u001b[0m\u001b[0;34m.\u001b[0m\u001b[0mshow\u001b[0m\u001b[0;34m(\u001b[0m\u001b[0;34m)\u001b[0m\u001b[0;34m\u001b[0m\u001b[0;34m\u001b[0m\u001b[0m\n",
            "\u001b[0;31mNameError\u001b[0m: name 'meow' is not defined"
          ]
        }
      ]
    },
    {
      "cell_type": "code",
      "metadata": {
        "id": "FUmbAb6RM5Mv"
      },
      "source": [
        ""
      ],
      "execution_count": null,
      "outputs": []
    },
    {
      "cell_type": "code",
      "metadata": {
        "id": "WXCVNTeaOqTJ"
      },
      "source": [
        ""
      ],
      "execution_count": null,
      "outputs": []
    },
    {
      "cell_type": "code",
      "metadata": {
        "id": "d1QA8TuAOqYC"
      },
      "source": [
        ""
      ],
      "execution_count": null,
      "outputs": []
    },
    {
      "cell_type": "code",
      "metadata": {
        "id": "O8rgvmUcOqbM"
      },
      "source": [
        ""
      ],
      "execution_count": null,
      "outputs": []
    },
    {
      "cell_type": "code",
      "metadata": {
        "id": "LAIwi_vkOqdu"
      },
      "source": [
        ""
      ],
      "execution_count": null,
      "outputs": []
    },
    {
      "cell_type": "code",
      "metadata": {
        "id": "9fbSRFkOOqf4"
      },
      "source": [
        ""
      ],
      "execution_count": null,
      "outputs": []
    },
    {
      "cell_type": "code",
      "metadata": {
        "id": "uY38nc2zOqiI"
      },
      "source": [
        ""
      ],
      "execution_count": null,
      "outputs": []
    },
    {
      "cell_type": "code",
      "metadata": {
        "id": "G0LP5fA9OqkW"
      },
      "source": [
        ""
      ],
      "execution_count": null,
      "outputs": []
    },
    {
      "cell_type": "code",
      "metadata": {
        "id": "3njDPDTukZ5k"
      },
      "source": [
        ""
      ],
      "execution_count": null,
      "outputs": []
    },
    {
      "cell_type": "code",
      "metadata": {
        "id": "nsg8i6gu2zNQ"
      },
      "source": [
        ""
      ],
      "execution_count": null,
      "outputs": []
    },
    {
      "cell_type": "code",
      "metadata": {
        "colab": {
          "base_uri": "https://localhost:8080/"
        },
        "id": "Va2Sjj_oa-QM",
        "outputId": "c2a507f7-c6f8-4a24-879b-97b07f42009d"
      },
      "source": [
        "# Order a DataFrame by ascending values\n",
        "df.orderBy(df[\"points\"].asc()).show(5)"
      ],
      "execution_count": null,
      "outputs": [
        {
          "output_type": "stream",
          "text": [
            "+-------+--------------------+--------------------+------+-----+--------+------------------+--------------+-------+------------+\n",
            "|country|         description|         designation|points|price|province|          region_1|      region_2|variety|      winery|\n",
            "+-------+--------------------+--------------------+------+-----+--------+------------------+--------------+-------+------------+\n",
            "|     US|The strong aroma ...|                null|  null| null|    null|              null|          null|   null|        null|\n",
            "|  Italy|This offers gener...|                null|  null| null|    null|              null|          null|   null|        null|\n",
            "|     US|This shows a deft...|                null|  null| null|    null|              null|          null|   null|        null|\n",
            "|  Italy|\"This nicely stru...| bitter almond an...|  null|   88|      24|Northeastern Italy|Venezia Giulia|   null|Pinot Grigio|\n",
            "|     US|               Ripe |                null|  null| null|    null|              null|          null|   null|        null|\n",
            "+-------+--------------------+--------------------+------+-----+--------+------------------+--------------+-------+------------+\n",
            "only showing top 5 rows\n",
            "\n"
          ],
          "name": "stdout"
        }
      ]
    },
    {
      "cell_type": "code",
      "metadata": {
        "colab": {
          "base_uri": "https://localhost:8080/"
        },
        "id": "LJhqS-3qQFRI",
        "outputId": "494a2ec8-d21d-48a6-f3c2-2b2d2d54917c"
      },
      "source": [
        "# Order a DataFrame by descending values\n",
        "df.orderBy(df[\"points\"].desc()).show(5)"
      ],
      "execution_count": null,
      "outputs": [
        {
          "output_type": "stream",
          "text": [
            "+-------+--------------------+--------------------+------+-----+----------+-----------+--------+--------------------+--------------------+\n",
            "|country|         description|         designation|points|price|  province|   region_1|region_2|             variety|              winery|\n",
            "+-------+--------------------+--------------------+------+-----+----------+-----------+--------+--------------------+--------------------+\n",
            "|     US|This is an absolu...|           IX Estate|    99|  290|California|Napa Valley|    Napa|           Red Blend|              Colgin|\n",
            "| France|98-100 Barrel sam...|       Barrel sample|    99| null|  Bordeaux|   Pauillac|    null|Bordeaux-style Re...|Ch̢teau Pontet-Canet|\n",
            "|     US|There are incredi...|Elevation 1147 Es...|    99|  150|California|Napa Valley|    Napa|  Cabernet Sauvignon|        David Arthur|\n",
            "| France|A magnificent Cha...|Dom P̩rignon Oeno...|    99|  385| Champagne|  Champagne|    null|     Champagne Blend|     Mo��t & Chandon|\n",
            "|  Italy|Even better than ...|             Masseto|    99|  250|   Tuscany|    Toscana|    null|              Merlot|Tenuta dell'Ornel...|\n",
            "+-------+--------------------+--------------------+------+-----+----------+-----------+--------+--------------------+--------------------+\n",
            "only showing top 5 rows\n",
            "\n"
          ],
          "name": "stdout"
        }
      ]
    },
    {
      "cell_type": "code",
      "metadata": {
        "colab": {
          "base_uri": "https://localhost:8080/"
        },
        "id": "-pREWDG0a-QQ",
        "outputId": "5582156a-e008-47c7-b9f5-70a10897c169"
      },
      "source": [
        "# Import average function\n",
        "from pyspark.sql.functions import avg\n",
        "df.select(avg(\"points\")).show()"
      ],
      "execution_count": null,
      "outputs": [
        {
          "output_type": "stream",
          "text": [
            "+-----------------+\n",
            "|      avg(points)|\n",
            "+-----------------+\n",
            "|87.88834105383143|\n",
            "+-----------------+\n",
            "\n"
          ],
          "name": "stdout"
        }
      ]
    },
    {
      "cell_type": "code",
      "metadata": {
        "colab": {
          "base_uri": "https://localhost:8080/"
        },
        "id": "Iy7YqMo7a-QU",
        "scrolled": true,
        "outputId": "c6978865-79d1-4f80-f226-10b7ceeaf833"
      },
      "source": [
        "# Using filter\n",
        "df.filter(\"price<20\").show()"
      ],
      "execution_count": null,
      "outputs": [
        {
          "output_type": "stream",
          "text": [
            "+---------+--------------------+--------------------+------+-----+----------------+--------------------+--------------------+--------------------+--------------------+\n",
            "|  country|         description|         designation|points|price|        province|            region_1|            region_2|             variety|              winery|\n",
            "+---------+--------------------+--------------------+------+-----+----------------+--------------------+--------------------+--------------------+--------------------+\n",
            "| Bulgaria|This Bulgarian Ma...|             Bergul̩|    90|   15|        Bulgaria|                null|                null|              Mavrud|        Villa Melnik|\n",
            "|    Spain|Earthy plum and c...|              Amandi|    90|   17|         Galicia|       Ribeira Sacra|                null|             Menc�_a|      Don Bernardino|\n",
            "|       US|There's a lot to ...|                null|    90|   18|      California|Russian River Valley|              Sonoma|          Chardonnay|            De Loach|\n",
            "|       US|Massively fruity,...|                null|    91|   19|          Oregon|   Willamette Valley|   Willamette Valley|          Pinot Gris|   Trinity Vineyards|\n",
            "| Portugal|It is the ripe da...|             Premium|    91|   15|        Alentejo|                null|                null|      Portuguese Red|Adega Cooperativa...|\n",
            "|       US|Bright, light oak...|                null|    86|   10|      California|          California|    California Other|  Cabernet Sauvignon|      Belle Ambiance|\n",
            "| Portugal|The local Baga gr...|Marqu̻s de Marial...|    86|   12| Beira Atlantico|                null|                null|                Baga| Adega de Cantanhede|\n",
            "|       US|A smoky scent and...|     Small Lot Blend|    86|   13|      California|    Mendocino County|Mendocino/Lake Co...|          Chardonnay|            Parducci|\n",
            "| Portugal|This family-owned...|      Muros de Vinha|    86|   10|           Douro|                null|                null|      Portuguese Red|    Quinta do Portal|\n",
            "|   France|This is a smooth,...|Ch̢teau Beauvilla...|    86|   14|Southwest France|              Cahors|                null|       Malbec-Merlot|               Rigal|\n",
            "|       US|This is an easygo...|                null|    86|   18|      California|          California|    California Other|          Chardonnay|     The Naked Grape|\n",
            "|   France|Closer to Bordeau...|           Pigmentum|    86|   15|Southwest France|               Buzet|                null|       Merlot-Malbec|   Georges Vigouroux|\n",
            "|   France|This is a blend o...|           Pigmentum|    86|   10|Southwest France|   C̫tes de Gascogne|                null|Ugni Blanc-Colombard|   Georges Vigouroux|\n",
            "|       US|Aromas of ripe (l...|Tudor Hills Vineyard|    86|   17|      Washington|       Yakima Valley|     Columbia Valley|        Pinot Grigio| Martinez & Martinez|\n",
            "|       US|Strong wood smoke...|                null|    86|   12|      California|                Lodi|      Central Valley|      Cabernet Franc|           Ironstone|\n",
            "|       US|This medium-bodie...|                null|    86|   10|      California|          California|    California Other|          Chardonnay|       Leaping Horse|\n",
            "|       US|This wine is dry ...|                null|    86|   13|      California|          California|    California Other|         White Blend|        Kitchen Sink|\n",
            "| Portugal|This state-owned ...|Companhia das Lez...|    86|   12|            Tejo|                null|                null|      Portuguese Red|  Wines & Winemakers|\n",
            "|Argentina|This copper-tinte...|Terroir �_nico Pi...|    86|   12|Mendoza Province|           Tupungato|                null|                Ros̩|              Zorzal|\n",
            "|Argentina|Aromas of prune, ...|             Reserva|    86|   15|Mendoza Province|        Valle de Uco|                null|              Malbec|             Vi̱alba|\n",
            "+---------+--------------------+--------------------+------+-----+----------------+--------------------+--------------------+--------------------+--------------------+\n",
            "only showing top 20 rows\n",
            "\n"
          ],
          "name": "stdout"
        }
      ]
    },
    {
      "cell_type": "code",
      "metadata": {
        "colab": {
          "base_uri": "https://localhost:8080/"
        },
        "id": "ww7emkaea-QY",
        "outputId": "e77bc097-2659-4398-fe87-5c362a1cd485"
      },
      "source": [
        "# Filter by price on certain columns\n",
        "df.filter(\"price<20\").select(['points','country', 'winery','price']).show()"
      ],
      "execution_count": null,
      "outputs": [
        {
          "output_type": "stream",
          "text": [
            "+------+---------+--------------------+-----+\n",
            "|points|  country|              winery|price|\n",
            "+------+---------+--------------------+-----+\n",
            "|    90| Bulgaria|        Villa Melnik|   15|\n",
            "|    90|    Spain|      Don Bernardino|   17|\n",
            "|    90|       US|            De Loach|   18|\n",
            "|    91|       US|   Trinity Vineyards|   19|\n",
            "|    91| Portugal|Adega Cooperativa...|   15|\n",
            "|    86|       US|      Belle Ambiance|   10|\n",
            "|    86| Portugal| Adega de Cantanhede|   12|\n",
            "|    86|       US|            Parducci|   13|\n",
            "|    86| Portugal|    Quinta do Portal|   10|\n",
            "|    86|   France|               Rigal|   14|\n",
            "|    86|       US|     The Naked Grape|   18|\n",
            "|    86|   France|   Georges Vigouroux|   15|\n",
            "|    86|   France|   Georges Vigouroux|   10|\n",
            "|    86|       US| Martinez & Martinez|   17|\n",
            "|    86|       US|           Ironstone|   12|\n",
            "|    86|       US|       Leaping Horse|   10|\n",
            "|    86|       US|        Kitchen Sink|   13|\n",
            "|    86| Portugal|  Wines & Winemakers|   12|\n",
            "|    86|Argentina|              Zorzal|   12|\n",
            "|    86|Argentina|             Vi̱alba|   15|\n",
            "+------+---------+--------------------+-----+\n",
            "only showing top 20 rows\n",
            "\n"
          ],
          "name": "stdout"
        }
      ]
    },
    {
      "cell_type": "markdown",
      "metadata": {
        "id": "WPuwAnZ_a-Qc"
      },
      "source": [
        "### Using Python Comparison Operators"
      ]
    },
    {
      "cell_type": "code",
      "metadata": {
        "colab": {
          "base_uri": "https://localhost:8080/"
        },
        "id": "6WYZQGNIa-Qd",
        "outputId": "0b33f2f8-2c28-45c7-9837-2d21c4d6c0dc"
      },
      "source": [
        "# Same results only this time using python\n",
        "df.filter(df[\"price\"] < 200).show()"
      ],
      "execution_count": null,
      "outputs": [
        {
          "output_type": "stream",
          "text": [
            "+-------+--------------------+--------------------+------+-----+------------------+------------------+-----------------+------------------+--------------------+\n",
            "|country|         description|         designation|points|price|          province|          region_1|         region_2|           variety|              winery|\n",
            "+-------+--------------------+--------------------+------+-----+------------------+------------------+-----------------+------------------+--------------------+\n",
            "|  Spain|Ripe aromas of fi...|Carodorum Selecci...|    96|  110|    Northern Spain|              Toro|             null|     Tinta de Toro|Bodega Carmen Rod...|\n",
            "|     US|Mac Watson honors...|Special Selected ...|    96|   90|        California|    Knights Valley|           Sonoma|   Sauvignon Blanc|            Macauley|\n",
            "|     US|This spent 20 mon...|             Reserve|    96|   65|            Oregon| Willamette Valley|Willamette Valley|        Pinot Noir|               Ponzi|\n",
            "| France|This is the top w...|         La Br��lade|    95|   66|          Provence|            Bandol|             null|Provence red blend|Domaine de la B̩gude|\n",
            "|  Spain|Deep, dense and p...|           Numanthia|    95|   73|    Northern Spain|              Toro|             null|     Tinta de Toro|           Numanthia|\n",
            "|  Spain|Slightly gritty b...|          San Rom��n|    95|   65|    Northern Spain|              Toro|             null|     Tinta de Toro|            Maurodos|\n",
            "|  Spain|Lush cedary black...|Carodorum �_nico ...|    95|  110|    Northern Spain|              Toro|             null|     Tinta de Toro|Bodega Carmen Rod...|\n",
            "|     US|This re-named vin...|              Silice|    95|   65|            Oregon|Chehalem Mountains|Willamette Valley|        Pinot Noir|           Bergstr̦m|\n",
            "|     US|The producer sour...|Gap's Crown Vineyard|    95|   60|        California|      Sonoma Coast|           Sonoma|        Pinot Noir|           Blue Farm|\n",
            "|  Italy|Elegance, complex...|  Ronco della Chiesa|    95|   80|Northeastern Italy|            Collio|             null|          Friulano|    Borgo del Tiglio|\n",
            "|     US|From 18-year-old ...|Estate Vineyard W...|    95|   48|            Oregon|      Ribbon Ridge|Willamette Valley|        Pinot Noir|Patricia Green Ce...|\n",
            "|     US|A standout even i...|      Weber Vineyard|    95|   48|            Oregon|      Dundee Hills|Willamette Valley|        Pinot Noir|Patricia Green Ce...|\n",
            "| France|This wine is in p...|Ch̢teau Montus Pr...|    95|   90|  Southwest France|           Madiran|             null|            Tannat|   Vignobles Brumont|\n",
            "|     US|With its sophisti...|      Grace Vineyard|    95|  185|            Oregon|      Dundee Hills|Willamette Valley|        Pinot Noir|      Domaine Serene|\n",
            "|     US|First made in 200...|              Sigrid|    95|   90|            Oregon| Willamette Valley|Willamette Valley|        Chardonnay|           Bergstr̦m|\n",
            "|  Spain|Nicely oaked blac...|6 A̱os Reserva Pr...|    95|   80|    Northern Spain|  Ribera del Duero|             null|       Tempranillo|            Valduero|\n",
            "|     US|This fresh and li...|Gap's Crown Vineyard|    95|   75|        California|      Sonoma Coast|           Sonoma|        Pinot Noir|        Gary Farrell|\n",
            "|     US|Heitz has made th...|          Grignolino|    95|   24|        California|       Napa Valley|             Napa|              Ros̩|               Heitz|\n",
            "|  Spain|Alluring, complex...|Prado Enea Gran R...|    95|   79|    Northern Spain|             Rioja|             null| Tempranillo Blend|                Muga|\n",
            "|     US|The apogee of thi...|       Giallo Solare|    95|   60|        California|       Edna Valley|    Central Coast|        Chardonnay|    Center of Effort|\n",
            "+-------+--------------------+--------------------+------+-----+------------------+------------------+-----------------+------------------+--------------------+\n",
            "only showing top 20 rows\n",
            "\n"
          ],
          "name": "stdout"
        }
      ]
    },
    {
      "cell_type": "code",
      "metadata": {
        "colab": {
          "base_uri": "https://localhost:8080/",
          "height": 489
        },
        "id": "JK41k68oa-Qh",
        "outputId": "ddffa3b8-105b-461f-fc5e-1c86892be0f8"
      },
      "source": [
        "df.filter( (df[\"price\"] < 200) | (df['points'] > 80) ).show()"
      ],
      "execution_count": null,
      "outputs": [
        {
          "output_type": "stream",
          "text": [
            "+-------+--------------------+--------------------+------+-----+------------------+--------------------+-----------------+------------------+--------------------+\n",
            "|country|         description|         designation|points|price|          province|            region_1|         region_2|           variety|              winery|\n",
            "+-------+--------------------+--------------------+------+-----+------------------+--------------------+-----------------+------------------+--------------------+\n",
            "|     US|This tremendous 1...|   Martha's Vineyard|    96|  235|        California|         Napa Valley|             Napa|Cabernet Sauvignon|               Heitz|\n",
            "|  Spain|Ripe aromas of fi...|Carodorum Selecci...|    96|  110|    Northern Spain|                Toro|             null|     Tinta de Toro|Bodega Carmen Rod...|\n",
            "|     US|Mac Watson honors...|Special Selected ...|    96|   90|        California|      Knights Valley|           Sonoma|   Sauvignon Blanc|            Macauley|\n",
            "|     US|This spent 20 mon...|             Reserve|    96|   65|            Oregon|   Willamette Valley|Willamette Valley|        Pinot Noir|               Ponzi|\n",
            "| France|This is the top w...|         La Br��lade|    95|   66|          Provence|              Bandol|             null|Provence red blend|Domaine de la B̩gude|\n",
            "|  Spain|Deep, dense and p...|           Numanthia|    95|   73|    Northern Spain|                Toro|             null|     Tinta de Toro|           Numanthia|\n",
            "|  Spain|Slightly gritty b...|          San Rom��n|    95|   65|    Northern Spain|                Toro|             null|     Tinta de Toro|            Maurodos|\n",
            "|  Spain|Lush cedary black...|Carodorum �_nico ...|    95|  110|    Northern Spain|                Toro|             null|     Tinta de Toro|Bodega Carmen Rod...|\n",
            "|     US|This re-named vin...|              Silice|    95|   65|            Oregon|  Chehalem Mountains|Willamette Valley|        Pinot Noir|           Bergstr̦m|\n",
            "|     US|The producer sour...|Gap's Crown Vineyard|    95|   60|        California|        Sonoma Coast|           Sonoma|        Pinot Noir|           Blue Farm|\n",
            "|  Italy|Elegance, complex...|  Ronco della Chiesa|    95|   80|Northeastern Italy|              Collio|             null|          Friulano|    Borgo del Tiglio|\n",
            "|     US|From 18-year-old ...|Estate Vineyard W...|    95|   48|            Oregon|        Ribbon Ridge|Willamette Valley|        Pinot Noir|Patricia Green Ce...|\n",
            "|     US|A standout even i...|      Weber Vineyard|    95|   48|            Oregon|        Dundee Hills|Willamette Valley|        Pinot Noir|Patricia Green Ce...|\n",
            "| France|This wine is in p...|Ch̢teau Montus Pr...|    95|   90|  Southwest France|             Madiran|             null|            Tannat|   Vignobles Brumont|\n",
            "|     US|With its sophisti...|      Grace Vineyard|    95|  185|            Oregon|        Dundee Hills|Willamette Valley|        Pinot Noir|      Domaine Serene|\n",
            "|     US|First made in 200...|              Sigrid|    95|   90|            Oregon|   Willamette Valley|Willamette Valley|        Chardonnay|           Bergstr̦m|\n",
            "|     US|This blockbuster,...|     Rainin Vineyard|    95|  325|        California|Diamond Mountain ...|             Napa|Cabernet Sauvignon|                Hall|\n",
            "|  Spain|Nicely oaked blac...|6 A̱os Reserva Pr...|    95|   80|    Northern Spain|    Ribera del Duero|             null|       Tempranillo|            Valduero|\n",
            "| France|Coming from a sev...|       Le Pigeonnier|    95|  290|  Southwest France|              Cahors|             null|            Malbec|  Ch̢teau Lagr̩zette|\n",
            "|     US|This fresh and li...|Gap's Crown Vineyard|    95|   75|        California|        Sonoma Coast|           Sonoma|        Pinot Noir|        Gary Farrell|\n",
            "+-------+--------------------+--------------------+------+-----+------------------+--------------------+-----------------+------------------+--------------------+\n",
            "only showing top 20 rows\n",
            "\n"
          ],
          "name": "stdout"
        }
      ]
    },
    {
      "cell_type": "code",
      "metadata": {
        "colab": {
          "base_uri": "https://localhost:8080/",
          "height": 489
        },
        "id": "bmlEBelya-Qo",
        "outputId": "c7d74efa-e9e9-4ace-8ef3-b912a71ff6ca"
      },
      "source": [
        "df.filter(df[\"country\"] == \"US\").show()"
      ],
      "execution_count": null,
      "outputs": [
        {
          "output_type": "stream",
          "text": [
            "+-------+--------------------+--------------------+------+-----+----------+--------------------+-----------------+------------------+--------------------+\n",
            "|country|         description|         designation|points|price|  province|            region_1|         region_2|           variety|              winery|\n",
            "+-------+--------------------+--------------------+------+-----+----------+--------------------+-----------------+------------------+--------------------+\n",
            "|     US|This tremendous 1...|   Martha's Vineyard|    96|  235|California|         Napa Valley|             Napa|Cabernet Sauvignon|               Heitz|\n",
            "|     US|Mac Watson honors...|Special Selected ...|    96|   90|California|      Knights Valley|           Sonoma|   Sauvignon Blanc|            Macauley|\n",
            "|     US|This spent 20 mon...|             Reserve|    96|   65|    Oregon|   Willamette Valley|Willamette Valley|        Pinot Noir|               Ponzi|\n",
            "|     US|This re-named vin...|              Silice|    95|   65|    Oregon|  Chehalem Mountains|Willamette Valley|        Pinot Noir|           Bergstr̦m|\n",
            "|     US|The producer sour...|Gap's Crown Vineyard|    95|   60|California|        Sonoma Coast|           Sonoma|        Pinot Noir|           Blue Farm|\n",
            "|     US|From 18-year-old ...|Estate Vineyard W...|    95|   48|    Oregon|        Ribbon Ridge|Willamette Valley|        Pinot Noir|Patricia Green Ce...|\n",
            "|     US|A standout even i...|      Weber Vineyard|    95|   48|    Oregon|        Dundee Hills|Willamette Valley|        Pinot Noir|Patricia Green Ce...|\n",
            "|     US|With its sophisti...|      Grace Vineyard|    95|  185|    Oregon|        Dundee Hills|Willamette Valley|        Pinot Noir|      Domaine Serene|\n",
            "|     US|First made in 200...|              Sigrid|    95|   90|    Oregon|   Willamette Valley|Willamette Valley|        Chardonnay|           Bergstr̦m|\n",
            "|     US|This blockbuster,...|     Rainin Vineyard|    95|  325|California|Diamond Mountain ...|             Napa|Cabernet Sauvignon|                Hall|\n",
            "|     US|This fresh and li...|Gap's Crown Vineyard|    95|   75|California|        Sonoma Coast|           Sonoma|        Pinot Noir|        Gary Farrell|\n",
            "|     US|Heitz has made th...|          Grignolino|    95|   24|California|         Napa Valley|             Napa|              Ros̩|               Heitz|\n",
            "|     US|The apogee of thi...|       Giallo Solare|    95|   60|California|         Edna Valley|    Central Coast|        Chardonnay|    Center of Effort|\n",
            "|     US|San Jose-based pr...|       R-Bar-R Ranch|    95|   45|California|Santa Cruz Mountains|    Central Coast|        Pinot Noir|            Comartin|\n",
            "|     US|Bergstr̦m has mad...|       Shea Vineyard|    94|   62|    Oregon|   Willamette Valley|             null|        Pinot Noir|           Bergstr̦m|\n",
            "|     US|Focused and dense...|             Abetina|    94|  105|    Oregon|   Willamette Valley|Willamette Valley|        Pinot Noir|               Ponzi|\n",
            "|     US|Cranberry, baked ...|     Garys' Vineyard|    94|   60|California|Santa Lucia Highl...|    Central Coast|        Pinot Noir|                Roar|\n",
            "|     US|This standout Roc...|     The Funk Estate|    94|   60|Washington|Walla Walla Valle...|  Columbia Valley|             Syrah|              Saviah|\n",
            "|     US|Steely and perfum...|            Babushka|    90|   37|California|Russian River Valley|           Sonoma|        Chardonnay|            Zepaltas|\n",
            "|     US|The aromas entice...| Conner Lee Vineyard|    90|   42|Washington|Columbia Valley (WA)|  Columbia Valley|        Chardonnay|                Buty|\n",
            "+-------+--------------------+--------------------+------+-----+----------+--------------------+-----------------+------------------+--------------------+\n",
            "only showing top 20 rows\n",
            "\n"
          ],
          "name": "stdout"
        }
      ]
    },
    {
      "cell_type": "code",
      "metadata": {
        "id": "mU8w-D46cPtA"
      },
      "source": [
        ""
      ],
      "execution_count": null,
      "outputs": []
    }
  ]
}