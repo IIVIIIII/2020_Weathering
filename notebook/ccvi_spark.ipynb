{
  "nbformat": 4,
  "nbformat_minor": 0,
  "metadata": {
    "anaconda-cloud": {},
    "colab": {
      "name": "ccvi_spark.ipynb",
      "provenance": [],
      "collapsed_sections": [],
      "include_colab_link": true
    },
    "kernelspec": {
      "display_name": "Python 3",
      "language": "python",
      "name": "python3"
    },
    "language_info": {
      "codemirror_mode": {
        "name": "ipython",
        "version": 3
      },
      "file_extension": ".py",
      "mimetype": "text/x-python",
      "name": "python",
      "nbconvert_exporter": "python",
      "pygments_lexer": "ipython3",
      "version": "3.8.3"
    },
    "varInspector": {
      "cols": {
        "lenName": 16,
        "lenType": 16,
        "lenVar": 40
      },
      "kernels_config": {
        "python": {
          "delete_cmd_postfix": "",
          "delete_cmd_prefix": "del ",
          "library": "var_list.py",
          "varRefreshCmd": "print(var_dic_list())"
        },
        "r": {
          "delete_cmd_postfix": ") ",
          "delete_cmd_prefix": "rm(",
          "library": "var_list.r",
          "varRefreshCmd": "cat(var_dic_list()) "
        }
      },
      "types_to_exclude": [
        "module",
        "function",
        "builtin_function_or_method",
        "instance",
        "_Feature"
      ],
      "window_display": false
    }
  },
  "cells": [
    {
      "cell_type": "markdown",
      "metadata": {
        "id": "view-in-github",
        "colab_type": "text"
      },
      "source": [
        "<a href=\"https://colab.research.google.com/github/IIVIIIII/2020_Weathering/blob/main/notebook/ccvi_spark.ipynb\" target=\"_parent\"><img src=\"https://colab.research.google.com/assets/colab-badge.svg\" alt=\"Open In Colab\"/></a>"
      ]
    },
    {
      "cell_type": "markdown",
      "metadata": {
        "id": "gwcSTHMra-P-"
      },
      "source": [
        "## Filtering Data"
      ]
    },
    {
      "cell_type": "code",
      "metadata": {
        "colab": {
          "base_uri": "https://localhost:8080/"
        },
        "id": "nx-RvtVhbIdh",
        "outputId": "93564e89-0eff-4b28-f349-81f52c8e6e2f"
      },
      "source": [
        "import os\n",
        "# Find the latest version of spark 3.0  from http://www-us.apache.org/dist/spark/ and enter as the spark version\n",
        "# For example:\n",
        "# spark_version = 'spark-3.0.2'\n",
        "spark_version = 'spark-3.1.2'\n",
        "os.environ['SPARK_VERSION']=spark_version\n",
        "\n",
        "# Install Spark and Java\n",
        "!apt-get update\n",
        "!apt-get install openjdk-11-jdk-headless -qq > /dev/null\n",
        "!wget -q http://www-us.apache.org/dist/spark/$SPARK_VERSION/$SPARK_VERSION-bin-hadoop2.7.tgz\n",
        "!tar xf $SPARK_VERSION-bin-hadoop2.7.tgz\n",
        "!pip install -q findspark\n",
        "\n",
        "# Set Environment Variables\n",
        "os.environ[\"JAVA_HOME\"] = \"/usr/lib/jvm/java-11-openjdk-amd64\"\n",
        "os.environ[\"SPARK_HOME\"] = f\"/content/{spark_version}-bin-hadoop2.7\"\n",
        "\n",
        "# Start a SparkSession\n",
        "import findspark\n",
        "findspark.init()"
      ],
      "execution_count": 2,
      "outputs": [
        {
          "output_type": "stream",
          "text": [
            "\r0% [Working]\r            \rHit:1 http://security.ubuntu.com/ubuntu bionic-security InRelease\n",
            "\r0% [Connecting to archive.ubuntu.com (91.189.88.142)] [Connecting to cloud.r-pr\r0% [1 InRelease gpgv 88.7 kB] [Connecting to archive.ubuntu.com (91.189.88.142)\r                                                                               \rIgn:2 https://developer.download.nvidia.com/compute/cuda/repos/ubuntu1804/x86_64  InRelease\n",
            "\r0% [1 InRelease gpgv 88.7 kB] [Connecting to archive.ubuntu.com (91.189.88.142)\r                                                                               \rHit:3 https://cloud.r-project.org/bin/linux/ubuntu bionic-cran40/ InRelease\n",
            "\r0% [1 InRelease gpgv 88.7 kB] [Waiting for headers] [Waiting for headers] [Wait\r                                                                               \rIgn:4 https://developer.download.nvidia.com/compute/machine-learning/repos/ubuntu1804/x86_64  InRelease\n",
            "\r                                                                               \r0% [1 InRelease gpgv 88.7 kB] [Waiting for headers] [Waiting for headers]\r                                                                         \rHit:5 http://ppa.launchpad.net/c2d4u.team/c2d4u4.0+/ubuntu bionic InRelease\n",
            "Hit:6 https://developer.download.nvidia.com/compute/cuda/repos/ubuntu1804/x86_64  Release\n",
            "Hit:7 https://developer.download.nvidia.com/compute/machine-learning/repos/ubuntu1804/x86_64  Release\n",
            "Hit:8 http://archive.ubuntu.com/ubuntu bionic InRelease\n",
            "Hit:9 http://archive.ubuntu.com/ubuntu bionic-updates InRelease\n",
            "Hit:10 http://ppa.launchpad.net/cran/libgit2/ubuntu bionic InRelease\n",
            "Hit:11 http://archive.ubuntu.com/ubuntu bionic-backports InRelease\n",
            "Hit:12 http://ppa.launchpad.net/deadsnakes/ppa/ubuntu bionic InRelease\n",
            "Hit:13 http://ppa.launchpad.net/graphics-drivers/ppa/ubuntu bionic InRelease\n",
            "Reading package lists... Done\n"
          ],
          "name": "stdout"
        }
      ]
    },
    {
      "cell_type": "code",
      "metadata": {
        "id": "7RLRYd3QP2KF"
      },
      "source": [
        "# Start Spark session\n",
        "from pyspark.sql import SparkSession\n",
        "spark = SparkSession.builder.appName(\"sparkFunctions\").getOrCreate()"
      ],
      "execution_count": 3,
      "outputs": []
    },
    {
      "cell_type": "code",
      "metadata": {
        "colab": {
          "base_uri": "https://localhost:8080/"
        },
        "id": "8HZ7JR0Ia-QC",
        "outputId": "804a229e-5745-4631-dc4b-90bd18446395"
      },
      "source": [
        "from pyspark import SparkFiles\n",
        "url =\"https://data.cdc.gov/api/views/n8mc-b4w4/rows.csv\"\n",
        "spark.sparkContext.addFile(url)\n",
        "covid = spark.read.csv(SparkFiles.get(\"rows.csv\"), sep=\",\", header=True)\n",
        "\n",
        "# Show DataFrame\n",
        "covid.show()"
      ],
      "execution_count": 4,
      "outputs": [
        {
          "output_type": "stream",
          "text": [
            "+----------+---------+---------------+----------+----------------+--------------+-------+-------+---------+-------------------------------+-------------------+-------------------+-----------+--------------------+--------------+-------+-------+--------+------------------------+\n",
            "|case_month|res_state|state_fips_code|res_county|county_fips_code|     age_group|    sex|   race|ethnicity|case_positive_specimen_interval|case_onset_interval|            process|exposure_yn|      current_status|symptom_status|hosp_yn| icu_yn|death_yn|underlying_conditions_yn|\n",
            "+----------+---------+---------------+----------+----------------+--------------+-------+-------+---------+-------------------------------+-------------------+-------------------+-----------+--------------------+--------------+-------+-------+--------+------------------------+\n",
            "|   2020-05|       KY|             21|    NELSON|           21179|            NA|     NA|     NA|       NA|                           null|                  0|            Missing|    Missing|Laboratory-confir...|   Symptomatic|    Yes|Missing|      NA|                    null|\n",
            "|   2020-12|       OH|             39|  VAN WERT|           39161|  0 - 17 years|     NA|     NA|       NA|                           null|                  0|Clinical evaluation|    Unknown|Laboratory-confir...|   Symptomatic|     No|Missing|      No|                    null|\n",
            "|   2021-05|       OH|             39|   WYANDOT|           39175|  0 - 17 years|     NA|     NA|       NA|                              0|                  0|Clinical evaluation|    Unknown|       Probable Case|   Symptomatic|     No|     No|      No|                    null|\n",
            "|   2020-12|       MI|             26|     HURON|           26063|18 to 49 years|     NA|     NA|       NA|                           null|               null|            Missing|    Missing|Laboratory-confir...|       Missing|     No|Missing|      NA|                    null|\n",
            "|   2020-05|       WI|             55|      POLK|           55095|18 to 49 years|     NA|     NA|       NA|                           null|               null|            Missing|    Missing|Laboratory-confir...|       Missing|Unknown|Missing|      NA|                    null|\n",
            "|   2021-01|       IL|             17|  RANDOLPH|           17157|18 to 49 years|Missing|Missing|       NA|                           null|                  0|            Missing|    Missing|Laboratory-confir...|       Missing|Missing|Missing| Missing|                    null|\n",
            "|   2021-03|       MI|             26|       BAY|           26017|  0 - 17 years| Female|     NA|       NA|                           null|                  0|            Missing|    Missing|Laboratory-confir...|   Symptomatic|     No|Missing|      NA|                    null|\n",
            "|   2020-11|       MN|             27|    BECKER|           27005|  0 - 17 years| Female|Unknown|  Missing|                              0|               null|            Missing|    Missing|Laboratory-confir...|       Missing|Missing|Missing|      No|                    null|\n",
            "|   2020-10|       NY|             36|  CORTLAND|           36023|  0 - 17 years| Female|     NA|       NA|                              0|               null|            Missing|    Missing|Laboratory-confir...|       Missing|Missing|Missing|      No|                    null|\n",
            "|   2021-01|       ME|             23|CUMBERLAND|           23005|  0 - 17 years| Female|     NA|       NA|                           null|               null|            Missing|    Missing|Laboratory-confir...|       Missing|     No|Missing|      No|                    null|\n",
            "|   2021-02|       GA|             13|  MCDUFFIE|           13189|  0 - 17 years| Female|     NA|       NA|                           null|                  0|            Missing|    Missing|Laboratory-confir...|   Symptomatic|Missing|Missing| Missing|                    null|\n",
            "|   2020-12|       IA|             19|   WAPELLO|           19179|  0 - 17 years| Female|     NA|       NA|                           null|                 23|            Missing|    Missing|       Probable Case|   Symptomatic|Missing|Missing| Missing|                    null|\n",
            "|   2021-01|       RI|             44|   BRISTOL|           44001|18 to 49 years| Female|     NA|       NA|                           null|               null|            Missing|    Missing|Laboratory-confir...|       Missing|Missing|Missing| Missing|                    null|\n",
            "|   2021-01|       KY|             21|   BULLITT|           21029|18 to 49 years| Female|Missing|  Missing|                           null|               null|            Missing|    Missing|       Probable Case|       Missing|Missing|Missing|      No|                    null|\n",
            "|   2021-03|       VA|             51|   CARROLL|           51035|18 to 49 years| Female|     NA|       NA|                           null|               null|            Missing|    Missing|Laboratory-confir...|       Missing|Missing|Missing|      NA|                    null|\n",
            "|   2020-10|       MO|             29|      CLAY|           29047|18 to 49 years| Female|     NA|       NA|                           null|               null|            Missing|    Missing|Laboratory-confir...|       Missing|Missing|Missing| Missing|                    null|\n",
            "|   2020-12|       WA|             53|   COWLITZ|           53015|18 to 49 years| Female|     NA|       NA|                              0|                  0|            Missing|    Missing|Laboratory-confir...|   Symptomatic|     No|Missing| Missing|                    null|\n",
            "|   2020-10|       GA|             13|    FANNIN|           13111|18 to 49 years| Female|Unknown|  Missing|                           null|                  0|            Missing|    Missing|Laboratory-confir...|   Symptomatic|Missing|Missing| Missing|                    null|\n",
            "|   2020-09|       TN|             47|    HARDIN|           47071|18 to 49 years| Female|     NA|       NA|                              0|                  0|            Missing|        Yes|Laboratory-confir...|   Symptomatic|     No|Missing| Missing|                    null|\n",
            "|   2021-02|       NY|             36| JEFFERSON|           36045|18 to 49 years| Female|     NA|       NA|                           null|               null|            Missing|    Missing|Laboratory-confir...|       Missing|Missing|Missing|      No|                    null|\n",
            "+----------+---------+---------------+----------+----------------+--------------+-------+-------+---------+-------------------------------+-------------------+-------------------+-----------+--------------------+--------------+-------+-------+--------+------------------------+\n",
            "only showing top 20 rows\n",
            "\n"
          ],
          "name": "stdout"
        }
      ]
    },
    {
      "cell_type": "code",
      "metadata": {
        "id": "4TnwKt4M2y_d"
      },
      "source": [
        "# url =\"https://github.com/IIVIIIII/2020_Weathering/blob/main/resources/ccvi.csv\"\n",
        "# spark.sparkContext.addFile(url)\n",
        "# ccvi = spark.read.csv(SparkFiles.get(\"ccvi.csv\"), sep=\",\", header=True)\n",
        "\n",
        "# # Show DataFrame\n",
        "# ccvi.show()\n"
      ],
      "execution_count": null,
      "outputs": []
    },
    {
      "cell_type": "code",
      "metadata": {
        "id": "nsg8i6gu2zNQ"
      },
      "source": [
        ""
      ],
      "execution_count": null,
      "outputs": []
    },
    {
      "cell_type": "code",
      "metadata": {
        "colab": {
          "base_uri": "https://localhost:8080/"
        },
        "id": "Va2Sjj_oa-QM",
        "outputId": "c2a507f7-c6f8-4a24-879b-97b07f42009d"
      },
      "source": [
        "# Order a DataFrame by ascending values\n",
        "df.orderBy(df[\"points\"].asc()).show(5)"
      ],
      "execution_count": null,
      "outputs": [
        {
          "output_type": "stream",
          "text": [
            "+-------+--------------------+--------------------+------+-----+--------+------------------+--------------+-------+------------+\n",
            "|country|         description|         designation|points|price|province|          region_1|      region_2|variety|      winery|\n",
            "+-------+--------------------+--------------------+------+-----+--------+------------------+--------------+-------+------------+\n",
            "|     US|The strong aroma ...|                null|  null| null|    null|              null|          null|   null|        null|\n",
            "|  Italy|This offers gener...|                null|  null| null|    null|              null|          null|   null|        null|\n",
            "|     US|This shows a deft...|                null|  null| null|    null|              null|          null|   null|        null|\n",
            "|  Italy|\"This nicely stru...| bitter almond an...|  null|   88|      24|Northeastern Italy|Venezia Giulia|   null|Pinot Grigio|\n",
            "|     US|               Ripe |                null|  null| null|    null|              null|          null|   null|        null|\n",
            "+-------+--------------------+--------------------+------+-----+--------+------------------+--------------+-------+------------+\n",
            "only showing top 5 rows\n",
            "\n"
          ],
          "name": "stdout"
        }
      ]
    },
    {
      "cell_type": "code",
      "metadata": {
        "colab": {
          "base_uri": "https://localhost:8080/"
        },
        "id": "LJhqS-3qQFRI",
        "outputId": "494a2ec8-d21d-48a6-f3c2-2b2d2d54917c"
      },
      "source": [
        "# Order a DataFrame by descending values\n",
        "df.orderBy(df[\"points\"].desc()).show(5)"
      ],
      "execution_count": null,
      "outputs": [
        {
          "output_type": "stream",
          "text": [
            "+-------+--------------------+--------------------+------+-----+----------+-----------+--------+--------------------+--------------------+\n",
            "|country|         description|         designation|points|price|  province|   region_1|region_2|             variety|              winery|\n",
            "+-------+--------------------+--------------------+------+-----+----------+-----------+--------+--------------------+--------------------+\n",
            "|     US|This is an absolu...|           IX Estate|    99|  290|California|Napa Valley|    Napa|           Red Blend|              Colgin|\n",
            "| France|98-100 Barrel sam...|       Barrel sample|    99| null|  Bordeaux|   Pauillac|    null|Bordeaux-style Re...|Ch̢teau Pontet-Canet|\n",
            "|     US|There are incredi...|Elevation 1147 Es...|    99|  150|California|Napa Valley|    Napa|  Cabernet Sauvignon|        David Arthur|\n",
            "| France|A magnificent Cha...|Dom P̩rignon Oeno...|    99|  385| Champagne|  Champagne|    null|     Champagne Blend|     Mo��t & Chandon|\n",
            "|  Italy|Even better than ...|             Masseto|    99|  250|   Tuscany|    Toscana|    null|              Merlot|Tenuta dell'Ornel...|\n",
            "+-------+--------------------+--------------------+------+-----+----------+-----------+--------+--------------------+--------------------+\n",
            "only showing top 5 rows\n",
            "\n"
          ],
          "name": "stdout"
        }
      ]
    },
    {
      "cell_type": "code",
      "metadata": {
        "colab": {
          "base_uri": "https://localhost:8080/"
        },
        "id": "-pREWDG0a-QQ",
        "outputId": "5582156a-e008-47c7-b9f5-70a10897c169"
      },
      "source": [
        "# Import average function\n",
        "from pyspark.sql.functions import avg\n",
        "df.select(avg(\"points\")).show()"
      ],
      "execution_count": null,
      "outputs": [
        {
          "output_type": "stream",
          "text": [
            "+-----------------+\n",
            "|      avg(points)|\n",
            "+-----------------+\n",
            "|87.88834105383143|\n",
            "+-----------------+\n",
            "\n"
          ],
          "name": "stdout"
        }
      ]
    },
    {
      "cell_type": "code",
      "metadata": {
        "colab": {
          "base_uri": "https://localhost:8080/"
        },
        "id": "Iy7YqMo7a-QU",
        "scrolled": true,
        "outputId": "c6978865-79d1-4f80-f226-10b7ceeaf833"
      },
      "source": [
        "# Using filter\n",
        "df.filter(\"price<20\").show()"
      ],
      "execution_count": null,
      "outputs": [
        {
          "output_type": "stream",
          "text": [
            "+---------+--------------------+--------------------+------+-----+----------------+--------------------+--------------------+--------------------+--------------------+\n",
            "|  country|         description|         designation|points|price|        province|            region_1|            region_2|             variety|              winery|\n",
            "+---------+--------------------+--------------------+------+-----+----------------+--------------------+--------------------+--------------------+--------------------+\n",
            "| Bulgaria|This Bulgarian Ma...|             Bergul̩|    90|   15|        Bulgaria|                null|                null|              Mavrud|        Villa Melnik|\n",
            "|    Spain|Earthy plum and c...|              Amandi|    90|   17|         Galicia|       Ribeira Sacra|                null|             Menc�_a|      Don Bernardino|\n",
            "|       US|There's a lot to ...|                null|    90|   18|      California|Russian River Valley|              Sonoma|          Chardonnay|            De Loach|\n",
            "|       US|Massively fruity,...|                null|    91|   19|          Oregon|   Willamette Valley|   Willamette Valley|          Pinot Gris|   Trinity Vineyards|\n",
            "| Portugal|It is the ripe da...|             Premium|    91|   15|        Alentejo|                null|                null|      Portuguese Red|Adega Cooperativa...|\n",
            "|       US|Bright, light oak...|                null|    86|   10|      California|          California|    California Other|  Cabernet Sauvignon|      Belle Ambiance|\n",
            "| Portugal|The local Baga gr...|Marqu̻s de Marial...|    86|   12| Beira Atlantico|                null|                null|                Baga| Adega de Cantanhede|\n",
            "|       US|A smoky scent and...|     Small Lot Blend|    86|   13|      California|    Mendocino County|Mendocino/Lake Co...|          Chardonnay|            Parducci|\n",
            "| Portugal|This family-owned...|      Muros de Vinha|    86|   10|           Douro|                null|                null|      Portuguese Red|    Quinta do Portal|\n",
            "|   France|This is a smooth,...|Ch̢teau Beauvilla...|    86|   14|Southwest France|              Cahors|                null|       Malbec-Merlot|               Rigal|\n",
            "|       US|This is an easygo...|                null|    86|   18|      California|          California|    California Other|          Chardonnay|     The Naked Grape|\n",
            "|   France|Closer to Bordeau...|           Pigmentum|    86|   15|Southwest France|               Buzet|                null|       Merlot-Malbec|   Georges Vigouroux|\n",
            "|   France|This is a blend o...|           Pigmentum|    86|   10|Southwest France|   C̫tes de Gascogne|                null|Ugni Blanc-Colombard|   Georges Vigouroux|\n",
            "|       US|Aromas of ripe (l...|Tudor Hills Vineyard|    86|   17|      Washington|       Yakima Valley|     Columbia Valley|        Pinot Grigio| Martinez & Martinez|\n",
            "|       US|Strong wood smoke...|                null|    86|   12|      California|                Lodi|      Central Valley|      Cabernet Franc|           Ironstone|\n",
            "|       US|This medium-bodie...|                null|    86|   10|      California|          California|    California Other|          Chardonnay|       Leaping Horse|\n",
            "|       US|This wine is dry ...|                null|    86|   13|      California|          California|    California Other|         White Blend|        Kitchen Sink|\n",
            "| Portugal|This state-owned ...|Companhia das Lez...|    86|   12|            Tejo|                null|                null|      Portuguese Red|  Wines & Winemakers|\n",
            "|Argentina|This copper-tinte...|Terroir �_nico Pi...|    86|   12|Mendoza Province|           Tupungato|                null|                Ros̩|              Zorzal|\n",
            "|Argentina|Aromas of prune, ...|             Reserva|    86|   15|Mendoza Province|        Valle de Uco|                null|              Malbec|             Vi̱alba|\n",
            "+---------+--------------------+--------------------+------+-----+----------------+--------------------+--------------------+--------------------+--------------------+\n",
            "only showing top 20 rows\n",
            "\n"
          ],
          "name": "stdout"
        }
      ]
    },
    {
      "cell_type": "code",
      "metadata": {
        "colab": {
          "base_uri": "https://localhost:8080/"
        },
        "id": "ww7emkaea-QY",
        "outputId": "e77bc097-2659-4398-fe87-5c362a1cd485"
      },
      "source": [
        "# Filter by price on certain columns\n",
        "df.filter(\"price<20\").select(['points','country', 'winery','price']).show()"
      ],
      "execution_count": null,
      "outputs": [
        {
          "output_type": "stream",
          "text": [
            "+------+---------+--------------------+-----+\n",
            "|points|  country|              winery|price|\n",
            "+------+---------+--------------------+-----+\n",
            "|    90| Bulgaria|        Villa Melnik|   15|\n",
            "|    90|    Spain|      Don Bernardino|   17|\n",
            "|    90|       US|            De Loach|   18|\n",
            "|    91|       US|   Trinity Vineyards|   19|\n",
            "|    91| Portugal|Adega Cooperativa...|   15|\n",
            "|    86|       US|      Belle Ambiance|   10|\n",
            "|    86| Portugal| Adega de Cantanhede|   12|\n",
            "|    86|       US|            Parducci|   13|\n",
            "|    86| Portugal|    Quinta do Portal|   10|\n",
            "|    86|   France|               Rigal|   14|\n",
            "|    86|       US|     The Naked Grape|   18|\n",
            "|    86|   France|   Georges Vigouroux|   15|\n",
            "|    86|   France|   Georges Vigouroux|   10|\n",
            "|    86|       US| Martinez & Martinez|   17|\n",
            "|    86|       US|           Ironstone|   12|\n",
            "|    86|       US|       Leaping Horse|   10|\n",
            "|    86|       US|        Kitchen Sink|   13|\n",
            "|    86| Portugal|  Wines & Winemakers|   12|\n",
            "|    86|Argentina|              Zorzal|   12|\n",
            "|    86|Argentina|             Vi̱alba|   15|\n",
            "+------+---------+--------------------+-----+\n",
            "only showing top 20 rows\n",
            "\n"
          ],
          "name": "stdout"
        }
      ]
    },
    {
      "cell_type": "markdown",
      "metadata": {
        "id": "WPuwAnZ_a-Qc"
      },
      "source": [
        "### Using Python Comparison Operators"
      ]
    },
    {
      "cell_type": "code",
      "metadata": {
        "colab": {
          "base_uri": "https://localhost:8080/"
        },
        "id": "6WYZQGNIa-Qd",
        "outputId": "0b33f2f8-2c28-45c7-9837-2d21c4d6c0dc"
      },
      "source": [
        "# Same results only this time using python\n",
        "df.filter(df[\"price\"] < 200).show()"
      ],
      "execution_count": null,
      "outputs": [
        {
          "output_type": "stream",
          "text": [
            "+-------+--------------------+--------------------+------+-----+------------------+------------------+-----------------+------------------+--------------------+\n",
            "|country|         description|         designation|points|price|          province|          region_1|         region_2|           variety|              winery|\n",
            "+-------+--------------------+--------------------+------+-----+------------------+------------------+-----------------+------------------+--------------------+\n",
            "|  Spain|Ripe aromas of fi...|Carodorum Selecci...|    96|  110|    Northern Spain|              Toro|             null|     Tinta de Toro|Bodega Carmen Rod...|\n",
            "|     US|Mac Watson honors...|Special Selected ...|    96|   90|        California|    Knights Valley|           Sonoma|   Sauvignon Blanc|            Macauley|\n",
            "|     US|This spent 20 mon...|             Reserve|    96|   65|            Oregon| Willamette Valley|Willamette Valley|        Pinot Noir|               Ponzi|\n",
            "| France|This is the top w...|         La Br��lade|    95|   66|          Provence|            Bandol|             null|Provence red blend|Domaine de la B̩gude|\n",
            "|  Spain|Deep, dense and p...|           Numanthia|    95|   73|    Northern Spain|              Toro|             null|     Tinta de Toro|           Numanthia|\n",
            "|  Spain|Slightly gritty b...|          San Rom��n|    95|   65|    Northern Spain|              Toro|             null|     Tinta de Toro|            Maurodos|\n",
            "|  Spain|Lush cedary black...|Carodorum �_nico ...|    95|  110|    Northern Spain|              Toro|             null|     Tinta de Toro|Bodega Carmen Rod...|\n",
            "|     US|This re-named vin...|              Silice|    95|   65|            Oregon|Chehalem Mountains|Willamette Valley|        Pinot Noir|           Bergstr̦m|\n",
            "|     US|The producer sour...|Gap's Crown Vineyard|    95|   60|        California|      Sonoma Coast|           Sonoma|        Pinot Noir|           Blue Farm|\n",
            "|  Italy|Elegance, complex...|  Ronco della Chiesa|    95|   80|Northeastern Italy|            Collio|             null|          Friulano|    Borgo del Tiglio|\n",
            "|     US|From 18-year-old ...|Estate Vineyard W...|    95|   48|            Oregon|      Ribbon Ridge|Willamette Valley|        Pinot Noir|Patricia Green Ce...|\n",
            "|     US|A standout even i...|      Weber Vineyard|    95|   48|            Oregon|      Dundee Hills|Willamette Valley|        Pinot Noir|Patricia Green Ce...|\n",
            "| France|This wine is in p...|Ch̢teau Montus Pr...|    95|   90|  Southwest France|           Madiran|             null|            Tannat|   Vignobles Brumont|\n",
            "|     US|With its sophisti...|      Grace Vineyard|    95|  185|            Oregon|      Dundee Hills|Willamette Valley|        Pinot Noir|      Domaine Serene|\n",
            "|     US|First made in 200...|              Sigrid|    95|   90|            Oregon| Willamette Valley|Willamette Valley|        Chardonnay|           Bergstr̦m|\n",
            "|  Spain|Nicely oaked blac...|6 A̱os Reserva Pr...|    95|   80|    Northern Spain|  Ribera del Duero|             null|       Tempranillo|            Valduero|\n",
            "|     US|This fresh and li...|Gap's Crown Vineyard|    95|   75|        California|      Sonoma Coast|           Sonoma|        Pinot Noir|        Gary Farrell|\n",
            "|     US|Heitz has made th...|          Grignolino|    95|   24|        California|       Napa Valley|             Napa|              Ros̩|               Heitz|\n",
            "|  Spain|Alluring, complex...|Prado Enea Gran R...|    95|   79|    Northern Spain|             Rioja|             null| Tempranillo Blend|                Muga|\n",
            "|     US|The apogee of thi...|       Giallo Solare|    95|   60|        California|       Edna Valley|    Central Coast|        Chardonnay|    Center of Effort|\n",
            "+-------+--------------------+--------------------+------+-----+------------------+------------------+-----------------+------------------+--------------------+\n",
            "only showing top 20 rows\n",
            "\n"
          ],
          "name": "stdout"
        }
      ]
    },
    {
      "cell_type": "code",
      "metadata": {
        "colab": {
          "base_uri": "https://localhost:8080/",
          "height": 489
        },
        "id": "JK41k68oa-Qh",
        "outputId": "ddffa3b8-105b-461f-fc5e-1c86892be0f8"
      },
      "source": [
        "df.filter( (df[\"price\"] < 200) | (df['points'] > 80) ).show()"
      ],
      "execution_count": null,
      "outputs": [
        {
          "output_type": "stream",
          "text": [
            "+-------+--------------------+--------------------+------+-----+------------------+--------------------+-----------------+------------------+--------------------+\n",
            "|country|         description|         designation|points|price|          province|            region_1|         region_2|           variety|              winery|\n",
            "+-------+--------------------+--------------------+------+-----+------------------+--------------------+-----------------+------------------+--------------------+\n",
            "|     US|This tremendous 1...|   Martha's Vineyard|    96|  235|        California|         Napa Valley|             Napa|Cabernet Sauvignon|               Heitz|\n",
            "|  Spain|Ripe aromas of fi...|Carodorum Selecci...|    96|  110|    Northern Spain|                Toro|             null|     Tinta de Toro|Bodega Carmen Rod...|\n",
            "|     US|Mac Watson honors...|Special Selected ...|    96|   90|        California|      Knights Valley|           Sonoma|   Sauvignon Blanc|            Macauley|\n",
            "|     US|This spent 20 mon...|             Reserve|    96|   65|            Oregon|   Willamette Valley|Willamette Valley|        Pinot Noir|               Ponzi|\n",
            "| France|This is the top w...|         La Br��lade|    95|   66|          Provence|              Bandol|             null|Provence red blend|Domaine de la B̩gude|\n",
            "|  Spain|Deep, dense and p...|           Numanthia|    95|   73|    Northern Spain|                Toro|             null|     Tinta de Toro|           Numanthia|\n",
            "|  Spain|Slightly gritty b...|          San Rom��n|    95|   65|    Northern Spain|                Toro|             null|     Tinta de Toro|            Maurodos|\n",
            "|  Spain|Lush cedary black...|Carodorum �_nico ...|    95|  110|    Northern Spain|                Toro|             null|     Tinta de Toro|Bodega Carmen Rod...|\n",
            "|     US|This re-named vin...|              Silice|    95|   65|            Oregon|  Chehalem Mountains|Willamette Valley|        Pinot Noir|           Bergstr̦m|\n",
            "|     US|The producer sour...|Gap's Crown Vineyard|    95|   60|        California|        Sonoma Coast|           Sonoma|        Pinot Noir|           Blue Farm|\n",
            "|  Italy|Elegance, complex...|  Ronco della Chiesa|    95|   80|Northeastern Italy|              Collio|             null|          Friulano|    Borgo del Tiglio|\n",
            "|     US|From 18-year-old ...|Estate Vineyard W...|    95|   48|            Oregon|        Ribbon Ridge|Willamette Valley|        Pinot Noir|Patricia Green Ce...|\n",
            "|     US|A standout even i...|      Weber Vineyard|    95|   48|            Oregon|        Dundee Hills|Willamette Valley|        Pinot Noir|Patricia Green Ce...|\n",
            "| France|This wine is in p...|Ch̢teau Montus Pr...|    95|   90|  Southwest France|             Madiran|             null|            Tannat|   Vignobles Brumont|\n",
            "|     US|With its sophisti...|      Grace Vineyard|    95|  185|            Oregon|        Dundee Hills|Willamette Valley|        Pinot Noir|      Domaine Serene|\n",
            "|     US|First made in 200...|              Sigrid|    95|   90|            Oregon|   Willamette Valley|Willamette Valley|        Chardonnay|           Bergstr̦m|\n",
            "|     US|This blockbuster,...|     Rainin Vineyard|    95|  325|        California|Diamond Mountain ...|             Napa|Cabernet Sauvignon|                Hall|\n",
            "|  Spain|Nicely oaked blac...|6 A̱os Reserva Pr...|    95|   80|    Northern Spain|    Ribera del Duero|             null|       Tempranillo|            Valduero|\n",
            "| France|Coming from a sev...|       Le Pigeonnier|    95|  290|  Southwest France|              Cahors|             null|            Malbec|  Ch̢teau Lagr̩zette|\n",
            "|     US|This fresh and li...|Gap's Crown Vineyard|    95|   75|        California|        Sonoma Coast|           Sonoma|        Pinot Noir|        Gary Farrell|\n",
            "+-------+--------------------+--------------------+------+-----+------------------+--------------------+-----------------+------------------+--------------------+\n",
            "only showing top 20 rows\n",
            "\n"
          ],
          "name": "stdout"
        }
      ]
    },
    {
      "cell_type": "code",
      "metadata": {
        "colab": {
          "base_uri": "https://localhost:8080/",
          "height": 489
        },
        "id": "bmlEBelya-Qo",
        "outputId": "c7d74efa-e9e9-4ace-8ef3-b912a71ff6ca"
      },
      "source": [
        "df.filter(df[\"country\"] == \"US\").show()"
      ],
      "execution_count": null,
      "outputs": [
        {
          "output_type": "stream",
          "text": [
            "+-------+--------------------+--------------------+------+-----+----------+--------------------+-----------------+------------------+--------------------+\n",
            "|country|         description|         designation|points|price|  province|            region_1|         region_2|           variety|              winery|\n",
            "+-------+--------------------+--------------------+------+-----+----------+--------------------+-----------------+------------------+--------------------+\n",
            "|     US|This tremendous 1...|   Martha's Vineyard|    96|  235|California|         Napa Valley|             Napa|Cabernet Sauvignon|               Heitz|\n",
            "|     US|Mac Watson honors...|Special Selected ...|    96|   90|California|      Knights Valley|           Sonoma|   Sauvignon Blanc|            Macauley|\n",
            "|     US|This spent 20 mon...|             Reserve|    96|   65|    Oregon|   Willamette Valley|Willamette Valley|        Pinot Noir|               Ponzi|\n",
            "|     US|This re-named vin...|              Silice|    95|   65|    Oregon|  Chehalem Mountains|Willamette Valley|        Pinot Noir|           Bergstr̦m|\n",
            "|     US|The producer sour...|Gap's Crown Vineyard|    95|   60|California|        Sonoma Coast|           Sonoma|        Pinot Noir|           Blue Farm|\n",
            "|     US|From 18-year-old ...|Estate Vineyard W...|    95|   48|    Oregon|        Ribbon Ridge|Willamette Valley|        Pinot Noir|Patricia Green Ce...|\n",
            "|     US|A standout even i...|      Weber Vineyard|    95|   48|    Oregon|        Dundee Hills|Willamette Valley|        Pinot Noir|Patricia Green Ce...|\n",
            "|     US|With its sophisti...|      Grace Vineyard|    95|  185|    Oregon|        Dundee Hills|Willamette Valley|        Pinot Noir|      Domaine Serene|\n",
            "|     US|First made in 200...|              Sigrid|    95|   90|    Oregon|   Willamette Valley|Willamette Valley|        Chardonnay|           Bergstr̦m|\n",
            "|     US|This blockbuster,...|     Rainin Vineyard|    95|  325|California|Diamond Mountain ...|             Napa|Cabernet Sauvignon|                Hall|\n",
            "|     US|This fresh and li...|Gap's Crown Vineyard|    95|   75|California|        Sonoma Coast|           Sonoma|        Pinot Noir|        Gary Farrell|\n",
            "|     US|Heitz has made th...|          Grignolino|    95|   24|California|         Napa Valley|             Napa|              Ros̩|               Heitz|\n",
            "|     US|The apogee of thi...|       Giallo Solare|    95|   60|California|         Edna Valley|    Central Coast|        Chardonnay|    Center of Effort|\n",
            "|     US|San Jose-based pr...|       R-Bar-R Ranch|    95|   45|California|Santa Cruz Mountains|    Central Coast|        Pinot Noir|            Comartin|\n",
            "|     US|Bergstr̦m has mad...|       Shea Vineyard|    94|   62|    Oregon|   Willamette Valley|             null|        Pinot Noir|           Bergstr̦m|\n",
            "|     US|Focused and dense...|             Abetina|    94|  105|    Oregon|   Willamette Valley|Willamette Valley|        Pinot Noir|               Ponzi|\n",
            "|     US|Cranberry, baked ...|     Garys' Vineyard|    94|   60|California|Santa Lucia Highl...|    Central Coast|        Pinot Noir|                Roar|\n",
            "|     US|This standout Roc...|     The Funk Estate|    94|   60|Washington|Walla Walla Valle...|  Columbia Valley|             Syrah|              Saviah|\n",
            "|     US|Steely and perfum...|            Babushka|    90|   37|California|Russian River Valley|           Sonoma|        Chardonnay|            Zepaltas|\n",
            "|     US|The aromas entice...| Conner Lee Vineyard|    90|   42|Washington|Columbia Valley (WA)|  Columbia Valley|        Chardonnay|                Buty|\n",
            "+-------+--------------------+--------------------+------+-----+----------+--------------------+-----------------+------------------+--------------------+\n",
            "only showing top 20 rows\n",
            "\n"
          ],
          "name": "stdout"
        }
      ]
    },
    {
      "cell_type": "code",
      "metadata": {
        "id": "mU8w-D46cPtA"
      },
      "source": [
        ""
      ],
      "execution_count": null,
      "outputs": []
    }
  ]
}